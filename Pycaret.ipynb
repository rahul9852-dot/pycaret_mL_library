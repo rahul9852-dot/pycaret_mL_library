{
 "cells": [
  {
   "cell_type": "markdown",
   "metadata": {},
   "source": [
    "## Pycaret  in Depth"
   ]
  },
  {
   "cell_type": "code",
   "execution_count": 1,
   "metadata": {},
   "outputs": [],
   "source": [
    "##### Created new enviroment #### conda create -n pycaret python=3.7\n",
    "#### installed Pycaret Library\n",
    "####"
   ]
  },
  {
   "cell_type": "code",
   "execution_count": 2,
   "metadata": {},
   "outputs": [],
   "source": [
    "#### loading dataset from pycaret\n",
    "from pycaret.datasets import get_data"
   ]
  },
  {
   "cell_type": "code",
   "execution_count": 5,
   "metadata": {},
   "outputs": [
    {
     "data": {
      "text/html": [
       "<div>\n",
       "<style scoped>\n",
       "    .dataframe tbody tr th:only-of-type {\n",
       "        vertical-align: middle;\n",
       "    }\n",
       "\n",
       "    .dataframe tbody tr th {\n",
       "        vertical-align: top;\n",
       "    }\n",
       "\n",
       "    .dataframe thead th {\n",
       "        text-align: right;\n",
       "    }\n",
       "</style>\n",
       "<table border=\"1\" class=\"dataframe\">\n",
       "  <thead>\n",
       "    <tr style=\"text-align: right;\">\n",
       "      <th></th>\n",
       "      <th>Number of times pregnant</th>\n",
       "      <th>Plasma glucose concentration a 2 hours in an oral glucose tolerance test</th>\n",
       "      <th>Diastolic blood pressure (mm Hg)</th>\n",
       "      <th>Triceps skin fold thickness (mm)</th>\n",
       "      <th>2-Hour serum insulin (mu U/ml)</th>\n",
       "      <th>Body mass index (weight in kg/(height in m)^2)</th>\n",
       "      <th>Diabetes pedigree function</th>\n",
       "      <th>Age (years)</th>\n",
       "      <th>Class variable</th>\n",
       "    </tr>\n",
       "  </thead>\n",
       "  <tbody>\n",
       "    <tr>\n",
       "      <th>0</th>\n",
       "      <td>6</td>\n",
       "      <td>148</td>\n",
       "      <td>72</td>\n",
       "      <td>35</td>\n",
       "      <td>0</td>\n",
       "      <td>33.6</td>\n",
       "      <td>0.627</td>\n",
       "      <td>50</td>\n",
       "      <td>1</td>\n",
       "    </tr>\n",
       "    <tr>\n",
       "      <th>1</th>\n",
       "      <td>1</td>\n",
       "      <td>85</td>\n",
       "      <td>66</td>\n",
       "      <td>29</td>\n",
       "      <td>0</td>\n",
       "      <td>26.6</td>\n",
       "      <td>0.351</td>\n",
       "      <td>31</td>\n",
       "      <td>0</td>\n",
       "    </tr>\n",
       "    <tr>\n",
       "      <th>2</th>\n",
       "      <td>8</td>\n",
       "      <td>183</td>\n",
       "      <td>64</td>\n",
       "      <td>0</td>\n",
       "      <td>0</td>\n",
       "      <td>23.3</td>\n",
       "      <td>0.672</td>\n",
       "      <td>32</td>\n",
       "      <td>1</td>\n",
       "    </tr>\n",
       "    <tr>\n",
       "      <th>3</th>\n",
       "      <td>1</td>\n",
       "      <td>89</td>\n",
       "      <td>66</td>\n",
       "      <td>23</td>\n",
       "      <td>94</td>\n",
       "      <td>28.1</td>\n",
       "      <td>0.167</td>\n",
       "      <td>21</td>\n",
       "      <td>0</td>\n",
       "    </tr>\n",
       "    <tr>\n",
       "      <th>4</th>\n",
       "      <td>0</td>\n",
       "      <td>137</td>\n",
       "      <td>40</td>\n",
       "      <td>35</td>\n",
       "      <td>168</td>\n",
       "      <td>43.1</td>\n",
       "      <td>2.288</td>\n",
       "      <td>33</td>\n",
       "      <td>1</td>\n",
       "    </tr>\n",
       "  </tbody>\n",
       "</table>\n",
       "</div>"
      ],
      "text/plain": [
       "   Number of times pregnant  \\\n",
       "0                         6   \n",
       "1                         1   \n",
       "2                         8   \n",
       "3                         1   \n",
       "4                         0   \n",
       "\n",
       "   Plasma glucose concentration a 2 hours in an oral glucose tolerance test  \\\n",
       "0                                                148                          \n",
       "1                                                 85                          \n",
       "2                                                183                          \n",
       "3                                                 89                          \n",
       "4                                                137                          \n",
       "\n",
       "   Diastolic blood pressure (mm Hg)  Triceps skin fold thickness (mm)  \\\n",
       "0                                72                                35   \n",
       "1                                66                                29   \n",
       "2                                64                                 0   \n",
       "3                                66                                23   \n",
       "4                                40                                35   \n",
       "\n",
       "   2-Hour serum insulin (mu U/ml)  \\\n",
       "0                               0   \n",
       "1                               0   \n",
       "2                               0   \n",
       "3                              94   \n",
       "4                             168   \n",
       "\n",
       "   Body mass index (weight in kg/(height in m)^2)  Diabetes pedigree function  \\\n",
       "0                                            33.6                       0.627   \n",
       "1                                            26.6                       0.351   \n",
       "2                                            23.3                       0.672   \n",
       "3                                            28.1                       0.167   \n",
       "4                                            43.1                       2.288   \n",
       "\n",
       "   Age (years)  Class variable  \n",
       "0           50               1  \n",
       "1           31               0  \n",
       "2           32               1  \n",
       "3           21               0  \n",
       "4           33               1  "
      ]
     },
     "metadata": {},
     "output_type": "display_data"
    }
   ],
   "source": [
    "### classification Example\n",
    "diabetes_df=get_data(\"diabetes\")"
   ]
  },
  {
   "cell_type": "code",
   "execution_count": 11,
   "metadata": {},
   "outputs": [
    {
     "data": {
      "text/plain": [
       "0    500\n",
       "1    268\n",
       "Name: Class variable, dtype: int64"
      ]
     },
     "execution_count": 11,
     "metadata": {},
     "output_type": "execute_result"
    }
   ],
   "source": [
    "diabetes_df['Class variable'].value_counts()"
   ]
  },
  {
   "cell_type": "code",
   "execution_count": 8,
   "metadata": {},
   "outputs": [
    {
     "name": "stdout",
     "output_type": "stream",
     "text": [
      " \n",
      "Setup Succesfully Completed!\n"
     ]
    },
    {
     "data": {
      "text/html": [
       "<style  type=\"text/css\" >\n",
       "</style><table id=\"T_016b14c0_cf63_11ea_8501_e4029bda51a0\" ><thead>    <tr>        <th class=\"blank level0\" ></th>        <th class=\"col_heading level0 col0\" >Description</th>        <th class=\"col_heading level0 col1\" >Value</th>    </tr></thead><tbody>\n",
       "                <tr>\n",
       "                        <th id=\"T_016b14c0_cf63_11ea_8501_e4029bda51a0level0_row0\" class=\"row_heading level0 row0\" >0</th>\n",
       "                        <td id=\"T_016b14c0_cf63_11ea_8501_e4029bda51a0row0_col0\" class=\"data row0 col0\" >session_id</td>\n",
       "                        <td id=\"T_016b14c0_cf63_11ea_8501_e4029bda51a0row0_col1\" class=\"data row0 col1\" >7859</td>\n",
       "            </tr>\n",
       "            <tr>\n",
       "                        <th id=\"T_016b14c0_cf63_11ea_8501_e4029bda51a0level0_row1\" class=\"row_heading level0 row1\" >1</th>\n",
       "                        <td id=\"T_016b14c0_cf63_11ea_8501_e4029bda51a0row1_col0\" class=\"data row1 col0\" >Target Type</td>\n",
       "                        <td id=\"T_016b14c0_cf63_11ea_8501_e4029bda51a0row1_col1\" class=\"data row1 col1\" >Binary</td>\n",
       "            </tr>\n",
       "            <tr>\n",
       "                        <th id=\"T_016b14c0_cf63_11ea_8501_e4029bda51a0level0_row2\" class=\"row_heading level0 row2\" >2</th>\n",
       "                        <td id=\"T_016b14c0_cf63_11ea_8501_e4029bda51a0row2_col0\" class=\"data row2 col0\" >Label Encoded</td>\n",
       "                        <td id=\"T_016b14c0_cf63_11ea_8501_e4029bda51a0row2_col1\" class=\"data row2 col1\" >None</td>\n",
       "            </tr>\n",
       "            <tr>\n",
       "                        <th id=\"T_016b14c0_cf63_11ea_8501_e4029bda51a0level0_row3\" class=\"row_heading level0 row3\" >3</th>\n",
       "                        <td id=\"T_016b14c0_cf63_11ea_8501_e4029bda51a0row3_col0\" class=\"data row3 col0\" >Original Data</td>\n",
       "                        <td id=\"T_016b14c0_cf63_11ea_8501_e4029bda51a0row3_col1\" class=\"data row3 col1\" >(768, 9)</td>\n",
       "            </tr>\n",
       "            <tr>\n",
       "                        <th id=\"T_016b14c0_cf63_11ea_8501_e4029bda51a0level0_row4\" class=\"row_heading level0 row4\" >4</th>\n",
       "                        <td id=\"T_016b14c0_cf63_11ea_8501_e4029bda51a0row4_col0\" class=\"data row4 col0\" >Missing Values </td>\n",
       "                        <td id=\"T_016b14c0_cf63_11ea_8501_e4029bda51a0row4_col1\" class=\"data row4 col1\" >False</td>\n",
       "            </tr>\n",
       "            <tr>\n",
       "                        <th id=\"T_016b14c0_cf63_11ea_8501_e4029bda51a0level0_row5\" class=\"row_heading level0 row5\" >5</th>\n",
       "                        <td id=\"T_016b14c0_cf63_11ea_8501_e4029bda51a0row5_col0\" class=\"data row5 col0\" >Numeric Features </td>\n",
       "                        <td id=\"T_016b14c0_cf63_11ea_8501_e4029bda51a0row5_col1\" class=\"data row5 col1\" >7</td>\n",
       "            </tr>\n",
       "            <tr>\n",
       "                        <th id=\"T_016b14c0_cf63_11ea_8501_e4029bda51a0level0_row6\" class=\"row_heading level0 row6\" >6</th>\n",
       "                        <td id=\"T_016b14c0_cf63_11ea_8501_e4029bda51a0row6_col0\" class=\"data row6 col0\" >Categorical Features </td>\n",
       "                        <td id=\"T_016b14c0_cf63_11ea_8501_e4029bda51a0row6_col1\" class=\"data row6 col1\" >1</td>\n",
       "            </tr>\n",
       "            <tr>\n",
       "                        <th id=\"T_016b14c0_cf63_11ea_8501_e4029bda51a0level0_row7\" class=\"row_heading level0 row7\" >7</th>\n",
       "                        <td id=\"T_016b14c0_cf63_11ea_8501_e4029bda51a0row7_col0\" class=\"data row7 col0\" >Ordinal Features </td>\n",
       "                        <td id=\"T_016b14c0_cf63_11ea_8501_e4029bda51a0row7_col1\" class=\"data row7 col1\" >False</td>\n",
       "            </tr>\n",
       "            <tr>\n",
       "                        <th id=\"T_016b14c0_cf63_11ea_8501_e4029bda51a0level0_row8\" class=\"row_heading level0 row8\" >8</th>\n",
       "                        <td id=\"T_016b14c0_cf63_11ea_8501_e4029bda51a0row8_col0\" class=\"data row8 col0\" >High Cardinality Features </td>\n",
       "                        <td id=\"T_016b14c0_cf63_11ea_8501_e4029bda51a0row8_col1\" class=\"data row8 col1\" >False</td>\n",
       "            </tr>\n",
       "            <tr>\n",
       "                        <th id=\"T_016b14c0_cf63_11ea_8501_e4029bda51a0level0_row9\" class=\"row_heading level0 row9\" >9</th>\n",
       "                        <td id=\"T_016b14c0_cf63_11ea_8501_e4029bda51a0row9_col0\" class=\"data row9 col0\" >High Cardinality Method </td>\n",
       "                        <td id=\"T_016b14c0_cf63_11ea_8501_e4029bda51a0row9_col1\" class=\"data row9 col1\" >None</td>\n",
       "            </tr>\n",
       "            <tr>\n",
       "                        <th id=\"T_016b14c0_cf63_11ea_8501_e4029bda51a0level0_row10\" class=\"row_heading level0 row10\" >10</th>\n",
       "                        <td id=\"T_016b14c0_cf63_11ea_8501_e4029bda51a0row10_col0\" class=\"data row10 col0\" >Sampled Data</td>\n",
       "                        <td id=\"T_016b14c0_cf63_11ea_8501_e4029bda51a0row10_col1\" class=\"data row10 col1\" >(768, 9)</td>\n",
       "            </tr>\n",
       "            <tr>\n",
       "                        <th id=\"T_016b14c0_cf63_11ea_8501_e4029bda51a0level0_row11\" class=\"row_heading level0 row11\" >11</th>\n",
       "                        <td id=\"T_016b14c0_cf63_11ea_8501_e4029bda51a0row11_col0\" class=\"data row11 col0\" >Transformed Train Set</td>\n",
       "                        <td id=\"T_016b14c0_cf63_11ea_8501_e4029bda51a0row11_col1\" class=\"data row11 col1\" >(537, 24)</td>\n",
       "            </tr>\n",
       "            <tr>\n",
       "                        <th id=\"T_016b14c0_cf63_11ea_8501_e4029bda51a0level0_row12\" class=\"row_heading level0 row12\" >12</th>\n",
       "                        <td id=\"T_016b14c0_cf63_11ea_8501_e4029bda51a0row12_col0\" class=\"data row12 col0\" >Transformed Test Set</td>\n",
       "                        <td id=\"T_016b14c0_cf63_11ea_8501_e4029bda51a0row12_col1\" class=\"data row12 col1\" >(231, 24)</td>\n",
       "            </tr>\n",
       "            <tr>\n",
       "                        <th id=\"T_016b14c0_cf63_11ea_8501_e4029bda51a0level0_row13\" class=\"row_heading level0 row13\" >13</th>\n",
       "                        <td id=\"T_016b14c0_cf63_11ea_8501_e4029bda51a0row13_col0\" class=\"data row13 col0\" >Numeric Imputer </td>\n",
       "                        <td id=\"T_016b14c0_cf63_11ea_8501_e4029bda51a0row13_col1\" class=\"data row13 col1\" >mean</td>\n",
       "            </tr>\n",
       "            <tr>\n",
       "                        <th id=\"T_016b14c0_cf63_11ea_8501_e4029bda51a0level0_row14\" class=\"row_heading level0 row14\" >14</th>\n",
       "                        <td id=\"T_016b14c0_cf63_11ea_8501_e4029bda51a0row14_col0\" class=\"data row14 col0\" >Categorical Imputer </td>\n",
       "                        <td id=\"T_016b14c0_cf63_11ea_8501_e4029bda51a0row14_col1\" class=\"data row14 col1\" >constant</td>\n",
       "            </tr>\n",
       "            <tr>\n",
       "                        <th id=\"T_016b14c0_cf63_11ea_8501_e4029bda51a0level0_row15\" class=\"row_heading level0 row15\" >15</th>\n",
       "                        <td id=\"T_016b14c0_cf63_11ea_8501_e4029bda51a0row15_col0\" class=\"data row15 col0\" >Normalize </td>\n",
       "                        <td id=\"T_016b14c0_cf63_11ea_8501_e4029bda51a0row15_col1\" class=\"data row15 col1\" >False</td>\n",
       "            </tr>\n",
       "            <tr>\n",
       "                        <th id=\"T_016b14c0_cf63_11ea_8501_e4029bda51a0level0_row16\" class=\"row_heading level0 row16\" >16</th>\n",
       "                        <td id=\"T_016b14c0_cf63_11ea_8501_e4029bda51a0row16_col0\" class=\"data row16 col0\" >Normalize Method </td>\n",
       "                        <td id=\"T_016b14c0_cf63_11ea_8501_e4029bda51a0row16_col1\" class=\"data row16 col1\" >None</td>\n",
       "            </tr>\n",
       "            <tr>\n",
       "                        <th id=\"T_016b14c0_cf63_11ea_8501_e4029bda51a0level0_row17\" class=\"row_heading level0 row17\" >17</th>\n",
       "                        <td id=\"T_016b14c0_cf63_11ea_8501_e4029bda51a0row17_col0\" class=\"data row17 col0\" >Transformation </td>\n",
       "                        <td id=\"T_016b14c0_cf63_11ea_8501_e4029bda51a0row17_col1\" class=\"data row17 col1\" >False</td>\n",
       "            </tr>\n",
       "            <tr>\n",
       "                        <th id=\"T_016b14c0_cf63_11ea_8501_e4029bda51a0level0_row18\" class=\"row_heading level0 row18\" >18</th>\n",
       "                        <td id=\"T_016b14c0_cf63_11ea_8501_e4029bda51a0row18_col0\" class=\"data row18 col0\" >Transformation Method </td>\n",
       "                        <td id=\"T_016b14c0_cf63_11ea_8501_e4029bda51a0row18_col1\" class=\"data row18 col1\" >None</td>\n",
       "            </tr>\n",
       "            <tr>\n",
       "                        <th id=\"T_016b14c0_cf63_11ea_8501_e4029bda51a0level0_row19\" class=\"row_heading level0 row19\" >19</th>\n",
       "                        <td id=\"T_016b14c0_cf63_11ea_8501_e4029bda51a0row19_col0\" class=\"data row19 col0\" >PCA </td>\n",
       "                        <td id=\"T_016b14c0_cf63_11ea_8501_e4029bda51a0row19_col1\" class=\"data row19 col1\" >False</td>\n",
       "            </tr>\n",
       "            <tr>\n",
       "                        <th id=\"T_016b14c0_cf63_11ea_8501_e4029bda51a0level0_row20\" class=\"row_heading level0 row20\" >20</th>\n",
       "                        <td id=\"T_016b14c0_cf63_11ea_8501_e4029bda51a0row20_col0\" class=\"data row20 col0\" >PCA Method </td>\n",
       "                        <td id=\"T_016b14c0_cf63_11ea_8501_e4029bda51a0row20_col1\" class=\"data row20 col1\" >None</td>\n",
       "            </tr>\n",
       "            <tr>\n",
       "                        <th id=\"T_016b14c0_cf63_11ea_8501_e4029bda51a0level0_row21\" class=\"row_heading level0 row21\" >21</th>\n",
       "                        <td id=\"T_016b14c0_cf63_11ea_8501_e4029bda51a0row21_col0\" class=\"data row21 col0\" >PCA Components </td>\n",
       "                        <td id=\"T_016b14c0_cf63_11ea_8501_e4029bda51a0row21_col1\" class=\"data row21 col1\" >None</td>\n",
       "            </tr>\n",
       "            <tr>\n",
       "                        <th id=\"T_016b14c0_cf63_11ea_8501_e4029bda51a0level0_row22\" class=\"row_heading level0 row22\" >22</th>\n",
       "                        <td id=\"T_016b14c0_cf63_11ea_8501_e4029bda51a0row22_col0\" class=\"data row22 col0\" >Ignore Low Variance </td>\n",
       "                        <td id=\"T_016b14c0_cf63_11ea_8501_e4029bda51a0row22_col1\" class=\"data row22 col1\" >False</td>\n",
       "            </tr>\n",
       "            <tr>\n",
       "                        <th id=\"T_016b14c0_cf63_11ea_8501_e4029bda51a0level0_row23\" class=\"row_heading level0 row23\" >23</th>\n",
       "                        <td id=\"T_016b14c0_cf63_11ea_8501_e4029bda51a0row23_col0\" class=\"data row23 col0\" >Combine Rare Levels </td>\n",
       "                        <td id=\"T_016b14c0_cf63_11ea_8501_e4029bda51a0row23_col1\" class=\"data row23 col1\" >False</td>\n",
       "            </tr>\n",
       "            <tr>\n",
       "                        <th id=\"T_016b14c0_cf63_11ea_8501_e4029bda51a0level0_row24\" class=\"row_heading level0 row24\" >24</th>\n",
       "                        <td id=\"T_016b14c0_cf63_11ea_8501_e4029bda51a0row24_col0\" class=\"data row24 col0\" >Rare Level Threshold </td>\n",
       "                        <td id=\"T_016b14c0_cf63_11ea_8501_e4029bda51a0row24_col1\" class=\"data row24 col1\" >None</td>\n",
       "            </tr>\n",
       "            <tr>\n",
       "                        <th id=\"T_016b14c0_cf63_11ea_8501_e4029bda51a0level0_row25\" class=\"row_heading level0 row25\" >25</th>\n",
       "                        <td id=\"T_016b14c0_cf63_11ea_8501_e4029bda51a0row25_col0\" class=\"data row25 col0\" >Numeric Binning </td>\n",
       "                        <td id=\"T_016b14c0_cf63_11ea_8501_e4029bda51a0row25_col1\" class=\"data row25 col1\" >False</td>\n",
       "            </tr>\n",
       "            <tr>\n",
       "                        <th id=\"T_016b14c0_cf63_11ea_8501_e4029bda51a0level0_row26\" class=\"row_heading level0 row26\" >26</th>\n",
       "                        <td id=\"T_016b14c0_cf63_11ea_8501_e4029bda51a0row26_col0\" class=\"data row26 col0\" >Remove Outliers </td>\n",
       "                        <td id=\"T_016b14c0_cf63_11ea_8501_e4029bda51a0row26_col1\" class=\"data row26 col1\" >False</td>\n",
       "            </tr>\n",
       "            <tr>\n",
       "                        <th id=\"T_016b14c0_cf63_11ea_8501_e4029bda51a0level0_row27\" class=\"row_heading level0 row27\" >27</th>\n",
       "                        <td id=\"T_016b14c0_cf63_11ea_8501_e4029bda51a0row27_col0\" class=\"data row27 col0\" >Outliers Threshold </td>\n",
       "                        <td id=\"T_016b14c0_cf63_11ea_8501_e4029bda51a0row27_col1\" class=\"data row27 col1\" >None</td>\n",
       "            </tr>\n",
       "            <tr>\n",
       "                        <th id=\"T_016b14c0_cf63_11ea_8501_e4029bda51a0level0_row28\" class=\"row_heading level0 row28\" >28</th>\n",
       "                        <td id=\"T_016b14c0_cf63_11ea_8501_e4029bda51a0row28_col0\" class=\"data row28 col0\" >Remove Multicollinearity </td>\n",
       "                        <td id=\"T_016b14c0_cf63_11ea_8501_e4029bda51a0row28_col1\" class=\"data row28 col1\" >False</td>\n",
       "            </tr>\n",
       "            <tr>\n",
       "                        <th id=\"T_016b14c0_cf63_11ea_8501_e4029bda51a0level0_row29\" class=\"row_heading level0 row29\" >29</th>\n",
       "                        <td id=\"T_016b14c0_cf63_11ea_8501_e4029bda51a0row29_col0\" class=\"data row29 col0\" >Multicollinearity Threshold </td>\n",
       "                        <td id=\"T_016b14c0_cf63_11ea_8501_e4029bda51a0row29_col1\" class=\"data row29 col1\" >None</td>\n",
       "            </tr>\n",
       "            <tr>\n",
       "                        <th id=\"T_016b14c0_cf63_11ea_8501_e4029bda51a0level0_row30\" class=\"row_heading level0 row30\" >30</th>\n",
       "                        <td id=\"T_016b14c0_cf63_11ea_8501_e4029bda51a0row30_col0\" class=\"data row30 col0\" >Clustering </td>\n",
       "                        <td id=\"T_016b14c0_cf63_11ea_8501_e4029bda51a0row30_col1\" class=\"data row30 col1\" >False</td>\n",
       "            </tr>\n",
       "            <tr>\n",
       "                        <th id=\"T_016b14c0_cf63_11ea_8501_e4029bda51a0level0_row31\" class=\"row_heading level0 row31\" >31</th>\n",
       "                        <td id=\"T_016b14c0_cf63_11ea_8501_e4029bda51a0row31_col0\" class=\"data row31 col0\" >Clustering Iteration </td>\n",
       "                        <td id=\"T_016b14c0_cf63_11ea_8501_e4029bda51a0row31_col1\" class=\"data row31 col1\" >None</td>\n",
       "            </tr>\n",
       "            <tr>\n",
       "                        <th id=\"T_016b14c0_cf63_11ea_8501_e4029bda51a0level0_row32\" class=\"row_heading level0 row32\" >32</th>\n",
       "                        <td id=\"T_016b14c0_cf63_11ea_8501_e4029bda51a0row32_col0\" class=\"data row32 col0\" >Polynomial Features </td>\n",
       "                        <td id=\"T_016b14c0_cf63_11ea_8501_e4029bda51a0row32_col1\" class=\"data row32 col1\" >False</td>\n",
       "            </tr>\n",
       "            <tr>\n",
       "                        <th id=\"T_016b14c0_cf63_11ea_8501_e4029bda51a0level0_row33\" class=\"row_heading level0 row33\" >33</th>\n",
       "                        <td id=\"T_016b14c0_cf63_11ea_8501_e4029bda51a0row33_col0\" class=\"data row33 col0\" >Polynomial Degree </td>\n",
       "                        <td id=\"T_016b14c0_cf63_11ea_8501_e4029bda51a0row33_col1\" class=\"data row33 col1\" >None</td>\n",
       "            </tr>\n",
       "            <tr>\n",
       "                        <th id=\"T_016b14c0_cf63_11ea_8501_e4029bda51a0level0_row34\" class=\"row_heading level0 row34\" >34</th>\n",
       "                        <td id=\"T_016b14c0_cf63_11ea_8501_e4029bda51a0row34_col0\" class=\"data row34 col0\" >Trignometry Features </td>\n",
       "                        <td id=\"T_016b14c0_cf63_11ea_8501_e4029bda51a0row34_col1\" class=\"data row34 col1\" >False</td>\n",
       "            </tr>\n",
       "            <tr>\n",
       "                        <th id=\"T_016b14c0_cf63_11ea_8501_e4029bda51a0level0_row35\" class=\"row_heading level0 row35\" >35</th>\n",
       "                        <td id=\"T_016b14c0_cf63_11ea_8501_e4029bda51a0row35_col0\" class=\"data row35 col0\" >Polynomial Threshold </td>\n",
       "                        <td id=\"T_016b14c0_cf63_11ea_8501_e4029bda51a0row35_col1\" class=\"data row35 col1\" >None</td>\n",
       "            </tr>\n",
       "            <tr>\n",
       "                        <th id=\"T_016b14c0_cf63_11ea_8501_e4029bda51a0level0_row36\" class=\"row_heading level0 row36\" >36</th>\n",
       "                        <td id=\"T_016b14c0_cf63_11ea_8501_e4029bda51a0row36_col0\" class=\"data row36 col0\" >Group Features </td>\n",
       "                        <td id=\"T_016b14c0_cf63_11ea_8501_e4029bda51a0row36_col1\" class=\"data row36 col1\" >False</td>\n",
       "            </tr>\n",
       "            <tr>\n",
       "                        <th id=\"T_016b14c0_cf63_11ea_8501_e4029bda51a0level0_row37\" class=\"row_heading level0 row37\" >37</th>\n",
       "                        <td id=\"T_016b14c0_cf63_11ea_8501_e4029bda51a0row37_col0\" class=\"data row37 col0\" >Feature Selection </td>\n",
       "                        <td id=\"T_016b14c0_cf63_11ea_8501_e4029bda51a0row37_col1\" class=\"data row37 col1\" >False</td>\n",
       "            </tr>\n",
       "            <tr>\n",
       "                        <th id=\"T_016b14c0_cf63_11ea_8501_e4029bda51a0level0_row38\" class=\"row_heading level0 row38\" >38</th>\n",
       "                        <td id=\"T_016b14c0_cf63_11ea_8501_e4029bda51a0row38_col0\" class=\"data row38 col0\" >Features Selection Threshold </td>\n",
       "                        <td id=\"T_016b14c0_cf63_11ea_8501_e4029bda51a0row38_col1\" class=\"data row38 col1\" >None</td>\n",
       "            </tr>\n",
       "            <tr>\n",
       "                        <th id=\"T_016b14c0_cf63_11ea_8501_e4029bda51a0level0_row39\" class=\"row_heading level0 row39\" >39</th>\n",
       "                        <td id=\"T_016b14c0_cf63_11ea_8501_e4029bda51a0row39_col0\" class=\"data row39 col0\" >Feature Interaction </td>\n",
       "                        <td id=\"T_016b14c0_cf63_11ea_8501_e4029bda51a0row39_col1\" class=\"data row39 col1\" >False</td>\n",
       "            </tr>\n",
       "            <tr>\n",
       "                        <th id=\"T_016b14c0_cf63_11ea_8501_e4029bda51a0level0_row40\" class=\"row_heading level0 row40\" >40</th>\n",
       "                        <td id=\"T_016b14c0_cf63_11ea_8501_e4029bda51a0row40_col0\" class=\"data row40 col0\" >Feature Ratio </td>\n",
       "                        <td id=\"T_016b14c0_cf63_11ea_8501_e4029bda51a0row40_col1\" class=\"data row40 col1\" >False</td>\n",
       "            </tr>\n",
       "            <tr>\n",
       "                        <th id=\"T_016b14c0_cf63_11ea_8501_e4029bda51a0level0_row41\" class=\"row_heading level0 row41\" >41</th>\n",
       "                        <td id=\"T_016b14c0_cf63_11ea_8501_e4029bda51a0row41_col0\" class=\"data row41 col0\" >Interaction Threshold </td>\n",
       "                        <td id=\"T_016b14c0_cf63_11ea_8501_e4029bda51a0row41_col1\" class=\"data row41 col1\" >None</td>\n",
       "            </tr>\n",
       "    </tbody></table>"
      ],
      "text/plain": [
       "<pandas.io.formats.style.Styler at 0x174cdcc8a48>"
      ]
     },
     "metadata": {},
     "output_type": "display_data"
    }
   ],
   "source": [
    "from pycaret.classification import*\n",
    "clf=setup(data=diabetes_df,target='Class variable')"
   ]
  },
  {
   "cell_type": "code",
   "execution_count": 9,
   "metadata": {},
   "outputs": [
    {
     "data": {
      "text/html": [
       "<style  type=\"text/css\" >\n",
       "    #T_6b06e5b8_cf63_11ea_9f0e_e4029bda51a0 th {\n",
       "          text-align: left;\n",
       "    }    #T_6b06e5b8_cf63_11ea_9f0e_e4029bda51a0row0_col0 {\n",
       "            text-align:  left;\n",
       "        }    #T_6b06e5b8_cf63_11ea_9f0e_e4029bda51a0row0_col1 {\n",
       "            background-color:  yellow;\n",
       "            text-align:  left;\n",
       "        }    #T_6b06e5b8_cf63_11ea_9f0e_e4029bda51a0row0_col2 {\n",
       "            : ;\n",
       "            text-align:  left;\n",
       "        }    #T_6b06e5b8_cf63_11ea_9f0e_e4029bda51a0row0_col3 {\n",
       "            : ;\n",
       "            text-align:  left;\n",
       "        }    #T_6b06e5b8_cf63_11ea_9f0e_e4029bda51a0row0_col4 {\n",
       "            : ;\n",
       "            text-align:  left;\n",
       "        }    #T_6b06e5b8_cf63_11ea_9f0e_e4029bda51a0row0_col5 {\n",
       "            background-color:  yellow;\n",
       "            text-align:  left;\n",
       "        }    #T_6b06e5b8_cf63_11ea_9f0e_e4029bda51a0row0_col6 {\n",
       "            background-color:  yellow;\n",
       "            text-align:  left;\n",
       "        }    #T_6b06e5b8_cf63_11ea_9f0e_e4029bda51a0row1_col0 {\n",
       "            text-align:  left;\n",
       "        }    #T_6b06e5b8_cf63_11ea_9f0e_e4029bda51a0row1_col1 {\n",
       "            : ;\n",
       "            text-align:  left;\n",
       "        }    #T_6b06e5b8_cf63_11ea_9f0e_e4029bda51a0row1_col2 {\n",
       "            : ;\n",
       "            text-align:  left;\n",
       "        }    #T_6b06e5b8_cf63_11ea_9f0e_e4029bda51a0row1_col3 {\n",
       "            : ;\n",
       "            text-align:  left;\n",
       "        }    #T_6b06e5b8_cf63_11ea_9f0e_e4029bda51a0row1_col4 {\n",
       "            : ;\n",
       "            text-align:  left;\n",
       "        }    #T_6b06e5b8_cf63_11ea_9f0e_e4029bda51a0row1_col5 {\n",
       "            : ;\n",
       "            text-align:  left;\n",
       "        }    #T_6b06e5b8_cf63_11ea_9f0e_e4029bda51a0row1_col6 {\n",
       "            : ;\n",
       "            text-align:  left;\n",
       "        }    #T_6b06e5b8_cf63_11ea_9f0e_e4029bda51a0row2_col0 {\n",
       "            text-align:  left;\n",
       "        }    #T_6b06e5b8_cf63_11ea_9f0e_e4029bda51a0row2_col1 {\n",
       "            : ;\n",
       "            text-align:  left;\n",
       "        }    #T_6b06e5b8_cf63_11ea_9f0e_e4029bda51a0row2_col2 {\n",
       "            : ;\n",
       "            text-align:  left;\n",
       "        }    #T_6b06e5b8_cf63_11ea_9f0e_e4029bda51a0row2_col3 {\n",
       "            : ;\n",
       "            text-align:  left;\n",
       "        }    #T_6b06e5b8_cf63_11ea_9f0e_e4029bda51a0row2_col4 {\n",
       "            background-color:  yellow;\n",
       "            text-align:  left;\n",
       "        }    #T_6b06e5b8_cf63_11ea_9f0e_e4029bda51a0row2_col5 {\n",
       "            : ;\n",
       "            text-align:  left;\n",
       "        }    #T_6b06e5b8_cf63_11ea_9f0e_e4029bda51a0row2_col6 {\n",
       "            : ;\n",
       "            text-align:  left;\n",
       "        }    #T_6b06e5b8_cf63_11ea_9f0e_e4029bda51a0row3_col0 {\n",
       "            text-align:  left;\n",
       "        }    #T_6b06e5b8_cf63_11ea_9f0e_e4029bda51a0row3_col1 {\n",
       "            : ;\n",
       "            text-align:  left;\n",
       "        }    #T_6b06e5b8_cf63_11ea_9f0e_e4029bda51a0row3_col2 {\n",
       "            : ;\n",
       "            text-align:  left;\n",
       "        }    #T_6b06e5b8_cf63_11ea_9f0e_e4029bda51a0row3_col3 {\n",
       "            : ;\n",
       "            text-align:  left;\n",
       "        }    #T_6b06e5b8_cf63_11ea_9f0e_e4029bda51a0row3_col4 {\n",
       "            : ;\n",
       "            text-align:  left;\n",
       "        }    #T_6b06e5b8_cf63_11ea_9f0e_e4029bda51a0row3_col5 {\n",
       "            : ;\n",
       "            text-align:  left;\n",
       "        }    #T_6b06e5b8_cf63_11ea_9f0e_e4029bda51a0row3_col6 {\n",
       "            : ;\n",
       "            text-align:  left;\n",
       "        }    #T_6b06e5b8_cf63_11ea_9f0e_e4029bda51a0row4_col0 {\n",
       "            text-align:  left;\n",
       "        }    #T_6b06e5b8_cf63_11ea_9f0e_e4029bda51a0row4_col1 {\n",
       "            : ;\n",
       "            text-align:  left;\n",
       "        }    #T_6b06e5b8_cf63_11ea_9f0e_e4029bda51a0row4_col2 {\n",
       "            background-color:  yellow;\n",
       "            text-align:  left;\n",
       "        }    #T_6b06e5b8_cf63_11ea_9f0e_e4029bda51a0row4_col3 {\n",
       "            : ;\n",
       "            text-align:  left;\n",
       "        }    #T_6b06e5b8_cf63_11ea_9f0e_e4029bda51a0row4_col4 {\n",
       "            : ;\n",
       "            text-align:  left;\n",
       "        }    #T_6b06e5b8_cf63_11ea_9f0e_e4029bda51a0row4_col5 {\n",
       "            : ;\n",
       "            text-align:  left;\n",
       "        }    #T_6b06e5b8_cf63_11ea_9f0e_e4029bda51a0row4_col6 {\n",
       "            : ;\n",
       "            text-align:  left;\n",
       "        }    #T_6b06e5b8_cf63_11ea_9f0e_e4029bda51a0row5_col0 {\n",
       "            text-align:  left;\n",
       "        }    #T_6b06e5b8_cf63_11ea_9f0e_e4029bda51a0row5_col1 {\n",
       "            : ;\n",
       "            text-align:  left;\n",
       "        }    #T_6b06e5b8_cf63_11ea_9f0e_e4029bda51a0row5_col2 {\n",
       "            : ;\n",
       "            text-align:  left;\n",
       "        }    #T_6b06e5b8_cf63_11ea_9f0e_e4029bda51a0row5_col3 {\n",
       "            : ;\n",
       "            text-align:  left;\n",
       "        }    #T_6b06e5b8_cf63_11ea_9f0e_e4029bda51a0row5_col4 {\n",
       "            : ;\n",
       "            text-align:  left;\n",
       "        }    #T_6b06e5b8_cf63_11ea_9f0e_e4029bda51a0row5_col5 {\n",
       "            : ;\n",
       "            text-align:  left;\n",
       "        }    #T_6b06e5b8_cf63_11ea_9f0e_e4029bda51a0row5_col6 {\n",
       "            : ;\n",
       "            text-align:  left;\n",
       "        }    #T_6b06e5b8_cf63_11ea_9f0e_e4029bda51a0row6_col0 {\n",
       "            text-align:  left;\n",
       "        }    #T_6b06e5b8_cf63_11ea_9f0e_e4029bda51a0row6_col1 {\n",
       "            : ;\n",
       "            text-align:  left;\n",
       "        }    #T_6b06e5b8_cf63_11ea_9f0e_e4029bda51a0row6_col2 {\n",
       "            : ;\n",
       "            text-align:  left;\n",
       "        }    #T_6b06e5b8_cf63_11ea_9f0e_e4029bda51a0row6_col3 {\n",
       "            : ;\n",
       "            text-align:  left;\n",
       "        }    #T_6b06e5b8_cf63_11ea_9f0e_e4029bda51a0row6_col4 {\n",
       "            : ;\n",
       "            text-align:  left;\n",
       "        }    #T_6b06e5b8_cf63_11ea_9f0e_e4029bda51a0row6_col5 {\n",
       "            : ;\n",
       "            text-align:  left;\n",
       "        }    #T_6b06e5b8_cf63_11ea_9f0e_e4029bda51a0row6_col6 {\n",
       "            : ;\n",
       "            text-align:  left;\n",
       "        }    #T_6b06e5b8_cf63_11ea_9f0e_e4029bda51a0row7_col0 {\n",
       "            text-align:  left;\n",
       "        }    #T_6b06e5b8_cf63_11ea_9f0e_e4029bda51a0row7_col1 {\n",
       "            : ;\n",
       "            text-align:  left;\n",
       "        }    #T_6b06e5b8_cf63_11ea_9f0e_e4029bda51a0row7_col2 {\n",
       "            : ;\n",
       "            text-align:  left;\n",
       "        }    #T_6b06e5b8_cf63_11ea_9f0e_e4029bda51a0row7_col3 {\n",
       "            : ;\n",
       "            text-align:  left;\n",
       "        }    #T_6b06e5b8_cf63_11ea_9f0e_e4029bda51a0row7_col4 {\n",
       "            : ;\n",
       "            text-align:  left;\n",
       "        }    #T_6b06e5b8_cf63_11ea_9f0e_e4029bda51a0row7_col5 {\n",
       "            : ;\n",
       "            text-align:  left;\n",
       "        }    #T_6b06e5b8_cf63_11ea_9f0e_e4029bda51a0row7_col6 {\n",
       "            : ;\n",
       "            text-align:  left;\n",
       "        }    #T_6b06e5b8_cf63_11ea_9f0e_e4029bda51a0row8_col0 {\n",
       "            text-align:  left;\n",
       "        }    #T_6b06e5b8_cf63_11ea_9f0e_e4029bda51a0row8_col1 {\n",
       "            : ;\n",
       "            text-align:  left;\n",
       "        }    #T_6b06e5b8_cf63_11ea_9f0e_e4029bda51a0row8_col2 {\n",
       "            : ;\n",
       "            text-align:  left;\n",
       "        }    #T_6b06e5b8_cf63_11ea_9f0e_e4029bda51a0row8_col3 {\n",
       "            : ;\n",
       "            text-align:  left;\n",
       "        }    #T_6b06e5b8_cf63_11ea_9f0e_e4029bda51a0row8_col4 {\n",
       "            : ;\n",
       "            text-align:  left;\n",
       "        }    #T_6b06e5b8_cf63_11ea_9f0e_e4029bda51a0row8_col5 {\n",
       "            : ;\n",
       "            text-align:  left;\n",
       "        }    #T_6b06e5b8_cf63_11ea_9f0e_e4029bda51a0row8_col6 {\n",
       "            : ;\n",
       "            text-align:  left;\n",
       "        }    #T_6b06e5b8_cf63_11ea_9f0e_e4029bda51a0row9_col0 {\n",
       "            text-align:  left;\n",
       "        }    #T_6b06e5b8_cf63_11ea_9f0e_e4029bda51a0row9_col1 {\n",
       "            : ;\n",
       "            text-align:  left;\n",
       "        }    #T_6b06e5b8_cf63_11ea_9f0e_e4029bda51a0row9_col2 {\n",
       "            : ;\n",
       "            text-align:  left;\n",
       "        }    #T_6b06e5b8_cf63_11ea_9f0e_e4029bda51a0row9_col3 {\n",
       "            : ;\n",
       "            text-align:  left;\n",
       "        }    #T_6b06e5b8_cf63_11ea_9f0e_e4029bda51a0row9_col4 {\n",
       "            : ;\n",
       "            text-align:  left;\n",
       "        }    #T_6b06e5b8_cf63_11ea_9f0e_e4029bda51a0row9_col5 {\n",
       "            : ;\n",
       "            text-align:  left;\n",
       "        }    #T_6b06e5b8_cf63_11ea_9f0e_e4029bda51a0row9_col6 {\n",
       "            : ;\n",
       "            text-align:  left;\n",
       "        }    #T_6b06e5b8_cf63_11ea_9f0e_e4029bda51a0row10_col0 {\n",
       "            text-align:  left;\n",
       "        }    #T_6b06e5b8_cf63_11ea_9f0e_e4029bda51a0row10_col1 {\n",
       "            : ;\n",
       "            text-align:  left;\n",
       "        }    #T_6b06e5b8_cf63_11ea_9f0e_e4029bda51a0row10_col2 {\n",
       "            : ;\n",
       "            text-align:  left;\n",
       "        }    #T_6b06e5b8_cf63_11ea_9f0e_e4029bda51a0row10_col3 {\n",
       "            : ;\n",
       "            text-align:  left;\n",
       "        }    #T_6b06e5b8_cf63_11ea_9f0e_e4029bda51a0row10_col4 {\n",
       "            : ;\n",
       "            text-align:  left;\n",
       "        }    #T_6b06e5b8_cf63_11ea_9f0e_e4029bda51a0row10_col5 {\n",
       "            : ;\n",
       "            text-align:  left;\n",
       "        }    #T_6b06e5b8_cf63_11ea_9f0e_e4029bda51a0row10_col6 {\n",
       "            : ;\n",
       "            text-align:  left;\n",
       "        }    #T_6b06e5b8_cf63_11ea_9f0e_e4029bda51a0row11_col0 {\n",
       "            text-align:  left;\n",
       "        }    #T_6b06e5b8_cf63_11ea_9f0e_e4029bda51a0row11_col1 {\n",
       "            : ;\n",
       "            text-align:  left;\n",
       "        }    #T_6b06e5b8_cf63_11ea_9f0e_e4029bda51a0row11_col2 {\n",
       "            : ;\n",
       "            text-align:  left;\n",
       "        }    #T_6b06e5b8_cf63_11ea_9f0e_e4029bda51a0row11_col3 {\n",
       "            : ;\n",
       "            text-align:  left;\n",
       "        }    #T_6b06e5b8_cf63_11ea_9f0e_e4029bda51a0row11_col4 {\n",
       "            : ;\n",
       "            text-align:  left;\n",
       "        }    #T_6b06e5b8_cf63_11ea_9f0e_e4029bda51a0row11_col5 {\n",
       "            : ;\n",
       "            text-align:  left;\n",
       "        }    #T_6b06e5b8_cf63_11ea_9f0e_e4029bda51a0row11_col6 {\n",
       "            : ;\n",
       "            text-align:  left;\n",
       "        }    #T_6b06e5b8_cf63_11ea_9f0e_e4029bda51a0row12_col0 {\n",
       "            text-align:  left;\n",
       "        }    #T_6b06e5b8_cf63_11ea_9f0e_e4029bda51a0row12_col1 {\n",
       "            : ;\n",
       "            text-align:  left;\n",
       "        }    #T_6b06e5b8_cf63_11ea_9f0e_e4029bda51a0row12_col2 {\n",
       "            : ;\n",
       "            text-align:  left;\n",
       "        }    #T_6b06e5b8_cf63_11ea_9f0e_e4029bda51a0row12_col3 {\n",
       "            : ;\n",
       "            text-align:  left;\n",
       "        }    #T_6b06e5b8_cf63_11ea_9f0e_e4029bda51a0row12_col4 {\n",
       "            : ;\n",
       "            text-align:  left;\n",
       "        }    #T_6b06e5b8_cf63_11ea_9f0e_e4029bda51a0row12_col5 {\n",
       "            : ;\n",
       "            text-align:  left;\n",
       "        }    #T_6b06e5b8_cf63_11ea_9f0e_e4029bda51a0row12_col6 {\n",
       "            : ;\n",
       "            text-align:  left;\n",
       "        }    #T_6b06e5b8_cf63_11ea_9f0e_e4029bda51a0row13_col0 {\n",
       "            text-align:  left;\n",
       "        }    #T_6b06e5b8_cf63_11ea_9f0e_e4029bda51a0row13_col1 {\n",
       "            : ;\n",
       "            text-align:  left;\n",
       "        }    #T_6b06e5b8_cf63_11ea_9f0e_e4029bda51a0row13_col2 {\n",
       "            : ;\n",
       "            text-align:  left;\n",
       "        }    #T_6b06e5b8_cf63_11ea_9f0e_e4029bda51a0row13_col3 {\n",
       "            background-color:  yellow;\n",
       "            text-align:  left;\n",
       "        }    #T_6b06e5b8_cf63_11ea_9f0e_e4029bda51a0row13_col4 {\n",
       "            : ;\n",
       "            text-align:  left;\n",
       "        }    #T_6b06e5b8_cf63_11ea_9f0e_e4029bda51a0row13_col5 {\n",
       "            : ;\n",
       "            text-align:  left;\n",
       "        }    #T_6b06e5b8_cf63_11ea_9f0e_e4029bda51a0row13_col6 {\n",
       "            : ;\n",
       "            text-align:  left;\n",
       "        }    #T_6b06e5b8_cf63_11ea_9f0e_e4029bda51a0row14_col0 {\n",
       "            text-align:  left;\n",
       "        }    #T_6b06e5b8_cf63_11ea_9f0e_e4029bda51a0row14_col1 {\n",
       "            : ;\n",
       "            text-align:  left;\n",
       "        }    #T_6b06e5b8_cf63_11ea_9f0e_e4029bda51a0row14_col2 {\n",
       "            : ;\n",
       "            text-align:  left;\n",
       "        }    #T_6b06e5b8_cf63_11ea_9f0e_e4029bda51a0row14_col3 {\n",
       "            : ;\n",
       "            text-align:  left;\n",
       "        }    #T_6b06e5b8_cf63_11ea_9f0e_e4029bda51a0row14_col4 {\n",
       "            : ;\n",
       "            text-align:  left;\n",
       "        }    #T_6b06e5b8_cf63_11ea_9f0e_e4029bda51a0row14_col5 {\n",
       "            : ;\n",
       "            text-align:  left;\n",
       "        }    #T_6b06e5b8_cf63_11ea_9f0e_e4029bda51a0row14_col6 {\n",
       "            : ;\n",
       "            text-align:  left;\n",
       "        }</style><table id=\"T_6b06e5b8_cf63_11ea_9f0e_e4029bda51a0\" ><thead>    <tr>        <th class=\"blank level0\" ></th>        <th class=\"col_heading level0 col0\" >Model</th>        <th class=\"col_heading level0 col1\" >Accuracy</th>        <th class=\"col_heading level0 col2\" >AUC</th>        <th class=\"col_heading level0 col3\" >Recall</th>        <th class=\"col_heading level0 col4\" >Prec.</th>        <th class=\"col_heading level0 col5\" >F1</th>        <th class=\"col_heading level0 col6\" >Kappa</th>    </tr></thead><tbody>\n",
       "                <tr>\n",
       "                        <th id=\"T_6b06e5b8_cf63_11ea_9f0e_e4029bda51a0level0_row0\" class=\"row_heading level0 row0\" >0</th>\n",
       "                        <td id=\"T_6b06e5b8_cf63_11ea_9f0e_e4029bda51a0row0_col0\" class=\"data row0 col0\" >Extreme Gradient Boosting</td>\n",
       "                        <td id=\"T_6b06e5b8_cf63_11ea_9f0e_e4029bda51a0row0_col1\" class=\"data row0 col1\" >0.772800</td>\n",
       "                        <td id=\"T_6b06e5b8_cf63_11ea_9f0e_e4029bda51a0row0_col2\" class=\"data row0 col2\" >0.820800</td>\n",
       "                        <td id=\"T_6b06e5b8_cf63_11ea_9f0e_e4029bda51a0row0_col3\" class=\"data row0 col3\" >0.619900</td>\n",
       "                        <td id=\"T_6b06e5b8_cf63_11ea_9f0e_e4029bda51a0row0_col4\" class=\"data row0 col4\" >0.703000</td>\n",
       "                        <td id=\"T_6b06e5b8_cf63_11ea_9f0e_e4029bda51a0row0_col5\" class=\"data row0 col5\" >0.656200</td>\n",
       "                        <td id=\"T_6b06e5b8_cf63_11ea_9f0e_e4029bda51a0row0_col6\" class=\"data row0 col6\" >0.487500</td>\n",
       "            </tr>\n",
       "            <tr>\n",
       "                        <th id=\"T_6b06e5b8_cf63_11ea_9f0e_e4029bda51a0level0_row1\" class=\"row_heading level0 row1\" >1</th>\n",
       "                        <td id=\"T_6b06e5b8_cf63_11ea_9f0e_e4029bda51a0row1_col0\" class=\"data row1 col0\" >Ridge Classifier</td>\n",
       "                        <td id=\"T_6b06e5b8_cf63_11ea_9f0e_e4029bda51a0row1_col1\" class=\"data row1 col1\" >0.767300</td>\n",
       "                        <td id=\"T_6b06e5b8_cf63_11ea_9f0e_e4029bda51a0row1_col2\" class=\"data row1 col2\" >0.000000</td>\n",
       "                        <td id=\"T_6b06e5b8_cf63_11ea_9f0e_e4029bda51a0row1_col3\" class=\"data row1 col3\" >0.572800</td>\n",
       "                        <td id=\"T_6b06e5b8_cf63_11ea_9f0e_e4029bda51a0row1_col4\" class=\"data row1 col4\" >0.707700</td>\n",
       "                        <td id=\"T_6b06e5b8_cf63_11ea_9f0e_e4029bda51a0row1_col5\" class=\"data row1 col5\" >0.631200</td>\n",
       "                        <td id=\"T_6b06e5b8_cf63_11ea_9f0e_e4029bda51a0row1_col6\" class=\"data row1 col6\" >0.464300</td>\n",
       "            </tr>\n",
       "            <tr>\n",
       "                        <th id=\"T_6b06e5b8_cf63_11ea_9f0e_e4029bda51a0level0_row2\" class=\"row_heading level0 row2\" >2</th>\n",
       "                        <td id=\"T_6b06e5b8_cf63_11ea_9f0e_e4029bda51a0row2_col0\" class=\"data row2 col0\" >Logistic Regression</td>\n",
       "                        <td id=\"T_6b06e5b8_cf63_11ea_9f0e_e4029bda51a0row2_col1\" class=\"data row2 col1\" >0.767100</td>\n",
       "                        <td id=\"T_6b06e5b8_cf63_11ea_9f0e_e4029bda51a0row2_col2\" class=\"data row2 col2\" >0.820400</td>\n",
       "                        <td id=\"T_6b06e5b8_cf63_11ea_9f0e_e4029bda51a0row2_col3\" class=\"data row2 col3\" >0.571900</td>\n",
       "                        <td id=\"T_6b06e5b8_cf63_11ea_9f0e_e4029bda51a0row2_col4\" class=\"data row2 col4\" >0.709300</td>\n",
       "                        <td id=\"T_6b06e5b8_cf63_11ea_9f0e_e4029bda51a0row2_col5\" class=\"data row2 col5\" >0.632100</td>\n",
       "                        <td id=\"T_6b06e5b8_cf63_11ea_9f0e_e4029bda51a0row2_col6\" class=\"data row2 col6\" >0.464500</td>\n",
       "            </tr>\n",
       "            <tr>\n",
       "                        <th id=\"T_6b06e5b8_cf63_11ea_9f0e_e4029bda51a0level0_row3\" class=\"row_heading level0 row3\" >3</th>\n",
       "                        <td id=\"T_6b06e5b8_cf63_11ea_9f0e_e4029bda51a0row3_col0\" class=\"data row3 col0\" >Linear Discriminant Analysis</td>\n",
       "                        <td id=\"T_6b06e5b8_cf63_11ea_9f0e_e4029bda51a0row3_col1\" class=\"data row3 col1\" >0.761700</td>\n",
       "                        <td id=\"T_6b06e5b8_cf63_11ea_9f0e_e4029bda51a0row3_col2\" class=\"data row3 col2\" >0.825300</td>\n",
       "                        <td id=\"T_6b06e5b8_cf63_11ea_9f0e_e4029bda51a0row3_col3\" class=\"data row3 col3\" >0.561700</td>\n",
       "                        <td id=\"T_6b06e5b8_cf63_11ea_9f0e_e4029bda51a0row3_col4\" class=\"data row3 col4\" >0.698500</td>\n",
       "                        <td id=\"T_6b06e5b8_cf63_11ea_9f0e_e4029bda51a0row3_col5\" class=\"data row3 col5\" >0.620900</td>\n",
       "                        <td id=\"T_6b06e5b8_cf63_11ea_9f0e_e4029bda51a0row3_col6\" class=\"data row3 col6\" >0.450300</td>\n",
       "            </tr>\n",
       "            <tr>\n",
       "                        <th id=\"T_6b06e5b8_cf63_11ea_9f0e_e4029bda51a0level0_row4\" class=\"row_heading level0 row4\" >4</th>\n",
       "                        <td id=\"T_6b06e5b8_cf63_11ea_9f0e_e4029bda51a0row4_col0\" class=\"data row4 col0\" >CatBoost Classifier</td>\n",
       "                        <td id=\"T_6b06e5b8_cf63_11ea_9f0e_e4029bda51a0row4_col1\" class=\"data row4 col1\" >0.757900</td>\n",
       "                        <td id=\"T_6b06e5b8_cf63_11ea_9f0e_e4029bda51a0row4_col2\" class=\"data row4 col2\" >0.832700</td>\n",
       "                        <td id=\"T_6b06e5b8_cf63_11ea_9f0e_e4029bda51a0row4_col3\" class=\"data row4 col3\" >0.604700</td>\n",
       "                        <td id=\"T_6b06e5b8_cf63_11ea_9f0e_e4029bda51a0row4_col4\" class=\"data row4 col4\" >0.679700</td>\n",
       "                        <td id=\"T_6b06e5b8_cf63_11ea_9f0e_e4029bda51a0row4_col5\" class=\"data row4 col5\" >0.634500</td>\n",
       "                        <td id=\"T_6b06e5b8_cf63_11ea_9f0e_e4029bda51a0row4_col6\" class=\"data row4 col6\" >0.455300</td>\n",
       "            </tr>\n",
       "            <tr>\n",
       "                        <th id=\"T_6b06e5b8_cf63_11ea_9f0e_e4029bda51a0level0_row5\" class=\"row_heading level0 row5\" >5</th>\n",
       "                        <td id=\"T_6b06e5b8_cf63_11ea_9f0e_e4029bda51a0row5_col0\" class=\"data row5 col0\" >Gradient Boosting Classifier</td>\n",
       "                        <td id=\"T_6b06e5b8_cf63_11ea_9f0e_e4029bda51a0row5_col1\" class=\"data row5 col1\" >0.750500</td>\n",
       "                        <td id=\"T_6b06e5b8_cf63_11ea_9f0e_e4029bda51a0row5_col2\" class=\"data row5 col2\" >0.816100</td>\n",
       "                        <td id=\"T_6b06e5b8_cf63_11ea_9f0e_e4029bda51a0row5_col3\" class=\"data row5 col3\" >0.598800</td>\n",
       "                        <td id=\"T_6b06e5b8_cf63_11ea_9f0e_e4029bda51a0row5_col4\" class=\"data row5 col4\" >0.662200</td>\n",
       "                        <td id=\"T_6b06e5b8_cf63_11ea_9f0e_e4029bda51a0row5_col5\" class=\"data row5 col5\" >0.625600</td>\n",
       "                        <td id=\"T_6b06e5b8_cf63_11ea_9f0e_e4029bda51a0row5_col6\" class=\"data row5 col6\" >0.439600</td>\n",
       "            </tr>\n",
       "            <tr>\n",
       "                        <th id=\"T_6b06e5b8_cf63_11ea_9f0e_e4029bda51a0level0_row6\" class=\"row_heading level0 row6\" >6</th>\n",
       "                        <td id=\"T_6b06e5b8_cf63_11ea_9f0e_e4029bda51a0row6_col0\" class=\"data row6 col0\" >Random Forest Classifier</td>\n",
       "                        <td id=\"T_6b06e5b8_cf63_11ea_9f0e_e4029bda51a0row6_col1\" class=\"data row6 col1\" >0.741300</td>\n",
       "                        <td id=\"T_6b06e5b8_cf63_11ea_9f0e_e4029bda51a0row6_col2\" class=\"data row6 col2\" >0.787200</td>\n",
       "                        <td id=\"T_6b06e5b8_cf63_11ea_9f0e_e4029bda51a0row6_col3\" class=\"data row6 col3\" >0.481300</td>\n",
       "                        <td id=\"T_6b06e5b8_cf63_11ea_9f0e_e4029bda51a0row6_col4\" class=\"data row6 col4\" >0.698100</td>\n",
       "                        <td id=\"T_6b06e5b8_cf63_11ea_9f0e_e4029bda51a0row6_col5\" class=\"data row6 col5\" >0.563200</td>\n",
       "                        <td id=\"T_6b06e5b8_cf63_11ea_9f0e_e4029bda51a0row6_col6\" class=\"data row6 col6\" >0.388500</td>\n",
       "            </tr>\n",
       "            <tr>\n",
       "                        <th id=\"T_6b06e5b8_cf63_11ea_9f0e_e4029bda51a0level0_row7\" class=\"row_heading level0 row7\" >7</th>\n",
       "                        <td id=\"T_6b06e5b8_cf63_11ea_9f0e_e4029bda51a0row7_col0\" class=\"data row7 col0\" >Extra Trees Classifier</td>\n",
       "                        <td id=\"T_6b06e5b8_cf63_11ea_9f0e_e4029bda51a0row7_col1\" class=\"data row7 col1\" >0.741100</td>\n",
       "                        <td id=\"T_6b06e5b8_cf63_11ea_9f0e_e4029bda51a0row7_col2\" class=\"data row7 col2\" >0.803400</td>\n",
       "                        <td id=\"T_6b06e5b8_cf63_11ea_9f0e_e4029bda51a0row7_col3\" class=\"data row7 col3\" >0.512600</td>\n",
       "                        <td id=\"T_6b06e5b8_cf63_11ea_9f0e_e4029bda51a0row7_col4\" class=\"data row7 col4\" >0.676600</td>\n",
       "                        <td id=\"T_6b06e5b8_cf63_11ea_9f0e_e4029bda51a0row7_col5\" class=\"data row7 col5\" >0.578900</td>\n",
       "                        <td id=\"T_6b06e5b8_cf63_11ea_9f0e_e4029bda51a0row7_col6\" class=\"data row7 col6\" >0.397400</td>\n",
       "            </tr>\n",
       "            <tr>\n",
       "                        <th id=\"T_6b06e5b8_cf63_11ea_9f0e_e4029bda51a0level0_row8\" class=\"row_heading level0 row8\" >8</th>\n",
       "                        <td id=\"T_6b06e5b8_cf63_11ea_9f0e_e4029bda51a0row8_col0\" class=\"data row8 col0\" >Light Gradient Boosting Machine</td>\n",
       "                        <td id=\"T_6b06e5b8_cf63_11ea_9f0e_e4029bda51a0row8_col1\" class=\"data row8 col1\" >0.731800</td>\n",
       "                        <td id=\"T_6b06e5b8_cf63_11ea_9f0e_e4029bda51a0row8_col2\" class=\"data row8 col2\" >0.807500</td>\n",
       "                        <td id=\"T_6b06e5b8_cf63_11ea_9f0e_e4029bda51a0row8_col3\" class=\"data row8 col3\" >0.571900</td>\n",
       "                        <td id=\"T_6b06e5b8_cf63_11ea_9f0e_e4029bda51a0row8_col4\" class=\"data row8 col4\" >0.638000</td>\n",
       "                        <td id=\"T_6b06e5b8_cf63_11ea_9f0e_e4029bda51a0row8_col5\" class=\"data row8 col5\" >0.598800</td>\n",
       "                        <td id=\"T_6b06e5b8_cf63_11ea_9f0e_e4029bda51a0row8_col6\" class=\"data row8 col6\" >0.398800</td>\n",
       "            </tr>\n",
       "            <tr>\n",
       "                        <th id=\"T_6b06e5b8_cf63_11ea_9f0e_e4029bda51a0level0_row9\" class=\"row_heading level0 row9\" >9</th>\n",
       "                        <td id=\"T_6b06e5b8_cf63_11ea_9f0e_e4029bda51a0row9_col0\" class=\"data row9 col0\" >K Neighbors Classifier</td>\n",
       "                        <td id=\"T_6b06e5b8_cf63_11ea_9f0e_e4029bda51a0row9_col1\" class=\"data row9 col1\" >0.722700</td>\n",
       "                        <td id=\"T_6b06e5b8_cf63_11ea_9f0e_e4029bda51a0row9_col2\" class=\"data row9 col2\" >0.758600</td>\n",
       "                        <td id=\"T_6b06e5b8_cf63_11ea_9f0e_e4029bda51a0row9_col3\" class=\"data row9 col3\" >0.594400</td>\n",
       "                        <td id=\"T_6b06e5b8_cf63_11ea_9f0e_e4029bda51a0row9_col4\" class=\"data row9 col4\" >0.605200</td>\n",
       "                        <td id=\"T_6b06e5b8_cf63_11ea_9f0e_e4029bda51a0row9_col5\" class=\"data row9 col5\" >0.598300</td>\n",
       "                        <td id=\"T_6b06e5b8_cf63_11ea_9f0e_e4029bda51a0row9_col6\" class=\"data row9 col6\" >0.387000</td>\n",
       "            </tr>\n",
       "            <tr>\n",
       "                        <th id=\"T_6b06e5b8_cf63_11ea_9f0e_e4029bda51a0level0_row10\" class=\"row_heading level0 row10\" >10</th>\n",
       "                        <td id=\"T_6b06e5b8_cf63_11ea_9f0e_e4029bda51a0row10_col0\" class=\"data row10 col0\" >Ada Boost Classifier</td>\n",
       "                        <td id=\"T_6b06e5b8_cf63_11ea_9f0e_e4029bda51a0row10_col1\" class=\"data row10 col1\" >0.718700</td>\n",
       "                        <td id=\"T_6b06e5b8_cf63_11ea_9f0e_e4029bda51a0row10_col2\" class=\"data row10 col2\" >0.770900</td>\n",
       "                        <td id=\"T_6b06e5b8_cf63_11ea_9f0e_e4029bda51a0row10_col3\" class=\"data row10 col3\" >0.524000</td>\n",
       "                        <td id=\"T_6b06e5b8_cf63_11ea_9f0e_e4029bda51a0row10_col4\" class=\"data row10 col4\" >0.627400</td>\n",
       "                        <td id=\"T_6b06e5b8_cf63_11ea_9f0e_e4029bda51a0row10_col5\" class=\"data row10 col5\" >0.567400</td>\n",
       "                        <td id=\"T_6b06e5b8_cf63_11ea_9f0e_e4029bda51a0row10_col6\" class=\"data row10 col6\" >0.361500</td>\n",
       "            </tr>\n",
       "            <tr>\n",
       "                        <th id=\"T_6b06e5b8_cf63_11ea_9f0e_e4029bda51a0level0_row11\" class=\"row_heading level0 row11\" >11</th>\n",
       "                        <td id=\"T_6b06e5b8_cf63_11ea_9f0e_e4029bda51a0row11_col0\" class=\"data row11 col0\" >Decision Tree Classifier</td>\n",
       "                        <td id=\"T_6b06e5b8_cf63_11ea_9f0e_e4029bda51a0row11_col1\" class=\"data row11 col1\" >0.713000</td>\n",
       "                        <td id=\"T_6b06e5b8_cf63_11ea_9f0e_e4029bda51a0row11_col2\" class=\"data row11 col2\" >0.682100</td>\n",
       "                        <td id=\"T_6b06e5b8_cf63_11ea_9f0e_e4029bda51a0row11_col3\" class=\"data row11 col3\" >0.581300</td>\n",
       "                        <td id=\"T_6b06e5b8_cf63_11ea_9f0e_e4029bda51a0row11_col4\" class=\"data row11 col4\" >0.593100</td>\n",
       "                        <td id=\"T_6b06e5b8_cf63_11ea_9f0e_e4029bda51a0row11_col5\" class=\"data row11 col5\" >0.584200</td>\n",
       "                        <td id=\"T_6b06e5b8_cf63_11ea_9f0e_e4029bda51a0row11_col6\" class=\"data row11 col6\" >0.365600</td>\n",
       "            </tr>\n",
       "            <tr>\n",
       "                        <th id=\"T_6b06e5b8_cf63_11ea_9f0e_e4029bda51a0level0_row12\" class=\"row_heading level0 row12\" >12</th>\n",
       "                        <td id=\"T_6b06e5b8_cf63_11ea_9f0e_e4029bda51a0row12_col0\" class=\"data row12 col0\" >Naive Bayes</td>\n",
       "                        <td id=\"T_6b06e5b8_cf63_11ea_9f0e_e4029bda51a0row12_col1\" class=\"data row12 col1\" >0.668800</td>\n",
       "                        <td id=\"T_6b06e5b8_cf63_11ea_9f0e_e4029bda51a0row12_col2\" class=\"data row12 col2\" >0.740200</td>\n",
       "                        <td id=\"T_6b06e5b8_cf63_11ea_9f0e_e4029bda51a0row12_col3\" class=\"data row12 col3\" >0.177200</td>\n",
       "                        <td id=\"T_6b06e5b8_cf63_11ea_9f0e_e4029bda51a0row12_col4\" class=\"data row12 col4\" >0.591200</td>\n",
       "                        <td id=\"T_6b06e5b8_cf63_11ea_9f0e_e4029bda51a0row12_col5\" class=\"data row12 col5\" >0.267000</td>\n",
       "                        <td id=\"T_6b06e5b8_cf63_11ea_9f0e_e4029bda51a0row12_col6\" class=\"data row12 col6\" >0.129200</td>\n",
       "            </tr>\n",
       "            <tr>\n",
       "                        <th id=\"T_6b06e5b8_cf63_11ea_9f0e_e4029bda51a0level0_row13\" class=\"row_heading level0 row13\" >13</th>\n",
       "                        <td id=\"T_6b06e5b8_cf63_11ea_9f0e_e4029bda51a0row13_col0\" class=\"data row13 col0\" >Quadratic Discriminant Analysis</td>\n",
       "                        <td id=\"T_6b06e5b8_cf63_11ea_9f0e_e4029bda51a0row13_col1\" class=\"data row13 col1\" >0.579200</td>\n",
       "                        <td id=\"T_6b06e5b8_cf63_11ea_9f0e_e4029bda51a0row13_col2\" class=\"data row13 col2\" >0.641000</td>\n",
       "                        <td id=\"T_6b06e5b8_cf63_11ea_9f0e_e4029bda51a0row13_col3\" class=\"data row13 col3\" >0.631900</td>\n",
       "                        <td id=\"T_6b06e5b8_cf63_11ea_9f0e_e4029bda51a0row13_col4\" class=\"data row13 col4\" >0.439900</td>\n",
       "                        <td id=\"T_6b06e5b8_cf63_11ea_9f0e_e4029bda51a0row13_col5\" class=\"data row13 col5\" >0.506100</td>\n",
       "                        <td id=\"T_6b06e5b8_cf63_11ea_9f0e_e4029bda51a0row13_col6\" class=\"data row13 col6\" >0.167200</td>\n",
       "            </tr>\n",
       "            <tr>\n",
       "                        <th id=\"T_6b06e5b8_cf63_11ea_9f0e_e4029bda51a0level0_row14\" class=\"row_heading level0 row14\" >14</th>\n",
       "                        <td id=\"T_6b06e5b8_cf63_11ea_9f0e_e4029bda51a0row14_col0\" class=\"data row14 col0\" >SVM - Linear Kernel</td>\n",
       "                        <td id=\"T_6b06e5b8_cf63_11ea_9f0e_e4029bda51a0row14_col1\" class=\"data row14 col1\" >0.566500</td>\n",
       "                        <td id=\"T_6b06e5b8_cf63_11ea_9f0e_e4029bda51a0row14_col2\" class=\"data row14 col2\" >0.000000</td>\n",
       "                        <td id=\"T_6b06e5b8_cf63_11ea_9f0e_e4029bda51a0row14_col3\" class=\"data row14 col3\" >0.333900</td>\n",
       "                        <td id=\"T_6b06e5b8_cf63_11ea_9f0e_e4029bda51a0row14_col4\" class=\"data row14 col4\" >0.259200</td>\n",
       "                        <td id=\"T_6b06e5b8_cf63_11ea_9f0e_e4029bda51a0row14_col5\" class=\"data row14 col5\" >0.252300</td>\n",
       "                        <td id=\"T_6b06e5b8_cf63_11ea_9f0e_e4029bda51a0row14_col6\" class=\"data row14 col6\" >0.021800</td>\n",
       "            </tr>\n",
       "    </tbody></table>"
      ],
      "text/plain": [
       "<pandas.io.formats.style.Styler at 0x174d1348b88>"
      ]
     },
     "execution_count": 9,
     "metadata": {},
     "output_type": "execute_result"
    }
   ],
   "source": [
    "#### Comparing Model\n",
    "compare_models()"
   ]
  },
  {
   "cell_type": "markdown",
   "metadata": {},
   "source": [
    "### Regression Problem"
   ]
  },
  {
   "cell_type": "code",
   "execution_count": 12,
   "metadata": {},
   "outputs": [
    {
     "data": {
      "text/html": [
       "<div>\n",
       "<style scoped>\n",
       "    .dataframe tbody tr th:only-of-type {\n",
       "        vertical-align: middle;\n",
       "    }\n",
       "\n",
       "    .dataframe tbody tr th {\n",
       "        vertical-align: top;\n",
       "    }\n",
       "\n",
       "    .dataframe thead th {\n",
       "        text-align: right;\n",
       "    }\n",
       "</style>\n",
       "<table border=\"1\" class=\"dataframe\">\n",
       "  <thead>\n",
       "    <tr style=\"text-align: right;\">\n",
       "      <th></th>\n",
       "      <th>crim</th>\n",
       "      <th>zn</th>\n",
       "      <th>indus</th>\n",
       "      <th>chas</th>\n",
       "      <th>nox</th>\n",
       "      <th>rm</th>\n",
       "      <th>age</th>\n",
       "      <th>dis</th>\n",
       "      <th>rad</th>\n",
       "      <th>tax</th>\n",
       "      <th>ptratio</th>\n",
       "      <th>black</th>\n",
       "      <th>lstat</th>\n",
       "      <th>medv</th>\n",
       "    </tr>\n",
       "  </thead>\n",
       "  <tbody>\n",
       "    <tr>\n",
       "      <th>0</th>\n",
       "      <td>0.00632</td>\n",
       "      <td>18.0</td>\n",
       "      <td>2.31</td>\n",
       "      <td>0</td>\n",
       "      <td>0.538</td>\n",
       "      <td>6.575</td>\n",
       "      <td>65.2</td>\n",
       "      <td>4.0900</td>\n",
       "      <td>1</td>\n",
       "      <td>296</td>\n",
       "      <td>15.3</td>\n",
       "      <td>396.90</td>\n",
       "      <td>4.98</td>\n",
       "      <td>24.0</td>\n",
       "    </tr>\n",
       "    <tr>\n",
       "      <th>1</th>\n",
       "      <td>0.02731</td>\n",
       "      <td>0.0</td>\n",
       "      <td>7.07</td>\n",
       "      <td>0</td>\n",
       "      <td>0.469</td>\n",
       "      <td>6.421</td>\n",
       "      <td>78.9</td>\n",
       "      <td>4.9671</td>\n",
       "      <td>2</td>\n",
       "      <td>242</td>\n",
       "      <td>17.8</td>\n",
       "      <td>396.90</td>\n",
       "      <td>9.14</td>\n",
       "      <td>21.6</td>\n",
       "    </tr>\n",
       "    <tr>\n",
       "      <th>2</th>\n",
       "      <td>0.02729</td>\n",
       "      <td>0.0</td>\n",
       "      <td>7.07</td>\n",
       "      <td>0</td>\n",
       "      <td>0.469</td>\n",
       "      <td>7.185</td>\n",
       "      <td>61.1</td>\n",
       "      <td>4.9671</td>\n",
       "      <td>2</td>\n",
       "      <td>242</td>\n",
       "      <td>17.8</td>\n",
       "      <td>392.83</td>\n",
       "      <td>4.03</td>\n",
       "      <td>34.7</td>\n",
       "    </tr>\n",
       "    <tr>\n",
       "      <th>3</th>\n",
       "      <td>0.03237</td>\n",
       "      <td>0.0</td>\n",
       "      <td>2.18</td>\n",
       "      <td>0</td>\n",
       "      <td>0.458</td>\n",
       "      <td>6.998</td>\n",
       "      <td>45.8</td>\n",
       "      <td>6.0622</td>\n",
       "      <td>3</td>\n",
       "      <td>222</td>\n",
       "      <td>18.7</td>\n",
       "      <td>394.63</td>\n",
       "      <td>2.94</td>\n",
       "      <td>33.4</td>\n",
       "    </tr>\n",
       "    <tr>\n",
       "      <th>4</th>\n",
       "      <td>0.06905</td>\n",
       "      <td>0.0</td>\n",
       "      <td>2.18</td>\n",
       "      <td>0</td>\n",
       "      <td>0.458</td>\n",
       "      <td>7.147</td>\n",
       "      <td>54.2</td>\n",
       "      <td>6.0622</td>\n",
       "      <td>3</td>\n",
       "      <td>222</td>\n",
       "      <td>18.7</td>\n",
       "      <td>396.90</td>\n",
       "      <td>5.33</td>\n",
       "      <td>36.2</td>\n",
       "    </tr>\n",
       "  </tbody>\n",
       "</table>\n",
       "</div>"
      ],
      "text/plain": [
       "      crim    zn  indus  chas    nox     rm   age     dis  rad  tax  ptratio  \\\n",
       "0  0.00632  18.0   2.31     0  0.538  6.575  65.2  4.0900    1  296     15.3   \n",
       "1  0.02731   0.0   7.07     0  0.469  6.421  78.9  4.9671    2  242     17.8   \n",
       "2  0.02729   0.0   7.07     0  0.469  7.185  61.1  4.9671    2  242     17.8   \n",
       "3  0.03237   0.0   2.18     0  0.458  6.998  45.8  6.0622    3  222     18.7   \n",
       "4  0.06905   0.0   2.18     0  0.458  7.147  54.2  6.0622    3  222     18.7   \n",
       "\n",
       "    black  lstat  medv  \n",
       "0  396.90   4.98  24.0  \n",
       "1  396.90   9.14  21.6  \n",
       "2  392.83   4.03  34.7  \n",
       "3  394.63   2.94  33.4  \n",
       "4  396.90   5.33  36.2  "
      ]
     },
     "metadata": {},
     "output_type": "display_data"
    }
   ],
   "source": [
    "boston_df=get_data('boston')"
   ]
  },
  {
   "cell_type": "code",
   "execution_count": 15,
   "metadata": {},
   "outputs": [],
   "source": [
    "from pycaret.regression import*\n"
   ]
  },
  {
   "cell_type": "code",
   "execution_count": 16,
   "metadata": {},
   "outputs": [
    {
     "name": "stdout",
     "output_type": "stream",
     "text": [
      " \n",
      "Setup Succesfully Completed!\n"
     ]
    },
    {
     "data": {
      "text/html": [
       "<style  type=\"text/css\" >\n",
       "</style><table id=\"T_40aa43c6_cf64_11ea_95ee_e4029bda51a0\" ><thead>    <tr>        <th class=\"blank level0\" ></th>        <th class=\"col_heading level0 col0\" >Description</th>        <th class=\"col_heading level0 col1\" >Value</th>    </tr></thead><tbody>\n",
       "                <tr>\n",
       "                        <th id=\"T_40aa43c6_cf64_11ea_95ee_e4029bda51a0level0_row0\" class=\"row_heading level0 row0\" >0</th>\n",
       "                        <td id=\"T_40aa43c6_cf64_11ea_95ee_e4029bda51a0row0_col0\" class=\"data row0 col0\" >session_id</td>\n",
       "                        <td id=\"T_40aa43c6_cf64_11ea_95ee_e4029bda51a0row0_col1\" class=\"data row0 col1\" >3806</td>\n",
       "            </tr>\n",
       "            <tr>\n",
       "                        <th id=\"T_40aa43c6_cf64_11ea_95ee_e4029bda51a0level0_row1\" class=\"row_heading level0 row1\" >1</th>\n",
       "                        <td id=\"T_40aa43c6_cf64_11ea_95ee_e4029bda51a0row1_col0\" class=\"data row1 col0\" >Transform Target </td>\n",
       "                        <td id=\"T_40aa43c6_cf64_11ea_95ee_e4029bda51a0row1_col1\" class=\"data row1 col1\" >False</td>\n",
       "            </tr>\n",
       "            <tr>\n",
       "                        <th id=\"T_40aa43c6_cf64_11ea_95ee_e4029bda51a0level0_row2\" class=\"row_heading level0 row2\" >2</th>\n",
       "                        <td id=\"T_40aa43c6_cf64_11ea_95ee_e4029bda51a0row2_col0\" class=\"data row2 col0\" >Transform Target Method</td>\n",
       "                        <td id=\"T_40aa43c6_cf64_11ea_95ee_e4029bda51a0row2_col1\" class=\"data row2 col1\" >None</td>\n",
       "            </tr>\n",
       "            <tr>\n",
       "                        <th id=\"T_40aa43c6_cf64_11ea_95ee_e4029bda51a0level0_row3\" class=\"row_heading level0 row3\" >3</th>\n",
       "                        <td id=\"T_40aa43c6_cf64_11ea_95ee_e4029bda51a0row3_col0\" class=\"data row3 col0\" >Original Data</td>\n",
       "                        <td id=\"T_40aa43c6_cf64_11ea_95ee_e4029bda51a0row3_col1\" class=\"data row3 col1\" >(506, 14)</td>\n",
       "            </tr>\n",
       "            <tr>\n",
       "                        <th id=\"T_40aa43c6_cf64_11ea_95ee_e4029bda51a0level0_row4\" class=\"row_heading level0 row4\" >4</th>\n",
       "                        <td id=\"T_40aa43c6_cf64_11ea_95ee_e4029bda51a0row4_col0\" class=\"data row4 col0\" >Missing Values </td>\n",
       "                        <td id=\"T_40aa43c6_cf64_11ea_95ee_e4029bda51a0row4_col1\" class=\"data row4 col1\" >False</td>\n",
       "            </tr>\n",
       "            <tr>\n",
       "                        <th id=\"T_40aa43c6_cf64_11ea_95ee_e4029bda51a0level0_row5\" class=\"row_heading level0 row5\" >5</th>\n",
       "                        <td id=\"T_40aa43c6_cf64_11ea_95ee_e4029bda51a0row5_col0\" class=\"data row5 col0\" >Numeric Features </td>\n",
       "                        <td id=\"T_40aa43c6_cf64_11ea_95ee_e4029bda51a0row5_col1\" class=\"data row5 col1\" >11</td>\n",
       "            </tr>\n",
       "            <tr>\n",
       "                        <th id=\"T_40aa43c6_cf64_11ea_95ee_e4029bda51a0level0_row6\" class=\"row_heading level0 row6\" >6</th>\n",
       "                        <td id=\"T_40aa43c6_cf64_11ea_95ee_e4029bda51a0row6_col0\" class=\"data row6 col0\" >Categorical Features </td>\n",
       "                        <td id=\"T_40aa43c6_cf64_11ea_95ee_e4029bda51a0row6_col1\" class=\"data row6 col1\" >2</td>\n",
       "            </tr>\n",
       "            <tr>\n",
       "                        <th id=\"T_40aa43c6_cf64_11ea_95ee_e4029bda51a0level0_row7\" class=\"row_heading level0 row7\" >7</th>\n",
       "                        <td id=\"T_40aa43c6_cf64_11ea_95ee_e4029bda51a0row7_col0\" class=\"data row7 col0\" >Ordinal Features </td>\n",
       "                        <td id=\"T_40aa43c6_cf64_11ea_95ee_e4029bda51a0row7_col1\" class=\"data row7 col1\" >False</td>\n",
       "            </tr>\n",
       "            <tr>\n",
       "                        <th id=\"T_40aa43c6_cf64_11ea_95ee_e4029bda51a0level0_row8\" class=\"row_heading level0 row8\" >8</th>\n",
       "                        <td id=\"T_40aa43c6_cf64_11ea_95ee_e4029bda51a0row8_col0\" class=\"data row8 col0\" >High Cardinality Features </td>\n",
       "                        <td id=\"T_40aa43c6_cf64_11ea_95ee_e4029bda51a0row8_col1\" class=\"data row8 col1\" >False</td>\n",
       "            </tr>\n",
       "            <tr>\n",
       "                        <th id=\"T_40aa43c6_cf64_11ea_95ee_e4029bda51a0level0_row9\" class=\"row_heading level0 row9\" >9</th>\n",
       "                        <td id=\"T_40aa43c6_cf64_11ea_95ee_e4029bda51a0row9_col0\" class=\"data row9 col0\" >High Cardinality Method </td>\n",
       "                        <td id=\"T_40aa43c6_cf64_11ea_95ee_e4029bda51a0row9_col1\" class=\"data row9 col1\" >None</td>\n",
       "            </tr>\n",
       "            <tr>\n",
       "                        <th id=\"T_40aa43c6_cf64_11ea_95ee_e4029bda51a0level0_row10\" class=\"row_heading level0 row10\" >10</th>\n",
       "                        <td id=\"T_40aa43c6_cf64_11ea_95ee_e4029bda51a0row10_col0\" class=\"data row10 col0\" >Sampled Data</td>\n",
       "                        <td id=\"T_40aa43c6_cf64_11ea_95ee_e4029bda51a0row10_col1\" class=\"data row10 col1\" >(506, 14)</td>\n",
       "            </tr>\n",
       "            <tr>\n",
       "                        <th id=\"T_40aa43c6_cf64_11ea_95ee_e4029bda51a0level0_row11\" class=\"row_heading level0 row11\" >11</th>\n",
       "                        <td id=\"T_40aa43c6_cf64_11ea_95ee_e4029bda51a0row11_col0\" class=\"data row11 col0\" >Transformed Train Set</td>\n",
       "                        <td id=\"T_40aa43c6_cf64_11ea_95ee_e4029bda51a0row11_col1\" class=\"data row11 col1\" >(354, 21)</td>\n",
       "            </tr>\n",
       "            <tr>\n",
       "                        <th id=\"T_40aa43c6_cf64_11ea_95ee_e4029bda51a0level0_row12\" class=\"row_heading level0 row12\" >12</th>\n",
       "                        <td id=\"T_40aa43c6_cf64_11ea_95ee_e4029bda51a0row12_col0\" class=\"data row12 col0\" >Transformed Test Set</td>\n",
       "                        <td id=\"T_40aa43c6_cf64_11ea_95ee_e4029bda51a0row12_col1\" class=\"data row12 col1\" >(152, 21)</td>\n",
       "            </tr>\n",
       "            <tr>\n",
       "                        <th id=\"T_40aa43c6_cf64_11ea_95ee_e4029bda51a0level0_row13\" class=\"row_heading level0 row13\" >13</th>\n",
       "                        <td id=\"T_40aa43c6_cf64_11ea_95ee_e4029bda51a0row13_col0\" class=\"data row13 col0\" >Numeric Imputer </td>\n",
       "                        <td id=\"T_40aa43c6_cf64_11ea_95ee_e4029bda51a0row13_col1\" class=\"data row13 col1\" >mean</td>\n",
       "            </tr>\n",
       "            <tr>\n",
       "                        <th id=\"T_40aa43c6_cf64_11ea_95ee_e4029bda51a0level0_row14\" class=\"row_heading level0 row14\" >14</th>\n",
       "                        <td id=\"T_40aa43c6_cf64_11ea_95ee_e4029bda51a0row14_col0\" class=\"data row14 col0\" >Categorical Imputer </td>\n",
       "                        <td id=\"T_40aa43c6_cf64_11ea_95ee_e4029bda51a0row14_col1\" class=\"data row14 col1\" >constant</td>\n",
       "            </tr>\n",
       "            <tr>\n",
       "                        <th id=\"T_40aa43c6_cf64_11ea_95ee_e4029bda51a0level0_row15\" class=\"row_heading level0 row15\" >15</th>\n",
       "                        <td id=\"T_40aa43c6_cf64_11ea_95ee_e4029bda51a0row15_col0\" class=\"data row15 col0\" >Normalize </td>\n",
       "                        <td id=\"T_40aa43c6_cf64_11ea_95ee_e4029bda51a0row15_col1\" class=\"data row15 col1\" >False</td>\n",
       "            </tr>\n",
       "            <tr>\n",
       "                        <th id=\"T_40aa43c6_cf64_11ea_95ee_e4029bda51a0level0_row16\" class=\"row_heading level0 row16\" >16</th>\n",
       "                        <td id=\"T_40aa43c6_cf64_11ea_95ee_e4029bda51a0row16_col0\" class=\"data row16 col0\" >Normalize Method </td>\n",
       "                        <td id=\"T_40aa43c6_cf64_11ea_95ee_e4029bda51a0row16_col1\" class=\"data row16 col1\" >None</td>\n",
       "            </tr>\n",
       "            <tr>\n",
       "                        <th id=\"T_40aa43c6_cf64_11ea_95ee_e4029bda51a0level0_row17\" class=\"row_heading level0 row17\" >17</th>\n",
       "                        <td id=\"T_40aa43c6_cf64_11ea_95ee_e4029bda51a0row17_col0\" class=\"data row17 col0\" >Transformation </td>\n",
       "                        <td id=\"T_40aa43c6_cf64_11ea_95ee_e4029bda51a0row17_col1\" class=\"data row17 col1\" >False</td>\n",
       "            </tr>\n",
       "            <tr>\n",
       "                        <th id=\"T_40aa43c6_cf64_11ea_95ee_e4029bda51a0level0_row18\" class=\"row_heading level0 row18\" >18</th>\n",
       "                        <td id=\"T_40aa43c6_cf64_11ea_95ee_e4029bda51a0row18_col0\" class=\"data row18 col0\" >Transformation Method </td>\n",
       "                        <td id=\"T_40aa43c6_cf64_11ea_95ee_e4029bda51a0row18_col1\" class=\"data row18 col1\" >None</td>\n",
       "            </tr>\n",
       "            <tr>\n",
       "                        <th id=\"T_40aa43c6_cf64_11ea_95ee_e4029bda51a0level0_row19\" class=\"row_heading level0 row19\" >19</th>\n",
       "                        <td id=\"T_40aa43c6_cf64_11ea_95ee_e4029bda51a0row19_col0\" class=\"data row19 col0\" >PCA </td>\n",
       "                        <td id=\"T_40aa43c6_cf64_11ea_95ee_e4029bda51a0row19_col1\" class=\"data row19 col1\" >False</td>\n",
       "            </tr>\n",
       "            <tr>\n",
       "                        <th id=\"T_40aa43c6_cf64_11ea_95ee_e4029bda51a0level0_row20\" class=\"row_heading level0 row20\" >20</th>\n",
       "                        <td id=\"T_40aa43c6_cf64_11ea_95ee_e4029bda51a0row20_col0\" class=\"data row20 col0\" >PCA Method </td>\n",
       "                        <td id=\"T_40aa43c6_cf64_11ea_95ee_e4029bda51a0row20_col1\" class=\"data row20 col1\" >None</td>\n",
       "            </tr>\n",
       "            <tr>\n",
       "                        <th id=\"T_40aa43c6_cf64_11ea_95ee_e4029bda51a0level0_row21\" class=\"row_heading level0 row21\" >21</th>\n",
       "                        <td id=\"T_40aa43c6_cf64_11ea_95ee_e4029bda51a0row21_col0\" class=\"data row21 col0\" >PCA Components </td>\n",
       "                        <td id=\"T_40aa43c6_cf64_11ea_95ee_e4029bda51a0row21_col1\" class=\"data row21 col1\" >None</td>\n",
       "            </tr>\n",
       "            <tr>\n",
       "                        <th id=\"T_40aa43c6_cf64_11ea_95ee_e4029bda51a0level0_row22\" class=\"row_heading level0 row22\" >22</th>\n",
       "                        <td id=\"T_40aa43c6_cf64_11ea_95ee_e4029bda51a0row22_col0\" class=\"data row22 col0\" >Ignore Low Variance </td>\n",
       "                        <td id=\"T_40aa43c6_cf64_11ea_95ee_e4029bda51a0row22_col1\" class=\"data row22 col1\" >False</td>\n",
       "            </tr>\n",
       "            <tr>\n",
       "                        <th id=\"T_40aa43c6_cf64_11ea_95ee_e4029bda51a0level0_row23\" class=\"row_heading level0 row23\" >23</th>\n",
       "                        <td id=\"T_40aa43c6_cf64_11ea_95ee_e4029bda51a0row23_col0\" class=\"data row23 col0\" >Combine Rare Levels </td>\n",
       "                        <td id=\"T_40aa43c6_cf64_11ea_95ee_e4029bda51a0row23_col1\" class=\"data row23 col1\" >False</td>\n",
       "            </tr>\n",
       "            <tr>\n",
       "                        <th id=\"T_40aa43c6_cf64_11ea_95ee_e4029bda51a0level0_row24\" class=\"row_heading level0 row24\" >24</th>\n",
       "                        <td id=\"T_40aa43c6_cf64_11ea_95ee_e4029bda51a0row24_col0\" class=\"data row24 col0\" >Rare Level Threshold </td>\n",
       "                        <td id=\"T_40aa43c6_cf64_11ea_95ee_e4029bda51a0row24_col1\" class=\"data row24 col1\" >None</td>\n",
       "            </tr>\n",
       "            <tr>\n",
       "                        <th id=\"T_40aa43c6_cf64_11ea_95ee_e4029bda51a0level0_row25\" class=\"row_heading level0 row25\" >25</th>\n",
       "                        <td id=\"T_40aa43c6_cf64_11ea_95ee_e4029bda51a0row25_col0\" class=\"data row25 col0\" >Numeric Binning </td>\n",
       "                        <td id=\"T_40aa43c6_cf64_11ea_95ee_e4029bda51a0row25_col1\" class=\"data row25 col1\" >False</td>\n",
       "            </tr>\n",
       "            <tr>\n",
       "                        <th id=\"T_40aa43c6_cf64_11ea_95ee_e4029bda51a0level0_row26\" class=\"row_heading level0 row26\" >26</th>\n",
       "                        <td id=\"T_40aa43c6_cf64_11ea_95ee_e4029bda51a0row26_col0\" class=\"data row26 col0\" >Remove Outliers </td>\n",
       "                        <td id=\"T_40aa43c6_cf64_11ea_95ee_e4029bda51a0row26_col1\" class=\"data row26 col1\" >False</td>\n",
       "            </tr>\n",
       "            <tr>\n",
       "                        <th id=\"T_40aa43c6_cf64_11ea_95ee_e4029bda51a0level0_row27\" class=\"row_heading level0 row27\" >27</th>\n",
       "                        <td id=\"T_40aa43c6_cf64_11ea_95ee_e4029bda51a0row27_col0\" class=\"data row27 col0\" >Outliers Threshold </td>\n",
       "                        <td id=\"T_40aa43c6_cf64_11ea_95ee_e4029bda51a0row27_col1\" class=\"data row27 col1\" >None</td>\n",
       "            </tr>\n",
       "            <tr>\n",
       "                        <th id=\"T_40aa43c6_cf64_11ea_95ee_e4029bda51a0level0_row28\" class=\"row_heading level0 row28\" >28</th>\n",
       "                        <td id=\"T_40aa43c6_cf64_11ea_95ee_e4029bda51a0row28_col0\" class=\"data row28 col0\" >Remove Multicollinearity </td>\n",
       "                        <td id=\"T_40aa43c6_cf64_11ea_95ee_e4029bda51a0row28_col1\" class=\"data row28 col1\" >False</td>\n",
       "            </tr>\n",
       "            <tr>\n",
       "                        <th id=\"T_40aa43c6_cf64_11ea_95ee_e4029bda51a0level0_row29\" class=\"row_heading level0 row29\" >29</th>\n",
       "                        <td id=\"T_40aa43c6_cf64_11ea_95ee_e4029bda51a0row29_col0\" class=\"data row29 col0\" >Multicollinearity Threshold </td>\n",
       "                        <td id=\"T_40aa43c6_cf64_11ea_95ee_e4029bda51a0row29_col1\" class=\"data row29 col1\" >None</td>\n",
       "            </tr>\n",
       "            <tr>\n",
       "                        <th id=\"T_40aa43c6_cf64_11ea_95ee_e4029bda51a0level0_row30\" class=\"row_heading level0 row30\" >30</th>\n",
       "                        <td id=\"T_40aa43c6_cf64_11ea_95ee_e4029bda51a0row30_col0\" class=\"data row30 col0\" >Clustering </td>\n",
       "                        <td id=\"T_40aa43c6_cf64_11ea_95ee_e4029bda51a0row30_col1\" class=\"data row30 col1\" >False</td>\n",
       "            </tr>\n",
       "            <tr>\n",
       "                        <th id=\"T_40aa43c6_cf64_11ea_95ee_e4029bda51a0level0_row31\" class=\"row_heading level0 row31\" >31</th>\n",
       "                        <td id=\"T_40aa43c6_cf64_11ea_95ee_e4029bda51a0row31_col0\" class=\"data row31 col0\" >Clustering Iteration </td>\n",
       "                        <td id=\"T_40aa43c6_cf64_11ea_95ee_e4029bda51a0row31_col1\" class=\"data row31 col1\" >None</td>\n",
       "            </tr>\n",
       "            <tr>\n",
       "                        <th id=\"T_40aa43c6_cf64_11ea_95ee_e4029bda51a0level0_row32\" class=\"row_heading level0 row32\" >32</th>\n",
       "                        <td id=\"T_40aa43c6_cf64_11ea_95ee_e4029bda51a0row32_col0\" class=\"data row32 col0\" >Polynomial Features </td>\n",
       "                        <td id=\"T_40aa43c6_cf64_11ea_95ee_e4029bda51a0row32_col1\" class=\"data row32 col1\" >False</td>\n",
       "            </tr>\n",
       "            <tr>\n",
       "                        <th id=\"T_40aa43c6_cf64_11ea_95ee_e4029bda51a0level0_row33\" class=\"row_heading level0 row33\" >33</th>\n",
       "                        <td id=\"T_40aa43c6_cf64_11ea_95ee_e4029bda51a0row33_col0\" class=\"data row33 col0\" >Polynomial Degree </td>\n",
       "                        <td id=\"T_40aa43c6_cf64_11ea_95ee_e4029bda51a0row33_col1\" class=\"data row33 col1\" >None</td>\n",
       "            </tr>\n",
       "            <tr>\n",
       "                        <th id=\"T_40aa43c6_cf64_11ea_95ee_e4029bda51a0level0_row34\" class=\"row_heading level0 row34\" >34</th>\n",
       "                        <td id=\"T_40aa43c6_cf64_11ea_95ee_e4029bda51a0row34_col0\" class=\"data row34 col0\" >Trignometry Features </td>\n",
       "                        <td id=\"T_40aa43c6_cf64_11ea_95ee_e4029bda51a0row34_col1\" class=\"data row34 col1\" >False</td>\n",
       "            </tr>\n",
       "            <tr>\n",
       "                        <th id=\"T_40aa43c6_cf64_11ea_95ee_e4029bda51a0level0_row35\" class=\"row_heading level0 row35\" >35</th>\n",
       "                        <td id=\"T_40aa43c6_cf64_11ea_95ee_e4029bda51a0row35_col0\" class=\"data row35 col0\" >Polynomial Threshold </td>\n",
       "                        <td id=\"T_40aa43c6_cf64_11ea_95ee_e4029bda51a0row35_col1\" class=\"data row35 col1\" >None</td>\n",
       "            </tr>\n",
       "            <tr>\n",
       "                        <th id=\"T_40aa43c6_cf64_11ea_95ee_e4029bda51a0level0_row36\" class=\"row_heading level0 row36\" >36</th>\n",
       "                        <td id=\"T_40aa43c6_cf64_11ea_95ee_e4029bda51a0row36_col0\" class=\"data row36 col0\" >Group Features </td>\n",
       "                        <td id=\"T_40aa43c6_cf64_11ea_95ee_e4029bda51a0row36_col1\" class=\"data row36 col1\" >False</td>\n",
       "            </tr>\n",
       "            <tr>\n",
       "                        <th id=\"T_40aa43c6_cf64_11ea_95ee_e4029bda51a0level0_row37\" class=\"row_heading level0 row37\" >37</th>\n",
       "                        <td id=\"T_40aa43c6_cf64_11ea_95ee_e4029bda51a0row37_col0\" class=\"data row37 col0\" >Feature Selection </td>\n",
       "                        <td id=\"T_40aa43c6_cf64_11ea_95ee_e4029bda51a0row37_col1\" class=\"data row37 col1\" >False</td>\n",
       "            </tr>\n",
       "            <tr>\n",
       "                        <th id=\"T_40aa43c6_cf64_11ea_95ee_e4029bda51a0level0_row38\" class=\"row_heading level0 row38\" >38</th>\n",
       "                        <td id=\"T_40aa43c6_cf64_11ea_95ee_e4029bda51a0row38_col0\" class=\"data row38 col0\" >Features Selection Threshold </td>\n",
       "                        <td id=\"T_40aa43c6_cf64_11ea_95ee_e4029bda51a0row38_col1\" class=\"data row38 col1\" >None</td>\n",
       "            </tr>\n",
       "            <tr>\n",
       "                        <th id=\"T_40aa43c6_cf64_11ea_95ee_e4029bda51a0level0_row39\" class=\"row_heading level0 row39\" >39</th>\n",
       "                        <td id=\"T_40aa43c6_cf64_11ea_95ee_e4029bda51a0row39_col0\" class=\"data row39 col0\" >Feature Interaction </td>\n",
       "                        <td id=\"T_40aa43c6_cf64_11ea_95ee_e4029bda51a0row39_col1\" class=\"data row39 col1\" >False</td>\n",
       "            </tr>\n",
       "            <tr>\n",
       "                        <th id=\"T_40aa43c6_cf64_11ea_95ee_e4029bda51a0level0_row40\" class=\"row_heading level0 row40\" >40</th>\n",
       "                        <td id=\"T_40aa43c6_cf64_11ea_95ee_e4029bda51a0row40_col0\" class=\"data row40 col0\" >Feature Ratio </td>\n",
       "                        <td id=\"T_40aa43c6_cf64_11ea_95ee_e4029bda51a0row40_col1\" class=\"data row40 col1\" >False</td>\n",
       "            </tr>\n",
       "            <tr>\n",
       "                        <th id=\"T_40aa43c6_cf64_11ea_95ee_e4029bda51a0level0_row41\" class=\"row_heading level0 row41\" >41</th>\n",
       "                        <td id=\"T_40aa43c6_cf64_11ea_95ee_e4029bda51a0row41_col0\" class=\"data row41 col0\" >Interaction Threshold </td>\n",
       "                        <td id=\"T_40aa43c6_cf64_11ea_95ee_e4029bda51a0row41_col1\" class=\"data row41 col1\" >None</td>\n",
       "            </tr>\n",
       "    </tbody></table>"
      ],
      "text/plain": [
       "<pandas.io.formats.style.Styler at 0x174c07ec648>"
      ]
     },
     "metadata": {},
     "output_type": "display_data"
    }
   ],
   "source": [
    "reg=setup(data=boston_df,target='medv')"
   ]
  },
  {
   "cell_type": "code",
   "execution_count": 17,
   "metadata": {},
   "outputs": [
    {
     "data": {
      "text/html": [
       "<style  type=\"text/css\" >\n",
       "    #T_8228c88c_cf64_11ea_9974_e4029bda51a0 th {\n",
       "          text-align: left;\n",
       "    }    #T_8228c88c_cf64_11ea_9974_e4029bda51a0row0_col0 {\n",
       "            text-align:  left;\n",
       "        }    #T_8228c88c_cf64_11ea_9974_e4029bda51a0row0_col1 {\n",
       "            background-color:  yellow;\n",
       "            text-align:  left;\n",
       "        }    #T_8228c88c_cf64_11ea_9974_e4029bda51a0row0_col2 {\n",
       "            : ;\n",
       "            text-align:  left;\n",
       "        }    #T_8228c88c_cf64_11ea_9974_e4029bda51a0row0_col3 {\n",
       "            : ;\n",
       "            text-align:  left;\n",
       "        }    #T_8228c88c_cf64_11ea_9974_e4029bda51a0row0_col4 {\n",
       "            text-align:  left;\n",
       "        }    #T_8228c88c_cf64_11ea_9974_e4029bda51a0row0_col5 {\n",
       "            : ;\n",
       "            text-align:  left;\n",
       "        }    #T_8228c88c_cf64_11ea_9974_e4029bda51a0row0_col6 {\n",
       "            : ;\n",
       "            text-align:  left;\n",
       "        }    #T_8228c88c_cf64_11ea_9974_e4029bda51a0row1_col0 {\n",
       "            text-align:  left;\n",
       "        }    #T_8228c88c_cf64_11ea_9974_e4029bda51a0row1_col1 {\n",
       "            : ;\n",
       "            text-align:  left;\n",
       "        }    #T_8228c88c_cf64_11ea_9974_e4029bda51a0row1_col2 {\n",
       "            background-color:  yellow;\n",
       "            text-align:  left;\n",
       "        }    #T_8228c88c_cf64_11ea_9974_e4029bda51a0row1_col3 {\n",
       "            background-color:  yellow;\n",
       "            text-align:  left;\n",
       "        }    #T_8228c88c_cf64_11ea_9974_e4029bda51a0row1_col4 {\n",
       "            text-align:  left;\n",
       "        }    #T_8228c88c_cf64_11ea_9974_e4029bda51a0row1_col5 {\n",
       "            : ;\n",
       "            text-align:  left;\n",
       "        }    #T_8228c88c_cf64_11ea_9974_e4029bda51a0row1_col6 {\n",
       "            : ;\n",
       "            text-align:  left;\n",
       "        }    #T_8228c88c_cf64_11ea_9974_e4029bda51a0row2_col0 {\n",
       "            text-align:  left;\n",
       "        }    #T_8228c88c_cf64_11ea_9974_e4029bda51a0row2_col1 {\n",
       "            : ;\n",
       "            text-align:  left;\n",
       "        }    #T_8228c88c_cf64_11ea_9974_e4029bda51a0row2_col2 {\n",
       "            : ;\n",
       "            text-align:  left;\n",
       "        }    #T_8228c88c_cf64_11ea_9974_e4029bda51a0row2_col3 {\n",
       "            : ;\n",
       "            text-align:  left;\n",
       "        }    #T_8228c88c_cf64_11ea_9974_e4029bda51a0row2_col4 {\n",
       "            text-align:  left;\n",
       "        }    #T_8228c88c_cf64_11ea_9974_e4029bda51a0row2_col5 {\n",
       "            : ;\n",
       "            text-align:  left;\n",
       "        }    #T_8228c88c_cf64_11ea_9974_e4029bda51a0row2_col6 {\n",
       "            : ;\n",
       "            text-align:  left;\n",
       "        }    #T_8228c88c_cf64_11ea_9974_e4029bda51a0row3_col0 {\n",
       "            text-align:  left;\n",
       "        }    #T_8228c88c_cf64_11ea_9974_e4029bda51a0row3_col1 {\n",
       "            : ;\n",
       "            text-align:  left;\n",
       "        }    #T_8228c88c_cf64_11ea_9974_e4029bda51a0row3_col2 {\n",
       "            : ;\n",
       "            text-align:  left;\n",
       "        }    #T_8228c88c_cf64_11ea_9974_e4029bda51a0row3_col3 {\n",
       "            : ;\n",
       "            text-align:  left;\n",
       "        }    #T_8228c88c_cf64_11ea_9974_e4029bda51a0row3_col4 {\n",
       "            text-align:  left;\n",
       "        }    #T_8228c88c_cf64_11ea_9974_e4029bda51a0row3_col5 {\n",
       "            background-color:  yellow;\n",
       "            text-align:  left;\n",
       "        }    #T_8228c88c_cf64_11ea_9974_e4029bda51a0row3_col6 {\n",
       "            background-color:  yellow;\n",
       "            text-align:  left;\n",
       "        }    #T_8228c88c_cf64_11ea_9974_e4029bda51a0row4_col0 {\n",
       "            text-align:  left;\n",
       "        }    #T_8228c88c_cf64_11ea_9974_e4029bda51a0row4_col1 {\n",
       "            : ;\n",
       "            text-align:  left;\n",
       "        }    #T_8228c88c_cf64_11ea_9974_e4029bda51a0row4_col2 {\n",
       "            : ;\n",
       "            text-align:  left;\n",
       "        }    #T_8228c88c_cf64_11ea_9974_e4029bda51a0row4_col3 {\n",
       "            : ;\n",
       "            text-align:  left;\n",
       "        }    #T_8228c88c_cf64_11ea_9974_e4029bda51a0row4_col4 {\n",
       "            text-align:  left;\n",
       "        }    #T_8228c88c_cf64_11ea_9974_e4029bda51a0row4_col5 {\n",
       "            : ;\n",
       "            text-align:  left;\n",
       "        }    #T_8228c88c_cf64_11ea_9974_e4029bda51a0row4_col6 {\n",
       "            : ;\n",
       "            text-align:  left;\n",
       "        }    #T_8228c88c_cf64_11ea_9974_e4029bda51a0row5_col0 {\n",
       "            text-align:  left;\n",
       "        }    #T_8228c88c_cf64_11ea_9974_e4029bda51a0row5_col1 {\n",
       "            : ;\n",
       "            text-align:  left;\n",
       "        }    #T_8228c88c_cf64_11ea_9974_e4029bda51a0row5_col2 {\n",
       "            : ;\n",
       "            text-align:  left;\n",
       "        }    #T_8228c88c_cf64_11ea_9974_e4029bda51a0row5_col3 {\n",
       "            : ;\n",
       "            text-align:  left;\n",
       "        }    #T_8228c88c_cf64_11ea_9974_e4029bda51a0row5_col4 {\n",
       "            text-align:  left;\n",
       "        }    #T_8228c88c_cf64_11ea_9974_e4029bda51a0row5_col5 {\n",
       "            : ;\n",
       "            text-align:  left;\n",
       "        }    #T_8228c88c_cf64_11ea_9974_e4029bda51a0row5_col6 {\n",
       "            : ;\n",
       "            text-align:  left;\n",
       "        }    #T_8228c88c_cf64_11ea_9974_e4029bda51a0row6_col0 {\n",
       "            text-align:  left;\n",
       "        }    #T_8228c88c_cf64_11ea_9974_e4029bda51a0row6_col1 {\n",
       "            : ;\n",
       "            text-align:  left;\n",
       "        }    #T_8228c88c_cf64_11ea_9974_e4029bda51a0row6_col2 {\n",
       "            : ;\n",
       "            text-align:  left;\n",
       "        }    #T_8228c88c_cf64_11ea_9974_e4029bda51a0row6_col3 {\n",
       "            : ;\n",
       "            text-align:  left;\n",
       "        }    #T_8228c88c_cf64_11ea_9974_e4029bda51a0row6_col4 {\n",
       "            text-align:  left;\n",
       "        }    #T_8228c88c_cf64_11ea_9974_e4029bda51a0row6_col5 {\n",
       "            : ;\n",
       "            text-align:  left;\n",
       "        }    #T_8228c88c_cf64_11ea_9974_e4029bda51a0row6_col6 {\n",
       "            : ;\n",
       "            text-align:  left;\n",
       "        }    #T_8228c88c_cf64_11ea_9974_e4029bda51a0row7_col0 {\n",
       "            text-align:  left;\n",
       "        }    #T_8228c88c_cf64_11ea_9974_e4029bda51a0row7_col1 {\n",
       "            : ;\n",
       "            text-align:  left;\n",
       "        }    #T_8228c88c_cf64_11ea_9974_e4029bda51a0row7_col2 {\n",
       "            : ;\n",
       "            text-align:  left;\n",
       "        }    #T_8228c88c_cf64_11ea_9974_e4029bda51a0row7_col3 {\n",
       "            : ;\n",
       "            text-align:  left;\n",
       "        }    #T_8228c88c_cf64_11ea_9974_e4029bda51a0row7_col4 {\n",
       "            text-align:  left;\n",
       "        }    #T_8228c88c_cf64_11ea_9974_e4029bda51a0row7_col5 {\n",
       "            : ;\n",
       "            text-align:  left;\n",
       "        }    #T_8228c88c_cf64_11ea_9974_e4029bda51a0row7_col6 {\n",
       "            : ;\n",
       "            text-align:  left;\n",
       "        }    #T_8228c88c_cf64_11ea_9974_e4029bda51a0row8_col0 {\n",
       "            text-align:  left;\n",
       "        }    #T_8228c88c_cf64_11ea_9974_e4029bda51a0row8_col1 {\n",
       "            : ;\n",
       "            text-align:  left;\n",
       "        }    #T_8228c88c_cf64_11ea_9974_e4029bda51a0row8_col2 {\n",
       "            : ;\n",
       "            text-align:  left;\n",
       "        }    #T_8228c88c_cf64_11ea_9974_e4029bda51a0row8_col3 {\n",
       "            : ;\n",
       "            text-align:  left;\n",
       "        }    #T_8228c88c_cf64_11ea_9974_e4029bda51a0row8_col4 {\n",
       "            text-align:  left;\n",
       "        }    #T_8228c88c_cf64_11ea_9974_e4029bda51a0row8_col5 {\n",
       "            : ;\n",
       "            text-align:  left;\n",
       "        }    #T_8228c88c_cf64_11ea_9974_e4029bda51a0row8_col6 {\n",
       "            : ;\n",
       "            text-align:  left;\n",
       "        }    #T_8228c88c_cf64_11ea_9974_e4029bda51a0row9_col0 {\n",
       "            text-align:  left;\n",
       "        }    #T_8228c88c_cf64_11ea_9974_e4029bda51a0row9_col1 {\n",
       "            : ;\n",
       "            text-align:  left;\n",
       "        }    #T_8228c88c_cf64_11ea_9974_e4029bda51a0row9_col2 {\n",
       "            : ;\n",
       "            text-align:  left;\n",
       "        }    #T_8228c88c_cf64_11ea_9974_e4029bda51a0row9_col3 {\n",
       "            : ;\n",
       "            text-align:  left;\n",
       "        }    #T_8228c88c_cf64_11ea_9974_e4029bda51a0row9_col4 {\n",
       "            text-align:  left;\n",
       "        }    #T_8228c88c_cf64_11ea_9974_e4029bda51a0row9_col5 {\n",
       "            : ;\n",
       "            text-align:  left;\n",
       "        }    #T_8228c88c_cf64_11ea_9974_e4029bda51a0row9_col6 {\n",
       "            : ;\n",
       "            text-align:  left;\n",
       "        }    #T_8228c88c_cf64_11ea_9974_e4029bda51a0row10_col0 {\n",
       "            text-align:  left;\n",
       "        }    #T_8228c88c_cf64_11ea_9974_e4029bda51a0row10_col1 {\n",
       "            : ;\n",
       "            text-align:  left;\n",
       "        }    #T_8228c88c_cf64_11ea_9974_e4029bda51a0row10_col2 {\n",
       "            : ;\n",
       "            text-align:  left;\n",
       "        }    #T_8228c88c_cf64_11ea_9974_e4029bda51a0row10_col3 {\n",
       "            : ;\n",
       "            text-align:  left;\n",
       "        }    #T_8228c88c_cf64_11ea_9974_e4029bda51a0row10_col4 {\n",
       "            text-align:  left;\n",
       "        }    #T_8228c88c_cf64_11ea_9974_e4029bda51a0row10_col5 {\n",
       "            : ;\n",
       "            text-align:  left;\n",
       "        }    #T_8228c88c_cf64_11ea_9974_e4029bda51a0row10_col6 {\n",
       "            : ;\n",
       "            text-align:  left;\n",
       "        }    #T_8228c88c_cf64_11ea_9974_e4029bda51a0row11_col0 {\n",
       "            text-align:  left;\n",
       "        }    #T_8228c88c_cf64_11ea_9974_e4029bda51a0row11_col1 {\n",
       "            : ;\n",
       "            text-align:  left;\n",
       "        }    #T_8228c88c_cf64_11ea_9974_e4029bda51a0row11_col2 {\n",
       "            : ;\n",
       "            text-align:  left;\n",
       "        }    #T_8228c88c_cf64_11ea_9974_e4029bda51a0row11_col3 {\n",
       "            : ;\n",
       "            text-align:  left;\n",
       "        }    #T_8228c88c_cf64_11ea_9974_e4029bda51a0row11_col4 {\n",
       "            text-align:  left;\n",
       "        }    #T_8228c88c_cf64_11ea_9974_e4029bda51a0row11_col5 {\n",
       "            : ;\n",
       "            text-align:  left;\n",
       "        }    #T_8228c88c_cf64_11ea_9974_e4029bda51a0row11_col6 {\n",
       "            : ;\n",
       "            text-align:  left;\n",
       "        }    #T_8228c88c_cf64_11ea_9974_e4029bda51a0row12_col0 {\n",
       "            text-align:  left;\n",
       "        }    #T_8228c88c_cf64_11ea_9974_e4029bda51a0row12_col1 {\n",
       "            : ;\n",
       "            text-align:  left;\n",
       "        }    #T_8228c88c_cf64_11ea_9974_e4029bda51a0row12_col2 {\n",
       "            : ;\n",
       "            text-align:  left;\n",
       "        }    #T_8228c88c_cf64_11ea_9974_e4029bda51a0row12_col3 {\n",
       "            : ;\n",
       "            text-align:  left;\n",
       "        }    #T_8228c88c_cf64_11ea_9974_e4029bda51a0row12_col4 {\n",
       "            text-align:  left;\n",
       "        }    #T_8228c88c_cf64_11ea_9974_e4029bda51a0row12_col5 {\n",
       "            : ;\n",
       "            text-align:  left;\n",
       "        }    #T_8228c88c_cf64_11ea_9974_e4029bda51a0row12_col6 {\n",
       "            : ;\n",
       "            text-align:  left;\n",
       "        }    #T_8228c88c_cf64_11ea_9974_e4029bda51a0row13_col0 {\n",
       "            text-align:  left;\n",
       "        }    #T_8228c88c_cf64_11ea_9974_e4029bda51a0row13_col1 {\n",
       "            : ;\n",
       "            text-align:  left;\n",
       "        }    #T_8228c88c_cf64_11ea_9974_e4029bda51a0row13_col2 {\n",
       "            : ;\n",
       "            text-align:  left;\n",
       "        }    #T_8228c88c_cf64_11ea_9974_e4029bda51a0row13_col3 {\n",
       "            : ;\n",
       "            text-align:  left;\n",
       "        }    #T_8228c88c_cf64_11ea_9974_e4029bda51a0row13_col4 {\n",
       "            text-align:  left;\n",
       "        }    #T_8228c88c_cf64_11ea_9974_e4029bda51a0row13_col5 {\n",
       "            : ;\n",
       "            text-align:  left;\n",
       "        }    #T_8228c88c_cf64_11ea_9974_e4029bda51a0row13_col6 {\n",
       "            : ;\n",
       "            text-align:  left;\n",
       "        }    #T_8228c88c_cf64_11ea_9974_e4029bda51a0row14_col0 {\n",
       "            text-align:  left;\n",
       "        }    #T_8228c88c_cf64_11ea_9974_e4029bda51a0row14_col1 {\n",
       "            : ;\n",
       "            text-align:  left;\n",
       "        }    #T_8228c88c_cf64_11ea_9974_e4029bda51a0row14_col2 {\n",
       "            : ;\n",
       "            text-align:  left;\n",
       "        }    #T_8228c88c_cf64_11ea_9974_e4029bda51a0row14_col3 {\n",
       "            : ;\n",
       "            text-align:  left;\n",
       "        }    #T_8228c88c_cf64_11ea_9974_e4029bda51a0row14_col4 {\n",
       "            text-align:  left;\n",
       "        }    #T_8228c88c_cf64_11ea_9974_e4029bda51a0row14_col5 {\n",
       "            : ;\n",
       "            text-align:  left;\n",
       "        }    #T_8228c88c_cf64_11ea_9974_e4029bda51a0row14_col6 {\n",
       "            : ;\n",
       "            text-align:  left;\n",
       "        }    #T_8228c88c_cf64_11ea_9974_e4029bda51a0row15_col0 {\n",
       "            text-align:  left;\n",
       "        }    #T_8228c88c_cf64_11ea_9974_e4029bda51a0row15_col1 {\n",
       "            : ;\n",
       "            text-align:  left;\n",
       "        }    #T_8228c88c_cf64_11ea_9974_e4029bda51a0row15_col2 {\n",
       "            : ;\n",
       "            text-align:  left;\n",
       "        }    #T_8228c88c_cf64_11ea_9974_e4029bda51a0row15_col3 {\n",
       "            : ;\n",
       "            text-align:  left;\n",
       "        }    #T_8228c88c_cf64_11ea_9974_e4029bda51a0row15_col4 {\n",
       "            text-align:  left;\n",
       "        }    #T_8228c88c_cf64_11ea_9974_e4029bda51a0row15_col5 {\n",
       "            : ;\n",
       "            text-align:  left;\n",
       "        }    #T_8228c88c_cf64_11ea_9974_e4029bda51a0row15_col6 {\n",
       "            : ;\n",
       "            text-align:  left;\n",
       "        }    #T_8228c88c_cf64_11ea_9974_e4029bda51a0row16_col0 {\n",
       "            text-align:  left;\n",
       "        }    #T_8228c88c_cf64_11ea_9974_e4029bda51a0row16_col1 {\n",
       "            : ;\n",
       "            text-align:  left;\n",
       "        }    #T_8228c88c_cf64_11ea_9974_e4029bda51a0row16_col2 {\n",
       "            : ;\n",
       "            text-align:  left;\n",
       "        }    #T_8228c88c_cf64_11ea_9974_e4029bda51a0row16_col3 {\n",
       "            : ;\n",
       "            text-align:  left;\n",
       "        }    #T_8228c88c_cf64_11ea_9974_e4029bda51a0row16_col4 {\n",
       "            text-align:  left;\n",
       "        }    #T_8228c88c_cf64_11ea_9974_e4029bda51a0row16_col5 {\n",
       "            : ;\n",
       "            text-align:  left;\n",
       "        }    #T_8228c88c_cf64_11ea_9974_e4029bda51a0row16_col6 {\n",
       "            : ;\n",
       "            text-align:  left;\n",
       "        }    #T_8228c88c_cf64_11ea_9974_e4029bda51a0row17_col0 {\n",
       "            text-align:  left;\n",
       "        }    #T_8228c88c_cf64_11ea_9974_e4029bda51a0row17_col1 {\n",
       "            : ;\n",
       "            text-align:  left;\n",
       "        }    #T_8228c88c_cf64_11ea_9974_e4029bda51a0row17_col2 {\n",
       "            : ;\n",
       "            text-align:  left;\n",
       "        }    #T_8228c88c_cf64_11ea_9974_e4029bda51a0row17_col3 {\n",
       "            : ;\n",
       "            text-align:  left;\n",
       "        }    #T_8228c88c_cf64_11ea_9974_e4029bda51a0row17_col4 {\n",
       "            text-align:  left;\n",
       "        }    #T_8228c88c_cf64_11ea_9974_e4029bda51a0row17_col5 {\n",
       "            : ;\n",
       "            text-align:  left;\n",
       "        }    #T_8228c88c_cf64_11ea_9974_e4029bda51a0row17_col6 {\n",
       "            : ;\n",
       "            text-align:  left;\n",
       "        }    #T_8228c88c_cf64_11ea_9974_e4029bda51a0row18_col0 {\n",
       "            text-align:  left;\n",
       "        }    #T_8228c88c_cf64_11ea_9974_e4029bda51a0row18_col1 {\n",
       "            : ;\n",
       "            text-align:  left;\n",
       "        }    #T_8228c88c_cf64_11ea_9974_e4029bda51a0row18_col2 {\n",
       "            : ;\n",
       "            text-align:  left;\n",
       "        }    #T_8228c88c_cf64_11ea_9974_e4029bda51a0row18_col3 {\n",
       "            : ;\n",
       "            text-align:  left;\n",
       "        }    #T_8228c88c_cf64_11ea_9974_e4029bda51a0row18_col4 {\n",
       "            text-align:  left;\n",
       "        }    #T_8228c88c_cf64_11ea_9974_e4029bda51a0row18_col5 {\n",
       "            : ;\n",
       "            text-align:  left;\n",
       "        }    #T_8228c88c_cf64_11ea_9974_e4029bda51a0row18_col6 {\n",
       "            : ;\n",
       "            text-align:  left;\n",
       "        }    #T_8228c88c_cf64_11ea_9974_e4029bda51a0row19_col0 {\n",
       "            text-align:  left;\n",
       "        }    #T_8228c88c_cf64_11ea_9974_e4029bda51a0row19_col1 {\n",
       "            : ;\n",
       "            text-align:  left;\n",
       "        }    #T_8228c88c_cf64_11ea_9974_e4029bda51a0row19_col2 {\n",
       "            : ;\n",
       "            text-align:  left;\n",
       "        }    #T_8228c88c_cf64_11ea_9974_e4029bda51a0row19_col3 {\n",
       "            : ;\n",
       "            text-align:  left;\n",
       "        }    #T_8228c88c_cf64_11ea_9974_e4029bda51a0row19_col4 {\n",
       "            text-align:  left;\n",
       "        }    #T_8228c88c_cf64_11ea_9974_e4029bda51a0row19_col5 {\n",
       "            : ;\n",
       "            text-align:  left;\n",
       "        }    #T_8228c88c_cf64_11ea_9974_e4029bda51a0row19_col6 {\n",
       "            : ;\n",
       "            text-align:  left;\n",
       "        }    #T_8228c88c_cf64_11ea_9974_e4029bda51a0row20_col0 {\n",
       "            text-align:  left;\n",
       "        }    #T_8228c88c_cf64_11ea_9974_e4029bda51a0row20_col1 {\n",
       "            : ;\n",
       "            text-align:  left;\n",
       "        }    #T_8228c88c_cf64_11ea_9974_e4029bda51a0row20_col2 {\n",
       "            : ;\n",
       "            text-align:  left;\n",
       "        }    #T_8228c88c_cf64_11ea_9974_e4029bda51a0row20_col3 {\n",
       "            : ;\n",
       "            text-align:  left;\n",
       "        }    #T_8228c88c_cf64_11ea_9974_e4029bda51a0row20_col4 {\n",
       "            text-align:  left;\n",
       "        }    #T_8228c88c_cf64_11ea_9974_e4029bda51a0row20_col5 {\n",
       "            : ;\n",
       "            text-align:  left;\n",
       "        }    #T_8228c88c_cf64_11ea_9974_e4029bda51a0row20_col6 {\n",
       "            : ;\n",
       "            text-align:  left;\n",
       "        }    #T_8228c88c_cf64_11ea_9974_e4029bda51a0row21_col0 {\n",
       "            text-align:  left;\n",
       "        }    #T_8228c88c_cf64_11ea_9974_e4029bda51a0row21_col1 {\n",
       "            : ;\n",
       "            text-align:  left;\n",
       "        }    #T_8228c88c_cf64_11ea_9974_e4029bda51a0row21_col2 {\n",
       "            : ;\n",
       "            text-align:  left;\n",
       "        }    #T_8228c88c_cf64_11ea_9974_e4029bda51a0row21_col3 {\n",
       "            : ;\n",
       "            text-align:  left;\n",
       "        }    #T_8228c88c_cf64_11ea_9974_e4029bda51a0row21_col4 {\n",
       "            text-align:  left;\n",
       "        }    #T_8228c88c_cf64_11ea_9974_e4029bda51a0row21_col5 {\n",
       "            : ;\n",
       "            text-align:  left;\n",
       "        }    #T_8228c88c_cf64_11ea_9974_e4029bda51a0row21_col6 {\n",
       "            : ;\n",
       "            text-align:  left;\n",
       "        }</style><table id=\"T_8228c88c_cf64_11ea_9974_e4029bda51a0\" ><thead>    <tr>        <th class=\"blank level0\" ></th>        <th class=\"col_heading level0 col0\" >Model</th>        <th class=\"col_heading level0 col1\" >MAE</th>        <th class=\"col_heading level0 col2\" >MSE</th>        <th class=\"col_heading level0 col3\" >RMSE</th>        <th class=\"col_heading level0 col4\" >R2</th>        <th class=\"col_heading level0 col5\" >RMSLE</th>        <th class=\"col_heading level0 col6\" >MAPE</th>    </tr></thead><tbody>\n",
       "                <tr>\n",
       "                        <th id=\"T_8228c88c_cf64_11ea_9974_e4029bda51a0level0_row0\" class=\"row_heading level0 row0\" >0</th>\n",
       "                        <td id=\"T_8228c88c_cf64_11ea_9974_e4029bda51a0row0_col0\" class=\"data row0 col0\" >CatBoost Regressor</td>\n",
       "                        <td id=\"T_8228c88c_cf64_11ea_9974_e4029bda51a0row0_col1\" class=\"data row0 col1\" >1.987700</td>\n",
       "                        <td id=\"T_8228c88c_cf64_11ea_9974_e4029bda51a0row0_col2\" class=\"data row0 col2\" >8.534100</td>\n",
       "                        <td id=\"T_8228c88c_cf64_11ea_9974_e4029bda51a0row0_col3\" class=\"data row0 col3\" >2.868600</td>\n",
       "                        <td id=\"T_8228c88c_cf64_11ea_9974_e4029bda51a0row0_col4\" class=\"data row0 col4\" >0.889600</td>\n",
       "                        <td id=\"T_8228c88c_cf64_11ea_9974_e4029bda51a0row0_col5\" class=\"data row0 col5\" >0.129900</td>\n",
       "                        <td id=\"T_8228c88c_cf64_11ea_9974_e4029bda51a0row0_col6\" class=\"data row0 col6\" >0.099700</td>\n",
       "            </tr>\n",
       "            <tr>\n",
       "                        <th id=\"T_8228c88c_cf64_11ea_9974_e4029bda51a0level0_row1\" class=\"row_heading level0 row1\" >1</th>\n",
       "                        <td id=\"T_8228c88c_cf64_11ea_9974_e4029bda51a0row1_col0\" class=\"data row1 col0\" >Gradient Boosting Regressor</td>\n",
       "                        <td id=\"T_8228c88c_cf64_11ea_9974_e4029bda51a0row1_col1\" class=\"data row1 col1\" >2.037700</td>\n",
       "                        <td id=\"T_8228c88c_cf64_11ea_9974_e4029bda51a0row1_col2\" class=\"data row1 col2\" >8.489600</td>\n",
       "                        <td id=\"T_8228c88c_cf64_11ea_9974_e4029bda51a0row1_col3\" class=\"data row1 col3\" >2.861300</td>\n",
       "                        <td id=\"T_8228c88c_cf64_11ea_9974_e4029bda51a0row1_col4\" class=\"data row1 col4\" >0.881100</td>\n",
       "                        <td id=\"T_8228c88c_cf64_11ea_9974_e4029bda51a0row1_col5\" class=\"data row1 col5\" >0.133200</td>\n",
       "                        <td id=\"T_8228c88c_cf64_11ea_9974_e4029bda51a0row1_col6\" class=\"data row1 col6\" >0.105100</td>\n",
       "            </tr>\n",
       "            <tr>\n",
       "                        <th id=\"T_8228c88c_cf64_11ea_9974_e4029bda51a0level0_row2\" class=\"row_heading level0 row2\" >2</th>\n",
       "                        <td id=\"T_8228c88c_cf64_11ea_9974_e4029bda51a0row2_col0\" class=\"data row2 col0\" >Extreme Gradient Boosting</td>\n",
       "                        <td id=\"T_8228c88c_cf64_11ea_9974_e4029bda51a0row2_col1\" class=\"data row2 col1\" >2.070100</td>\n",
       "                        <td id=\"T_8228c88c_cf64_11ea_9974_e4029bda51a0row2_col2\" class=\"data row2 col2\" >8.824400</td>\n",
       "                        <td id=\"T_8228c88c_cf64_11ea_9974_e4029bda51a0row2_col3\" class=\"data row2 col3\" >2.913700</td>\n",
       "                        <td id=\"T_8228c88c_cf64_11ea_9974_e4029bda51a0row2_col4\" class=\"data row2 col4\" >0.877400</td>\n",
       "                        <td id=\"T_8228c88c_cf64_11ea_9974_e4029bda51a0row2_col5\" class=\"data row2 col5\" >0.132600</td>\n",
       "                        <td id=\"T_8228c88c_cf64_11ea_9974_e4029bda51a0row2_col6\" class=\"data row2 col6\" >0.105500</td>\n",
       "            </tr>\n",
       "            <tr>\n",
       "                        <th id=\"T_8228c88c_cf64_11ea_9974_e4029bda51a0level0_row3\" class=\"row_heading level0 row3\" >3</th>\n",
       "                        <td id=\"T_8228c88c_cf64_11ea_9974_e4029bda51a0row3_col0\" class=\"data row3 col0\" >Extra Trees Regressor</td>\n",
       "                        <td id=\"T_8228c88c_cf64_11ea_9974_e4029bda51a0row3_col1\" class=\"data row3 col1\" >2.003500</td>\n",
       "                        <td id=\"T_8228c88c_cf64_11ea_9974_e4029bda51a0row3_col2\" class=\"data row3 col2\" >9.303900</td>\n",
       "                        <td id=\"T_8228c88c_cf64_11ea_9974_e4029bda51a0row3_col3\" class=\"data row3 col3\" >2.964400</td>\n",
       "                        <td id=\"T_8228c88c_cf64_11ea_9974_e4029bda51a0row3_col4\" class=\"data row3 col4\" >0.874400</td>\n",
       "                        <td id=\"T_8228c88c_cf64_11ea_9974_e4029bda51a0row3_col5\" class=\"data row3 col5\" >0.127200</td>\n",
       "                        <td id=\"T_8228c88c_cf64_11ea_9974_e4029bda51a0row3_col6\" class=\"data row3 col6\" >0.099200</td>\n",
       "            </tr>\n",
       "            <tr>\n",
       "                        <th id=\"T_8228c88c_cf64_11ea_9974_e4029bda51a0level0_row4\" class=\"row_heading level0 row4\" >4</th>\n",
       "                        <td id=\"T_8228c88c_cf64_11ea_9974_e4029bda51a0row4_col0\" class=\"data row4 col0\" >Random Forest</td>\n",
       "                        <td id=\"T_8228c88c_cf64_11ea_9974_e4029bda51a0row4_col1\" class=\"data row4 col1\" >2.168600</td>\n",
       "                        <td id=\"T_8228c88c_cf64_11ea_9974_e4029bda51a0row4_col2\" class=\"data row4 col2\" >10.184300</td>\n",
       "                        <td id=\"T_8228c88c_cf64_11ea_9974_e4029bda51a0row4_col3\" class=\"data row4 col3\" >3.138600</td>\n",
       "                        <td id=\"T_8228c88c_cf64_11ea_9974_e4029bda51a0row4_col4\" class=\"data row4 col4\" >0.862100</td>\n",
       "                        <td id=\"T_8228c88c_cf64_11ea_9974_e4029bda51a0row4_col5\" class=\"data row4 col5\" >0.139200</td>\n",
       "                        <td id=\"T_8228c88c_cf64_11ea_9974_e4029bda51a0row4_col6\" class=\"data row4 col6\" >0.109000</td>\n",
       "            </tr>\n",
       "            <tr>\n",
       "                        <th id=\"T_8228c88c_cf64_11ea_9974_e4029bda51a0level0_row5\" class=\"row_heading level0 row5\" >5</th>\n",
       "                        <td id=\"T_8228c88c_cf64_11ea_9974_e4029bda51a0row5_col0\" class=\"data row5 col0\" >Light Gradient Boosting Machine</td>\n",
       "                        <td id=\"T_8228c88c_cf64_11ea_9974_e4029bda51a0row5_col1\" class=\"data row5 col1\" >2.218100</td>\n",
       "                        <td id=\"T_8228c88c_cf64_11ea_9974_e4029bda51a0row5_col2\" class=\"data row5 col2\" >10.972200</td>\n",
       "                        <td id=\"T_8228c88c_cf64_11ea_9974_e4029bda51a0row5_col3\" class=\"data row5 col3\" >3.254200</td>\n",
       "                        <td id=\"T_8228c88c_cf64_11ea_9974_e4029bda51a0row5_col4\" class=\"data row5 col4\" >0.857100</td>\n",
       "                        <td id=\"T_8228c88c_cf64_11ea_9974_e4029bda51a0row5_col5\" class=\"data row5 col5\" >0.138100</td>\n",
       "                        <td id=\"T_8228c88c_cf64_11ea_9974_e4029bda51a0row5_col6\" class=\"data row5 col6\" >0.107600</td>\n",
       "            </tr>\n",
       "            <tr>\n",
       "                        <th id=\"T_8228c88c_cf64_11ea_9974_e4029bda51a0level0_row6\" class=\"row_heading level0 row6\" >6</th>\n",
       "                        <td id=\"T_8228c88c_cf64_11ea_9974_e4029bda51a0row6_col0\" class=\"data row6 col0\" >AdaBoost Regressor</td>\n",
       "                        <td id=\"T_8228c88c_cf64_11ea_9974_e4029bda51a0row6_col1\" class=\"data row6 col1\" >2.468300</td>\n",
       "                        <td id=\"T_8228c88c_cf64_11ea_9974_e4029bda51a0row6_col2\" class=\"data row6 col2\" >11.749800</td>\n",
       "                        <td id=\"T_8228c88c_cf64_11ea_9974_e4029bda51a0row6_col3\" class=\"data row6 col3\" >3.374600</td>\n",
       "                        <td id=\"T_8228c88c_cf64_11ea_9974_e4029bda51a0row6_col4\" class=\"data row6 col4\" >0.840200</td>\n",
       "                        <td id=\"T_8228c88c_cf64_11ea_9974_e4029bda51a0row6_col5\" class=\"data row6 col5\" >0.157600</td>\n",
       "                        <td id=\"T_8228c88c_cf64_11ea_9974_e4029bda51a0row6_col6\" class=\"data row6 col6\" >0.129900</td>\n",
       "            </tr>\n",
       "            <tr>\n",
       "                        <th id=\"T_8228c88c_cf64_11ea_9974_e4029bda51a0level0_row7\" class=\"row_heading level0 row7\" >7</th>\n",
       "                        <td id=\"T_8228c88c_cf64_11ea_9974_e4029bda51a0row7_col0\" class=\"data row7 col0\" >Decision Tree</td>\n",
       "                        <td id=\"T_8228c88c_cf64_11ea_9974_e4029bda51a0row7_col1\" class=\"data row7 col1\" >2.846200</td>\n",
       "                        <td id=\"T_8228c88c_cf64_11ea_9974_e4029bda51a0row7_col2\" class=\"data row7 col2\" >17.506200</td>\n",
       "                        <td id=\"T_8228c88c_cf64_11ea_9974_e4029bda51a0row7_col3\" class=\"data row7 col3\" >4.089200</td>\n",
       "                        <td id=\"T_8228c88c_cf64_11ea_9974_e4029bda51a0row7_col4\" class=\"data row7 col4\" >0.750100</td>\n",
       "                        <td id=\"T_8228c88c_cf64_11ea_9974_e4029bda51a0row7_col5\" class=\"data row7 col5\" >0.181500</td>\n",
       "                        <td id=\"T_8228c88c_cf64_11ea_9974_e4029bda51a0row7_col6\" class=\"data row7 col6\" >0.142000</td>\n",
       "            </tr>\n",
       "            <tr>\n",
       "                        <th id=\"T_8228c88c_cf64_11ea_9974_e4029bda51a0level0_row8\" class=\"row_heading level0 row8\" >8</th>\n",
       "                        <td id=\"T_8228c88c_cf64_11ea_9974_e4029bda51a0row8_col0\" class=\"data row8 col0\" >Linear Regression</td>\n",
       "                        <td id=\"T_8228c88c_cf64_11ea_9974_e4029bda51a0row8_col1\" class=\"data row8 col1\" >3.492500</td>\n",
       "                        <td id=\"T_8228c88c_cf64_11ea_9974_e4029bda51a0row8_col2\" class=\"data row8 col2\" >25.870700</td>\n",
       "                        <td id=\"T_8228c88c_cf64_11ea_9974_e4029bda51a0row8_col3\" class=\"data row8 col3\" >5.006800</td>\n",
       "                        <td id=\"T_8228c88c_cf64_11ea_9974_e4029bda51a0row8_col4\" class=\"data row8 col4\" >0.671100</td>\n",
       "                        <td id=\"T_8228c88c_cf64_11ea_9974_e4029bda51a0row8_col5\" class=\"data row8 col5\" >0.243000</td>\n",
       "                        <td id=\"T_8228c88c_cf64_11ea_9974_e4029bda51a0row8_col6\" class=\"data row8 col6\" >0.172600</td>\n",
       "            </tr>\n",
       "            <tr>\n",
       "                        <th id=\"T_8228c88c_cf64_11ea_9974_e4029bda51a0level0_row9\" class=\"row_heading level0 row9\" >9</th>\n",
       "                        <td id=\"T_8228c88c_cf64_11ea_9974_e4029bda51a0row9_col0\" class=\"data row9 col0\" >Ridge Regression</td>\n",
       "                        <td id=\"T_8228c88c_cf64_11ea_9974_e4029bda51a0row9_col1\" class=\"data row9 col1\" >3.484700</td>\n",
       "                        <td id=\"T_8228c88c_cf64_11ea_9974_e4029bda51a0row9_col2\" class=\"data row9 col2\" >26.094900</td>\n",
       "                        <td id=\"T_8228c88c_cf64_11ea_9974_e4029bda51a0row9_col3\" class=\"data row9 col3\" >5.017000</td>\n",
       "                        <td id=\"T_8228c88c_cf64_11ea_9974_e4029bda51a0row9_col4\" class=\"data row9 col4\" >0.669500</td>\n",
       "                        <td id=\"T_8228c88c_cf64_11ea_9974_e4029bda51a0row9_col5\" class=\"data row9 col5\" >0.233100</td>\n",
       "                        <td id=\"T_8228c88c_cf64_11ea_9974_e4029bda51a0row9_col6\" class=\"data row9 col6\" >0.172600</td>\n",
       "            </tr>\n",
       "            <tr>\n",
       "                        <th id=\"T_8228c88c_cf64_11ea_9974_e4029bda51a0level0_row10\" class=\"row_heading level0 row10\" >10</th>\n",
       "                        <td id=\"T_8228c88c_cf64_11ea_9974_e4029bda51a0row10_col0\" class=\"data row10 col0\" >TheilSen Regressor</td>\n",
       "                        <td id=\"T_8228c88c_cf64_11ea_9974_e4029bda51a0row10_col1\" class=\"data row10 col1\" >3.467600</td>\n",
       "                        <td id=\"T_8228c88c_cf64_11ea_9974_e4029bda51a0row10_col2\" class=\"data row10 col2\" >27.447100</td>\n",
       "                        <td id=\"T_8228c88c_cf64_11ea_9974_e4029bda51a0row10_col3\" class=\"data row10 col3\" >5.096100</td>\n",
       "                        <td id=\"T_8228c88c_cf64_11ea_9974_e4029bda51a0row10_col4\" class=\"data row10 col4\" >0.668100</td>\n",
       "                        <td id=\"T_8228c88c_cf64_11ea_9974_e4029bda51a0row10_col5\" class=\"data row10 col5\" >0.233500</td>\n",
       "                        <td id=\"T_8228c88c_cf64_11ea_9974_e4029bda51a0row10_col6\" class=\"data row10 col6\" >0.162900</td>\n",
       "            </tr>\n",
       "            <tr>\n",
       "                        <th id=\"T_8228c88c_cf64_11ea_9974_e4029bda51a0level0_row11\" class=\"row_heading level0 row11\" >11</th>\n",
       "                        <td id=\"T_8228c88c_cf64_11ea_9974_e4029bda51a0row11_col0\" class=\"data row11 col0\" >Least Angle Regression</td>\n",
       "                        <td id=\"T_8228c88c_cf64_11ea_9974_e4029bda51a0row11_col1\" class=\"data row11 col1\" >3.533800</td>\n",
       "                        <td id=\"T_8228c88c_cf64_11ea_9974_e4029bda51a0row11_col2\" class=\"data row11 col2\" >26.364900</td>\n",
       "                        <td id=\"T_8228c88c_cf64_11ea_9974_e4029bda51a0row11_col3\" class=\"data row11 col3\" >5.049900</td>\n",
       "                        <td id=\"T_8228c88c_cf64_11ea_9974_e4029bda51a0row11_col4\" class=\"data row11 col4\" >0.666000</td>\n",
       "                        <td id=\"T_8228c88c_cf64_11ea_9974_e4029bda51a0row11_col5\" class=\"data row11 col5\" >0.245500</td>\n",
       "                        <td id=\"T_8228c88c_cf64_11ea_9974_e4029bda51a0row11_col6\" class=\"data row11 col6\" >0.175000</td>\n",
       "            </tr>\n",
       "            <tr>\n",
       "                        <th id=\"T_8228c88c_cf64_11ea_9974_e4029bda51a0level0_row12\" class=\"row_heading level0 row12\" >12</th>\n",
       "                        <td id=\"T_8228c88c_cf64_11ea_9974_e4029bda51a0row12_col0\" class=\"data row12 col0\" >Bayesian Ridge</td>\n",
       "                        <td id=\"T_8228c88c_cf64_11ea_9974_e4029bda51a0row12_col1\" class=\"data row12 col1\" >3.493800</td>\n",
       "                        <td id=\"T_8228c88c_cf64_11ea_9974_e4029bda51a0row12_col2\" class=\"data row12 col2\" >26.769600</td>\n",
       "                        <td id=\"T_8228c88c_cf64_11ea_9974_e4029bda51a0row12_col3\" class=\"data row12 col3\" >5.066400</td>\n",
       "                        <td id=\"T_8228c88c_cf64_11ea_9974_e4029bda51a0row12_col4\" class=\"data row12 col4\" >0.664400</td>\n",
       "                        <td id=\"T_8228c88c_cf64_11ea_9974_e4029bda51a0row12_col5\" class=\"data row12 col5\" >0.232100</td>\n",
       "                        <td id=\"T_8228c88c_cf64_11ea_9974_e4029bda51a0row12_col6\" class=\"data row12 col6\" >0.173300</td>\n",
       "            </tr>\n",
       "            <tr>\n",
       "                        <th id=\"T_8228c88c_cf64_11ea_9974_e4029bda51a0level0_row13\" class=\"row_heading level0 row13\" >13</th>\n",
       "                        <td id=\"T_8228c88c_cf64_11ea_9974_e4029bda51a0row13_col0\" class=\"data row13 col0\" >Random Sample Consensus</td>\n",
       "                        <td id=\"T_8228c88c_cf64_11ea_9974_e4029bda51a0row13_col1\" class=\"data row13 col1\" >3.491000</td>\n",
       "                        <td id=\"T_8228c88c_cf64_11ea_9974_e4029bda51a0row13_col2\" class=\"data row13 col2\" >30.942000</td>\n",
       "                        <td id=\"T_8228c88c_cf64_11ea_9974_e4029bda51a0row13_col3\" class=\"data row13 col3\" >5.370600</td>\n",
       "                        <td id=\"T_8228c88c_cf64_11ea_9974_e4029bda51a0row13_col4\" class=\"data row13 col4\" >0.627400</td>\n",
       "                        <td id=\"T_8228c88c_cf64_11ea_9974_e4029bda51a0row13_col5\" class=\"data row13 col5\" >0.258400</td>\n",
       "                        <td id=\"T_8228c88c_cf64_11ea_9974_e4029bda51a0row13_col6\" class=\"data row13 col6\" >0.166500</td>\n",
       "            </tr>\n",
       "            <tr>\n",
       "                        <th id=\"T_8228c88c_cf64_11ea_9974_e4029bda51a0level0_row14\" class=\"row_heading level0 row14\" >14</th>\n",
       "                        <td id=\"T_8228c88c_cf64_11ea_9974_e4029bda51a0row14_col0\" class=\"data row14 col0\" >Elastic Net</td>\n",
       "                        <td id=\"T_8228c88c_cf64_11ea_9974_e4029bda51a0row14_col1\" class=\"data row14 col1\" >3.817300</td>\n",
       "                        <td id=\"T_8228c88c_cf64_11ea_9974_e4029bda51a0row14_col2\" class=\"data row14 col2\" >30.581200</td>\n",
       "                        <td id=\"T_8228c88c_cf64_11ea_9974_e4029bda51a0row14_col3\" class=\"data row14 col3\" >5.419200</td>\n",
       "                        <td id=\"T_8228c88c_cf64_11ea_9974_e4029bda51a0row14_col4\" class=\"data row14 col4\" >0.626600</td>\n",
       "                        <td id=\"T_8228c88c_cf64_11ea_9974_e4029bda51a0row14_col5\" class=\"data row14 col5\" >0.260300</td>\n",
       "                        <td id=\"T_8228c88c_cf64_11ea_9974_e4029bda51a0row14_col6\" class=\"data row14 col6\" >0.182000</td>\n",
       "            </tr>\n",
       "            <tr>\n",
       "                        <th id=\"T_8228c88c_cf64_11ea_9974_e4029bda51a0level0_row15\" class=\"row_heading level0 row15\" >15</th>\n",
       "                        <td id=\"T_8228c88c_cf64_11ea_9974_e4029bda51a0row15_col0\" class=\"data row15 col0\" >Lasso Regression</td>\n",
       "                        <td id=\"T_8228c88c_cf64_11ea_9974_e4029bda51a0row15_col1\" class=\"data row15 col1\" >3.881700</td>\n",
       "                        <td id=\"T_8228c88c_cf64_11ea_9974_e4029bda51a0row15_col2\" class=\"data row15 col2\" >31.498300</td>\n",
       "                        <td id=\"T_8228c88c_cf64_11ea_9974_e4029bda51a0row15_col3\" class=\"data row15 col3\" >5.502600</td>\n",
       "                        <td id=\"T_8228c88c_cf64_11ea_9974_e4029bda51a0row15_col4\" class=\"data row15 col4\" >0.616700</td>\n",
       "                        <td id=\"T_8228c88c_cf64_11ea_9974_e4029bda51a0row15_col5\" class=\"data row15 col5\" >0.268500</td>\n",
       "                        <td id=\"T_8228c88c_cf64_11ea_9974_e4029bda51a0row15_col6\" class=\"data row15 col6\" >0.183400</td>\n",
       "            </tr>\n",
       "            <tr>\n",
       "                        <th id=\"T_8228c88c_cf64_11ea_9974_e4029bda51a0level0_row16\" class=\"row_heading level0 row16\" >16</th>\n",
       "                        <td id=\"T_8228c88c_cf64_11ea_9974_e4029bda51a0row16_col0\" class=\"data row16 col0\" >Orthogonal Matching Pursuit</td>\n",
       "                        <td id=\"T_8228c88c_cf64_11ea_9974_e4029bda51a0row16_col1\" class=\"data row16 col1\" >4.042100</td>\n",
       "                        <td id=\"T_8228c88c_cf64_11ea_9974_e4029bda51a0row16_col2\" class=\"data row16 col2\" >33.539400</td>\n",
       "                        <td id=\"T_8228c88c_cf64_11ea_9974_e4029bda51a0row16_col3\" class=\"data row16 col3\" >5.674100</td>\n",
       "                        <td id=\"T_8228c88c_cf64_11ea_9974_e4029bda51a0row16_col4\" class=\"data row16 col4\" >0.597000</td>\n",
       "                        <td id=\"T_8228c88c_cf64_11ea_9974_e4029bda51a0row16_col5\" class=\"data row16 col5\" >0.253900</td>\n",
       "                        <td id=\"T_8228c88c_cf64_11ea_9974_e4029bda51a0row16_col6\" class=\"data row16 col6\" >0.185200</td>\n",
       "            </tr>\n",
       "            <tr>\n",
       "                        <th id=\"T_8228c88c_cf64_11ea_9974_e4029bda51a0level0_row17\" class=\"row_heading level0 row17\" >17</th>\n",
       "                        <td id=\"T_8228c88c_cf64_11ea_9974_e4029bda51a0row17_col0\" class=\"data row17 col0\" >Huber Regressor</td>\n",
       "                        <td id=\"T_8228c88c_cf64_11ea_9974_e4029bda51a0row17_col1\" class=\"data row17 col1\" >3.806800</td>\n",
       "                        <td id=\"T_8228c88c_cf64_11ea_9974_e4029bda51a0row17_col2\" class=\"data row17 col2\" >34.896700</td>\n",
       "                        <td id=\"T_8228c88c_cf64_11ea_9974_e4029bda51a0row17_col3\" class=\"data row17 col3\" >5.723700</td>\n",
       "                        <td id=\"T_8228c88c_cf64_11ea_9974_e4029bda51a0row17_col4\" class=\"data row17 col4\" >0.568200</td>\n",
       "                        <td id=\"T_8228c88c_cf64_11ea_9974_e4029bda51a0row17_col5\" class=\"data row17 col5\" >0.275300</td>\n",
       "                        <td id=\"T_8228c88c_cf64_11ea_9974_e4029bda51a0row17_col6\" class=\"data row17 col6\" >0.180000</td>\n",
       "            </tr>\n",
       "            <tr>\n",
       "                        <th id=\"T_8228c88c_cf64_11ea_9974_e4029bda51a0level0_row18\" class=\"row_heading level0 row18\" >18</th>\n",
       "                        <td id=\"T_8228c88c_cf64_11ea_9974_e4029bda51a0row18_col0\" class=\"data row18 col0\" >K Neighbors Regressor</td>\n",
       "                        <td id=\"T_8228c88c_cf64_11ea_9974_e4029bda51a0row18_col1\" class=\"data row18 col1\" >4.571500</td>\n",
       "                        <td id=\"T_8228c88c_cf64_11ea_9974_e4029bda51a0row18_col2\" class=\"data row18 col2\" >46.543800</td>\n",
       "                        <td id=\"T_8228c88c_cf64_11ea_9974_e4029bda51a0row18_col3\" class=\"data row18 col3\" >6.651000</td>\n",
       "                        <td id=\"T_8228c88c_cf64_11ea_9974_e4029bda51a0row18_col4\" class=\"data row18 col4\" >0.415400</td>\n",
       "                        <td id=\"T_8228c88c_cf64_11ea_9974_e4029bda51a0row18_col5\" class=\"data row18 col5\" >0.260500</td>\n",
       "                        <td id=\"T_8228c88c_cf64_11ea_9974_e4029bda51a0row18_col6\" class=\"data row18 col6\" >0.215800</td>\n",
       "            </tr>\n",
       "            <tr>\n",
       "                        <th id=\"T_8228c88c_cf64_11ea_9974_e4029bda51a0level0_row19\" class=\"row_heading level0 row19\" >19</th>\n",
       "                        <td id=\"T_8228c88c_cf64_11ea_9974_e4029bda51a0row19_col0\" class=\"data row19 col0\" >Support Vector Machine</td>\n",
       "                        <td id=\"T_8228c88c_cf64_11ea_9974_e4029bda51a0row19_col1\" class=\"data row19 col1\" >5.395300</td>\n",
       "                        <td id=\"T_8228c88c_cf64_11ea_9974_e4029bda51a0row19_col2\" class=\"data row19 col2\" >72.270800</td>\n",
       "                        <td id=\"T_8228c88c_cf64_11ea_9974_e4029bda51a0row19_col3\" class=\"data row19 col3\" >8.186700</td>\n",
       "                        <td id=\"T_8228c88c_cf64_11ea_9974_e4029bda51a0row19_col4\" class=\"data row19 col4\" >0.182700</td>\n",
       "                        <td id=\"T_8228c88c_cf64_11ea_9974_e4029bda51a0row19_col5\" class=\"data row19 col5\" >0.317800</td>\n",
       "                        <td id=\"T_8228c88c_cf64_11ea_9974_e4029bda51a0row19_col6\" class=\"data row19 col6\" >0.239100</td>\n",
       "            </tr>\n",
       "            <tr>\n",
       "                        <th id=\"T_8228c88c_cf64_11ea_9974_e4029bda51a0level0_row20\" class=\"row_heading level0 row20\" >20</th>\n",
       "                        <td id=\"T_8228c88c_cf64_11ea_9974_e4029bda51a0row20_col0\" class=\"data row20 col0\" >Lasso Least Angle Regression</td>\n",
       "                        <td id=\"T_8228c88c_cf64_11ea_9974_e4029bda51a0row20_col1\" class=\"data row20 col1\" >6.697600</td>\n",
       "                        <td id=\"T_8228c88c_cf64_11ea_9974_e4029bda51a0row20_col2\" class=\"data row20 col2\" >86.701000</td>\n",
       "                        <td id=\"T_8228c88c_cf64_11ea_9974_e4029bda51a0row20_col3\" class=\"data row20 col3\" >9.154900</td>\n",
       "                        <td id=\"T_8228c88c_cf64_11ea_9974_e4029bda51a0row20_col4\" class=\"data row20 col4\" >-0.043000</td>\n",
       "                        <td id=\"T_8228c88c_cf64_11ea_9974_e4029bda51a0row20_col5\" class=\"data row20 col5\" >0.394300</td>\n",
       "                        <td id=\"T_8228c88c_cf64_11ea_9974_e4029bda51a0row20_col6\" class=\"data row20 col6\" >0.364700</td>\n",
       "            </tr>\n",
       "            <tr>\n",
       "                        <th id=\"T_8228c88c_cf64_11ea_9974_e4029bda51a0level0_row21\" class=\"row_heading level0 row21\" >21</th>\n",
       "                        <td id=\"T_8228c88c_cf64_11ea_9974_e4029bda51a0row21_col0\" class=\"data row21 col0\" >Passive Aggressive Regressor</td>\n",
       "                        <td id=\"T_8228c88c_cf64_11ea_9974_e4029bda51a0row21_col1\" class=\"data row21 col1\" >8.214100</td>\n",
       "                        <td id=\"T_8228c88c_cf64_11ea_9974_e4029bda51a0row21_col2\" class=\"data row21 col2\" >117.127400</td>\n",
       "                        <td id=\"T_8228c88c_cf64_11ea_9974_e4029bda51a0row21_col3\" class=\"data row21 col3\" >10.516200</td>\n",
       "                        <td id=\"T_8228c88c_cf64_11ea_9974_e4029bda51a0row21_col4\" class=\"data row21 col4\" >-0.407500</td>\n",
       "                        <td id=\"T_8228c88c_cf64_11ea_9974_e4029bda51a0row21_col5\" class=\"data row21 col5\" >0.503900</td>\n",
       "                        <td id=\"T_8228c88c_cf64_11ea_9974_e4029bda51a0row21_col6\" class=\"data row21 col6\" >0.414000</td>\n",
       "            </tr>\n",
       "    </tbody></table>"
      ],
      "text/plain": [
       "<pandas.io.formats.style.Styler at 0x174d35bc988>"
      ]
     },
     "execution_count": 17,
     "metadata": {},
     "output_type": "execute_result"
    }
   ],
   "source": [
    "compare_models()"
   ]
  },
  {
   "cell_type": "code",
   "execution_count": 18,
   "metadata": {},
   "outputs": [
    {
     "data": {
      "text/html": [
       "<div>\n",
       "<style scoped>\n",
       "    .dataframe tbody tr th:only-of-type {\n",
       "        vertical-align: middle;\n",
       "    }\n",
       "\n",
       "    .dataframe tbody tr th {\n",
       "        vertical-align: top;\n",
       "    }\n",
       "\n",
       "    .dataframe thead th {\n",
       "        text-align: right;\n",
       "    }\n",
       "</style>\n",
       "<table border=\"1\" class=\"dataframe\">\n",
       "  <thead>\n",
       "    <tr style=\"text-align: right;\">\n",
       "      <th></th>\n",
       "      <th>MAE</th>\n",
       "      <th>MSE</th>\n",
       "      <th>RMSE</th>\n",
       "      <th>R2</th>\n",
       "      <th>RMSLE</th>\n",
       "      <th>MAPE</th>\n",
       "    </tr>\n",
       "  </thead>\n",
       "  <tbody>\n",
       "    <tr>\n",
       "      <th>0</th>\n",
       "      <td>1.6886</td>\n",
       "      <td>5.7306</td>\n",
       "      <td>2.3939</td>\n",
       "      <td>0.9309</td>\n",
       "      <td>0.1073</td>\n",
       "      <td>0.0767</td>\n",
       "    </tr>\n",
       "    <tr>\n",
       "      <th>1</th>\n",
       "      <td>1.8239</td>\n",
       "      <td>6.4535</td>\n",
       "      <td>2.5404</td>\n",
       "      <td>0.9553</td>\n",
       "      <td>0.1256</td>\n",
       "      <td>0.0938</td>\n",
       "    </tr>\n",
       "    <tr>\n",
       "      <th>2</th>\n",
       "      <td>1.9498</td>\n",
       "      <td>5.9500</td>\n",
       "      <td>2.4393</td>\n",
       "      <td>0.8730</td>\n",
       "      <td>0.1223</td>\n",
       "      <td>0.1014</td>\n",
       "    </tr>\n",
       "    <tr>\n",
       "      <th>3</th>\n",
       "      <td>2.0303</td>\n",
       "      <td>10.1346</td>\n",
       "      <td>3.1835</td>\n",
       "      <td>0.8186</td>\n",
       "      <td>0.1536</td>\n",
       "      <td>0.1191</td>\n",
       "    </tr>\n",
       "    <tr>\n",
       "      <th>4</th>\n",
       "      <td>1.6996</td>\n",
       "      <td>4.5887</td>\n",
       "      <td>2.1421</td>\n",
       "      <td>0.9006</td>\n",
       "      <td>0.1443</td>\n",
       "      <td>0.1147</td>\n",
       "    </tr>\n",
       "    <tr>\n",
       "      <th>5</th>\n",
       "      <td>1.9456</td>\n",
       "      <td>9.9310</td>\n",
       "      <td>3.1513</td>\n",
       "      <td>0.9248</td>\n",
       "      <td>0.1059</td>\n",
       "      <td>0.0814</td>\n",
       "    </tr>\n",
       "    <tr>\n",
       "      <th>6</th>\n",
       "      <td>2.1070</td>\n",
       "      <td>6.8017</td>\n",
       "      <td>2.6080</td>\n",
       "      <td>0.9040</td>\n",
       "      <td>0.1307</td>\n",
       "      <td>0.1103</td>\n",
       "    </tr>\n",
       "    <tr>\n",
       "      <th>7</th>\n",
       "      <td>2.6327</td>\n",
       "      <td>15.8814</td>\n",
       "      <td>3.9851</td>\n",
       "      <td>0.8408</td>\n",
       "      <td>0.1556</td>\n",
       "      <td>0.1190</td>\n",
       "    </tr>\n",
       "    <tr>\n",
       "      <th>8</th>\n",
       "      <td>1.7621</td>\n",
       "      <td>7.1810</td>\n",
       "      <td>2.6797</td>\n",
       "      <td>0.8999</td>\n",
       "      <td>0.1292</td>\n",
       "      <td>0.0906</td>\n",
       "    </tr>\n",
       "    <tr>\n",
       "      <th>9</th>\n",
       "      <td>2.2372</td>\n",
       "      <td>12.6890</td>\n",
       "      <td>3.5622</td>\n",
       "      <td>0.8480</td>\n",
       "      <td>0.1245</td>\n",
       "      <td>0.0902</td>\n",
       "    </tr>\n",
       "    <tr>\n",
       "      <th>Mean</th>\n",
       "      <td>1.9877</td>\n",
       "      <td>8.5341</td>\n",
       "      <td>2.8686</td>\n",
       "      <td>0.8896</td>\n",
       "      <td>0.1299</td>\n",
       "      <td>0.0997</td>\n",
       "    </tr>\n",
       "    <tr>\n",
       "      <th>SD</th>\n",
       "      <td>0.2735</td>\n",
       "      <td>3.3915</td>\n",
       "      <td>0.5528</td>\n",
       "      <td>0.0414</td>\n",
       "      <td>0.0162</td>\n",
       "      <td>0.0147</td>\n",
       "    </tr>\n",
       "  </tbody>\n",
       "</table>\n",
       "</div>"
      ],
      "text/plain": [
       "         MAE      MSE    RMSE      R2   RMSLE    MAPE\n",
       "0     1.6886   5.7306  2.3939  0.9309  0.1073  0.0767\n",
       "1     1.8239   6.4535  2.5404  0.9553  0.1256  0.0938\n",
       "2     1.9498   5.9500  2.4393  0.8730  0.1223  0.1014\n",
       "3     2.0303  10.1346  3.1835  0.8186  0.1536  0.1191\n",
       "4     1.6996   4.5887  2.1421  0.9006  0.1443  0.1147\n",
       "5     1.9456   9.9310  3.1513  0.9248  0.1059  0.0814\n",
       "6     2.1070   6.8017  2.6080  0.9040  0.1307  0.1103\n",
       "7     2.6327  15.8814  3.9851  0.8408  0.1556  0.1190\n",
       "8     1.7621   7.1810  2.6797  0.8999  0.1292  0.0906\n",
       "9     2.2372  12.6890  3.5622  0.8480  0.1245  0.0902\n",
       "Mean  1.9877   8.5341  2.8686  0.8896  0.1299  0.0997\n",
       "SD    0.2735   3.3915  0.5528  0.0414  0.0162  0.0147"
      ]
     },
     "metadata": {},
     "output_type": "display_data"
    }
   ],
   "source": [
    "reg_model=create_model('catboost')"
   ]
  },
  {
   "cell_type": "code",
   "execution_count": 22,
   "metadata": {},
   "outputs": [
    {
     "data": {
      "text/html": [
       "<div>\n",
       "<style scoped>\n",
       "    .dataframe tbody tr th:only-of-type {\n",
       "        vertical-align: middle;\n",
       "    }\n",
       "\n",
       "    .dataframe tbody tr th {\n",
       "        vertical-align: top;\n",
       "    }\n",
       "\n",
       "    .dataframe thead th {\n",
       "        text-align: right;\n",
       "    }\n",
       "</style>\n",
       "<table border=\"1\" class=\"dataframe\">\n",
       "  <thead>\n",
       "    <tr style=\"text-align: right;\">\n",
       "      <th></th>\n",
       "      <th>MAE</th>\n",
       "      <th>MSE</th>\n",
       "      <th>RMSE</th>\n",
       "      <th>R2</th>\n",
       "      <th>RMSLE</th>\n",
       "      <th>MAPE</th>\n",
       "    </tr>\n",
       "  </thead>\n",
       "  <tbody>\n",
       "    <tr>\n",
       "      <th>0</th>\n",
       "      <td>2.1590</td>\n",
       "      <td>8.6863</td>\n",
       "      <td>2.9473</td>\n",
       "      <td>0.8953</td>\n",
       "      <td>0.1202</td>\n",
       "      <td>0.0951</td>\n",
       "    </tr>\n",
       "    <tr>\n",
       "      <th>1</th>\n",
       "      <td>1.8657</td>\n",
       "      <td>6.4073</td>\n",
       "      <td>2.5313</td>\n",
       "      <td>0.9556</td>\n",
       "      <td>0.1298</td>\n",
       "      <td>0.0968</td>\n",
       "    </tr>\n",
       "    <tr>\n",
       "      <th>2</th>\n",
       "      <td>1.9105</td>\n",
       "      <td>5.0552</td>\n",
       "      <td>2.2484</td>\n",
       "      <td>0.8921</td>\n",
       "      <td>0.1200</td>\n",
       "      <td>0.1021</td>\n",
       "    </tr>\n",
       "    <tr>\n",
       "      <th>3</th>\n",
       "      <td>1.8977</td>\n",
       "      <td>10.7726</td>\n",
       "      <td>3.2822</td>\n",
       "      <td>0.8072</td>\n",
       "      <td>0.1572</td>\n",
       "      <td>0.1161</td>\n",
       "    </tr>\n",
       "    <tr>\n",
       "      <th>4</th>\n",
       "      <td>1.7886</td>\n",
       "      <td>5.8056</td>\n",
       "      <td>2.4095</td>\n",
       "      <td>0.8743</td>\n",
       "      <td>0.1794</td>\n",
       "      <td>0.1346</td>\n",
       "    </tr>\n",
       "    <tr>\n",
       "      <th>5</th>\n",
       "      <td>2.0668</td>\n",
       "      <td>11.2702</td>\n",
       "      <td>3.3571</td>\n",
       "      <td>0.9146</td>\n",
       "      <td>0.1147</td>\n",
       "      <td>0.0875</td>\n",
       "    </tr>\n",
       "    <tr>\n",
       "      <th>6</th>\n",
       "      <td>2.1566</td>\n",
       "      <td>8.0471</td>\n",
       "      <td>2.8367</td>\n",
       "      <td>0.8865</td>\n",
       "      <td>0.1340</td>\n",
       "      <td>0.1103</td>\n",
       "    </tr>\n",
       "    <tr>\n",
       "      <th>7</th>\n",
       "      <td>2.4728</td>\n",
       "      <td>13.9016</td>\n",
       "      <td>3.7285</td>\n",
       "      <td>0.8606</td>\n",
       "      <td>0.1376</td>\n",
       "      <td>0.1076</td>\n",
       "    </tr>\n",
       "    <tr>\n",
       "      <th>8</th>\n",
       "      <td>2.0529</td>\n",
       "      <td>9.2032</td>\n",
       "      <td>3.0337</td>\n",
       "      <td>0.8717</td>\n",
       "      <td>0.1464</td>\n",
       "      <td>0.1078</td>\n",
       "    </tr>\n",
       "    <tr>\n",
       "      <th>9</th>\n",
       "      <td>2.0019</td>\n",
       "      <td>10.2144</td>\n",
       "      <td>3.1960</td>\n",
       "      <td>0.8776</td>\n",
       "      <td>0.1191</td>\n",
       "      <td>0.0867</td>\n",
       "    </tr>\n",
       "    <tr>\n",
       "      <th>Mean</th>\n",
       "      <td>2.0373</td>\n",
       "      <td>8.9364</td>\n",
       "      <td>2.9571</td>\n",
       "      <td>0.8836</td>\n",
       "      <td>0.1359</td>\n",
       "      <td>0.1044</td>\n",
       "    </tr>\n",
       "    <tr>\n",
       "      <th>SD</th>\n",
       "      <td>0.1865</td>\n",
       "      <td>2.5941</td>\n",
       "      <td>0.4384</td>\n",
       "      <td>0.0360</td>\n",
       "      <td>0.0193</td>\n",
       "      <td>0.0136</td>\n",
       "    </tr>\n",
       "  </tbody>\n",
       "</table>\n",
       "</div>"
      ],
      "text/plain": [
       "         MAE      MSE    RMSE      R2   RMSLE    MAPE\n",
       "0     2.1590   8.6863  2.9473  0.8953  0.1202  0.0951\n",
       "1     1.8657   6.4073  2.5313  0.9556  0.1298  0.0968\n",
       "2     1.9105   5.0552  2.2484  0.8921  0.1200  0.1021\n",
       "3     1.8977  10.7726  3.2822  0.8072  0.1572  0.1161\n",
       "4     1.7886   5.8056  2.4095  0.8743  0.1794  0.1346\n",
       "5     2.0668  11.2702  3.3571  0.9146  0.1147  0.0875\n",
       "6     2.1566   8.0471  2.8367  0.8865  0.1340  0.1103\n",
       "7     2.4728  13.9016  3.7285  0.8606  0.1376  0.1076\n",
       "8     2.0529   9.2032  3.0337  0.8717  0.1464  0.1078\n",
       "9     2.0019  10.2144  3.1960  0.8776  0.1191  0.0867\n",
       "Mean  2.0373   8.9364  2.9571  0.8836  0.1359  0.1044\n",
       "SD    0.1865   2.5941  0.4384  0.0360  0.0193  0.0136"
      ]
     },
     "metadata": {},
     "output_type": "display_data"
    }
   ],
   "source": [
    "#### Hypertuning of model\n",
    "reg_model_hypertune=tune_model('catboost',n_iter=50,optimize='mae')"
   ]
  },
  {
   "cell_type": "code",
   "execution_count": 23,
   "metadata": {},
   "outputs": [
    {
     "data": {
      "text/html": [
       "<div>\n",
       "<style scoped>\n",
       "    .dataframe tbody tr th:only-of-type {\n",
       "        vertical-align: middle;\n",
       "    }\n",
       "\n",
       "    .dataframe tbody tr th {\n",
       "        vertical-align: top;\n",
       "    }\n",
       "\n",
       "    .dataframe thead th {\n",
       "        text-align: right;\n",
       "    }\n",
       "</style>\n",
       "<table border=\"1\" class=\"dataframe\">\n",
       "  <thead>\n",
       "    <tr style=\"text-align: right;\">\n",
       "      <th></th>\n",
       "      <th>Age</th>\n",
       "      <th>Income</th>\n",
       "      <th>SpendingScore</th>\n",
       "      <th>Savings</th>\n",
       "    </tr>\n",
       "  </thead>\n",
       "  <tbody>\n",
       "    <tr>\n",
       "      <th>0</th>\n",
       "      <td>58</td>\n",
       "      <td>77769</td>\n",
       "      <td>0.791329</td>\n",
       "      <td>6559.829923</td>\n",
       "    </tr>\n",
       "    <tr>\n",
       "      <th>1</th>\n",
       "      <td>59</td>\n",
       "      <td>81799</td>\n",
       "      <td>0.791082</td>\n",
       "      <td>5417.661426</td>\n",
       "    </tr>\n",
       "    <tr>\n",
       "      <th>2</th>\n",
       "      <td>62</td>\n",
       "      <td>74751</td>\n",
       "      <td>0.702657</td>\n",
       "      <td>9258.992965</td>\n",
       "    </tr>\n",
       "    <tr>\n",
       "      <th>3</th>\n",
       "      <td>59</td>\n",
       "      <td>74373</td>\n",
       "      <td>0.765680</td>\n",
       "      <td>7346.334504</td>\n",
       "    </tr>\n",
       "    <tr>\n",
       "      <th>4</th>\n",
       "      <td>87</td>\n",
       "      <td>17760</td>\n",
       "      <td>0.348778</td>\n",
       "      <td>16869.507130</td>\n",
       "    </tr>\n",
       "  </tbody>\n",
       "</table>\n",
       "</div>"
      ],
      "text/plain": [
       "   Age  Income  SpendingScore       Savings\n",
       "0   58   77769       0.791329   6559.829923\n",
       "1   59   81799       0.791082   5417.661426\n",
       "2   62   74751       0.702657   9258.992965\n",
       "3   59   74373       0.765680   7346.334504\n",
       "4   87   17760       0.348778  16869.507130"
      ]
     },
     "metadata": {},
     "output_type": "display_data"
    }
   ],
   "source": [
    "##### Clustering Technique\n",
    "jewellery=get_data('jewellery')"
   ]
  },
  {
   "cell_type": "code",
   "execution_count": 33,
   "metadata": {},
   "outputs": [
    {
     "name": "stdout",
     "output_type": "stream",
     "text": [
      "\n",
      "Setup Succesfully Completed!\n"
     ]
    },
    {
     "data": {
      "text/html": [
       "<style  type=\"text/css\" >\n",
       "</style><table id=\"T_e285afdc_cf66_11ea_9c4d_e4029bda51a0\" ><thead>    <tr>        <th class=\"blank level0\" ></th>        <th class=\"col_heading level0 col0\" >Description</th>        <th class=\"col_heading level0 col1\" >Value</th>    </tr></thead><tbody>\n",
       "                <tr>\n",
       "                        <th id=\"T_e285afdc_cf66_11ea_9c4d_e4029bda51a0level0_row0\" class=\"row_heading level0 row0\" >0</th>\n",
       "                        <td id=\"T_e285afdc_cf66_11ea_9c4d_e4029bda51a0row0_col0\" class=\"data row0 col0\" >session_id </td>\n",
       "                        <td id=\"T_e285afdc_cf66_11ea_9c4d_e4029bda51a0row0_col1\" class=\"data row0 col1\" >1805</td>\n",
       "            </tr>\n",
       "            <tr>\n",
       "                        <th id=\"T_e285afdc_cf66_11ea_9c4d_e4029bda51a0level0_row1\" class=\"row_heading level0 row1\" >1</th>\n",
       "                        <td id=\"T_e285afdc_cf66_11ea_9c4d_e4029bda51a0row1_col0\" class=\"data row1 col0\" >Original Data </td>\n",
       "                        <td id=\"T_e285afdc_cf66_11ea_9c4d_e4029bda51a0row1_col1\" class=\"data row1 col1\" >(505, 4)</td>\n",
       "            </tr>\n",
       "            <tr>\n",
       "                        <th id=\"T_e285afdc_cf66_11ea_9c4d_e4029bda51a0level0_row2\" class=\"row_heading level0 row2\" >2</th>\n",
       "                        <td id=\"T_e285afdc_cf66_11ea_9c4d_e4029bda51a0row2_col0\" class=\"data row2 col0\" >Missing Values </td>\n",
       "                        <td id=\"T_e285afdc_cf66_11ea_9c4d_e4029bda51a0row2_col1\" class=\"data row2 col1\" >False</td>\n",
       "            </tr>\n",
       "            <tr>\n",
       "                        <th id=\"T_e285afdc_cf66_11ea_9c4d_e4029bda51a0level0_row3\" class=\"row_heading level0 row3\" >3</th>\n",
       "                        <td id=\"T_e285afdc_cf66_11ea_9c4d_e4029bda51a0row3_col0\" class=\"data row3 col0\" >Numeric Features </td>\n",
       "                        <td id=\"T_e285afdc_cf66_11ea_9c4d_e4029bda51a0row3_col1\" class=\"data row3 col1\" >4</td>\n",
       "            </tr>\n",
       "            <tr>\n",
       "                        <th id=\"T_e285afdc_cf66_11ea_9c4d_e4029bda51a0level0_row4\" class=\"row_heading level0 row4\" >4</th>\n",
       "                        <td id=\"T_e285afdc_cf66_11ea_9c4d_e4029bda51a0row4_col0\" class=\"data row4 col0\" >Categorical Features </td>\n",
       "                        <td id=\"T_e285afdc_cf66_11ea_9c4d_e4029bda51a0row4_col1\" class=\"data row4 col1\" >0</td>\n",
       "            </tr>\n",
       "            <tr>\n",
       "                        <th id=\"T_e285afdc_cf66_11ea_9c4d_e4029bda51a0level0_row5\" class=\"row_heading level0 row5\" >5</th>\n",
       "                        <td id=\"T_e285afdc_cf66_11ea_9c4d_e4029bda51a0row5_col0\" class=\"data row5 col0\" >Ordinal Features </td>\n",
       "                        <td id=\"T_e285afdc_cf66_11ea_9c4d_e4029bda51a0row5_col1\" class=\"data row5 col1\" >False</td>\n",
       "            </tr>\n",
       "            <tr>\n",
       "                        <th id=\"T_e285afdc_cf66_11ea_9c4d_e4029bda51a0level0_row6\" class=\"row_heading level0 row6\" >6</th>\n",
       "                        <td id=\"T_e285afdc_cf66_11ea_9c4d_e4029bda51a0row6_col0\" class=\"data row6 col0\" >High Cardinality Features </td>\n",
       "                        <td id=\"T_e285afdc_cf66_11ea_9c4d_e4029bda51a0row6_col1\" class=\"data row6 col1\" >False</td>\n",
       "            </tr>\n",
       "            <tr>\n",
       "                        <th id=\"T_e285afdc_cf66_11ea_9c4d_e4029bda51a0level0_row7\" class=\"row_heading level0 row7\" >7</th>\n",
       "                        <td id=\"T_e285afdc_cf66_11ea_9c4d_e4029bda51a0row7_col0\" class=\"data row7 col0\" >Transformed Data </td>\n",
       "                        <td id=\"T_e285afdc_cf66_11ea_9c4d_e4029bda51a0row7_col1\" class=\"data row7 col1\" >(505, 4)</td>\n",
       "            </tr>\n",
       "            <tr>\n",
       "                        <th id=\"T_e285afdc_cf66_11ea_9c4d_e4029bda51a0level0_row8\" class=\"row_heading level0 row8\" >8</th>\n",
       "                        <td id=\"T_e285afdc_cf66_11ea_9c4d_e4029bda51a0row8_col0\" class=\"data row8 col0\" >Numeric Imputer </td>\n",
       "                        <td id=\"T_e285afdc_cf66_11ea_9c4d_e4029bda51a0row8_col1\" class=\"data row8 col1\" >mean</td>\n",
       "            </tr>\n",
       "            <tr>\n",
       "                        <th id=\"T_e285afdc_cf66_11ea_9c4d_e4029bda51a0level0_row9\" class=\"row_heading level0 row9\" >9</th>\n",
       "                        <td id=\"T_e285afdc_cf66_11ea_9c4d_e4029bda51a0row9_col0\" class=\"data row9 col0\" >Categorical Imputer </td>\n",
       "                        <td id=\"T_e285afdc_cf66_11ea_9c4d_e4029bda51a0row9_col1\" class=\"data row9 col1\" >constant</td>\n",
       "            </tr>\n",
       "            <tr>\n",
       "                        <th id=\"T_e285afdc_cf66_11ea_9c4d_e4029bda51a0level0_row10\" class=\"row_heading level0 row10\" >10</th>\n",
       "                        <td id=\"T_e285afdc_cf66_11ea_9c4d_e4029bda51a0row10_col0\" class=\"data row10 col0\" >Normalize </td>\n",
       "                        <td id=\"T_e285afdc_cf66_11ea_9c4d_e4029bda51a0row10_col1\" class=\"data row10 col1\" >False</td>\n",
       "            </tr>\n",
       "            <tr>\n",
       "                        <th id=\"T_e285afdc_cf66_11ea_9c4d_e4029bda51a0level0_row11\" class=\"row_heading level0 row11\" >11</th>\n",
       "                        <td id=\"T_e285afdc_cf66_11ea_9c4d_e4029bda51a0row11_col0\" class=\"data row11 col0\" >Normalize Method </td>\n",
       "                        <td id=\"T_e285afdc_cf66_11ea_9c4d_e4029bda51a0row11_col1\" class=\"data row11 col1\" >None</td>\n",
       "            </tr>\n",
       "            <tr>\n",
       "                        <th id=\"T_e285afdc_cf66_11ea_9c4d_e4029bda51a0level0_row12\" class=\"row_heading level0 row12\" >12</th>\n",
       "                        <td id=\"T_e285afdc_cf66_11ea_9c4d_e4029bda51a0row12_col0\" class=\"data row12 col0\" >Transformation </td>\n",
       "                        <td id=\"T_e285afdc_cf66_11ea_9c4d_e4029bda51a0row12_col1\" class=\"data row12 col1\" >False</td>\n",
       "            </tr>\n",
       "            <tr>\n",
       "                        <th id=\"T_e285afdc_cf66_11ea_9c4d_e4029bda51a0level0_row13\" class=\"row_heading level0 row13\" >13</th>\n",
       "                        <td id=\"T_e285afdc_cf66_11ea_9c4d_e4029bda51a0row13_col0\" class=\"data row13 col0\" >Transformation Method </td>\n",
       "                        <td id=\"T_e285afdc_cf66_11ea_9c4d_e4029bda51a0row13_col1\" class=\"data row13 col1\" >None</td>\n",
       "            </tr>\n",
       "            <tr>\n",
       "                        <th id=\"T_e285afdc_cf66_11ea_9c4d_e4029bda51a0level0_row14\" class=\"row_heading level0 row14\" >14</th>\n",
       "                        <td id=\"T_e285afdc_cf66_11ea_9c4d_e4029bda51a0row14_col0\" class=\"data row14 col0\" >PCA </td>\n",
       "                        <td id=\"T_e285afdc_cf66_11ea_9c4d_e4029bda51a0row14_col1\" class=\"data row14 col1\" >False</td>\n",
       "            </tr>\n",
       "            <tr>\n",
       "                        <th id=\"T_e285afdc_cf66_11ea_9c4d_e4029bda51a0level0_row15\" class=\"row_heading level0 row15\" >15</th>\n",
       "                        <td id=\"T_e285afdc_cf66_11ea_9c4d_e4029bda51a0row15_col0\" class=\"data row15 col0\" >PCA Method </td>\n",
       "                        <td id=\"T_e285afdc_cf66_11ea_9c4d_e4029bda51a0row15_col1\" class=\"data row15 col1\" >None</td>\n",
       "            </tr>\n",
       "            <tr>\n",
       "                        <th id=\"T_e285afdc_cf66_11ea_9c4d_e4029bda51a0level0_row16\" class=\"row_heading level0 row16\" >16</th>\n",
       "                        <td id=\"T_e285afdc_cf66_11ea_9c4d_e4029bda51a0row16_col0\" class=\"data row16 col0\" >PCA components </td>\n",
       "                        <td id=\"T_e285afdc_cf66_11ea_9c4d_e4029bda51a0row16_col1\" class=\"data row16 col1\" >None</td>\n",
       "            </tr>\n",
       "            <tr>\n",
       "                        <th id=\"T_e285afdc_cf66_11ea_9c4d_e4029bda51a0level0_row17\" class=\"row_heading level0 row17\" >17</th>\n",
       "                        <td id=\"T_e285afdc_cf66_11ea_9c4d_e4029bda51a0row17_col0\" class=\"data row17 col0\" >Ignore Low Variance </td>\n",
       "                        <td id=\"T_e285afdc_cf66_11ea_9c4d_e4029bda51a0row17_col1\" class=\"data row17 col1\" >False</td>\n",
       "            </tr>\n",
       "            <tr>\n",
       "                        <th id=\"T_e285afdc_cf66_11ea_9c4d_e4029bda51a0level0_row18\" class=\"row_heading level0 row18\" >18</th>\n",
       "                        <td id=\"T_e285afdc_cf66_11ea_9c4d_e4029bda51a0row18_col0\" class=\"data row18 col0\" >Combine Rare Levels </td>\n",
       "                        <td id=\"T_e285afdc_cf66_11ea_9c4d_e4029bda51a0row18_col1\" class=\"data row18 col1\" >False</td>\n",
       "            </tr>\n",
       "            <tr>\n",
       "                        <th id=\"T_e285afdc_cf66_11ea_9c4d_e4029bda51a0level0_row19\" class=\"row_heading level0 row19\" >19</th>\n",
       "                        <td id=\"T_e285afdc_cf66_11ea_9c4d_e4029bda51a0row19_col0\" class=\"data row19 col0\" >Rare Level Threshold </td>\n",
       "                        <td id=\"T_e285afdc_cf66_11ea_9c4d_e4029bda51a0row19_col1\" class=\"data row19 col1\" >None</td>\n",
       "            </tr>\n",
       "            <tr>\n",
       "                        <th id=\"T_e285afdc_cf66_11ea_9c4d_e4029bda51a0level0_row20\" class=\"row_heading level0 row20\" >20</th>\n",
       "                        <td id=\"T_e285afdc_cf66_11ea_9c4d_e4029bda51a0row20_col0\" class=\"data row20 col0\" >Numeric Binning </td>\n",
       "                        <td id=\"T_e285afdc_cf66_11ea_9c4d_e4029bda51a0row20_col1\" class=\"data row20 col1\" >False</td>\n",
       "            </tr>\n",
       "            <tr>\n",
       "                        <th id=\"T_e285afdc_cf66_11ea_9c4d_e4029bda51a0level0_row21\" class=\"row_heading level0 row21\" >21</th>\n",
       "                        <td id=\"T_e285afdc_cf66_11ea_9c4d_e4029bda51a0row21_col0\" class=\"data row21 col0\" >Remove Multicollinearity </td>\n",
       "                        <td id=\"T_e285afdc_cf66_11ea_9c4d_e4029bda51a0row21_col1\" class=\"data row21 col1\" >False</td>\n",
       "            </tr>\n",
       "            <tr>\n",
       "                        <th id=\"T_e285afdc_cf66_11ea_9c4d_e4029bda51a0level0_row22\" class=\"row_heading level0 row22\" >22</th>\n",
       "                        <td id=\"T_e285afdc_cf66_11ea_9c4d_e4029bda51a0row22_col0\" class=\"data row22 col0\" >Multicollinearity Threshold </td>\n",
       "                        <td id=\"T_e285afdc_cf66_11ea_9c4d_e4029bda51a0row22_col1\" class=\"data row22 col1\" >None</td>\n",
       "            </tr>\n",
       "            <tr>\n",
       "                        <th id=\"T_e285afdc_cf66_11ea_9c4d_e4029bda51a0level0_row23\" class=\"row_heading level0 row23\" >23</th>\n",
       "                        <td id=\"T_e285afdc_cf66_11ea_9c4d_e4029bda51a0row23_col0\" class=\"data row23 col0\" >Group Features </td>\n",
       "                        <td id=\"T_e285afdc_cf66_11ea_9c4d_e4029bda51a0row23_col1\" class=\"data row23 col1\" >False</td>\n",
       "            </tr>\n",
       "    </tbody></table>"
      ],
      "text/plain": [
       "<pandas.io.formats.style.Styler at 0x174cdbf7088>"
      ]
     },
     "metadata": {},
     "output_type": "display_data"
    }
   ],
   "source": [
    "from pycaret.clustering import*\n",
    "clus_algo=setup(jewellery)"
   ]
  },
  {
   "cell_type": "code",
   "execution_count": 56,
   "metadata": {},
   "outputs": [],
   "source": [
    "kmeans=create_model('kmeans')"
   ]
  },
  {
   "cell_type": "code",
   "execution_count": 57,
   "metadata": {},
   "outputs": [
    {
     "data": {
      "text/plain": [
       "KMeans(algorithm='auto', copy_x=True, init='k-means++', max_iter=300,\n",
       "       n_clusters=4, n_init=10, n_jobs=None, precompute_distances='auto',\n",
       "       random_state=1805, tol=0.0001, verbose=0)"
      ]
     },
     "execution_count": 57,
     "metadata": {},
     "output_type": "execute_result"
    }
   ],
   "source": [
    "kmeans"
   ]
  },
  {
   "cell_type": "code",
   "execution_count": 58,
   "metadata": {},
   "outputs": [],
   "source": [
    "#### Assign the label to dataframe\n",
    "\n",
    "kmeans_df=assign_model(kmeans)"
   ]
  },
  {
   "cell_type": "code",
   "execution_count": 59,
   "metadata": {},
   "outputs": [
    {
     "data": {
      "text/html": [
       "<div>\n",
       "<style scoped>\n",
       "    .dataframe tbody tr th:only-of-type {\n",
       "        vertical-align: middle;\n",
       "    }\n",
       "\n",
       "    .dataframe tbody tr th {\n",
       "        vertical-align: top;\n",
       "    }\n",
       "\n",
       "    .dataframe thead th {\n",
       "        text-align: right;\n",
       "    }\n",
       "</style>\n",
       "<table border=\"1\" class=\"dataframe\">\n",
       "  <thead>\n",
       "    <tr style=\"text-align: right;\">\n",
       "      <th></th>\n",
       "      <th>Age</th>\n",
       "      <th>Income</th>\n",
       "      <th>SpendingScore</th>\n",
       "      <th>Savings</th>\n",
       "      <th>Cluster</th>\n",
       "    </tr>\n",
       "  </thead>\n",
       "  <tbody>\n",
       "    <tr>\n",
       "      <th>0</th>\n",
       "      <td>58</td>\n",
       "      <td>77769</td>\n",
       "      <td>0.791329</td>\n",
       "      <td>6559.829923</td>\n",
       "      <td>Cluster 0</td>\n",
       "    </tr>\n",
       "    <tr>\n",
       "      <th>1</th>\n",
       "      <td>59</td>\n",
       "      <td>81799</td>\n",
       "      <td>0.791082</td>\n",
       "      <td>5417.661426</td>\n",
       "      <td>Cluster 0</td>\n",
       "    </tr>\n",
       "    <tr>\n",
       "      <th>2</th>\n",
       "      <td>62</td>\n",
       "      <td>74751</td>\n",
       "      <td>0.702657</td>\n",
       "      <td>9258.992965</td>\n",
       "      <td>Cluster 0</td>\n",
       "    </tr>\n",
       "    <tr>\n",
       "      <th>3</th>\n",
       "      <td>59</td>\n",
       "      <td>74373</td>\n",
       "      <td>0.765680</td>\n",
       "      <td>7346.334504</td>\n",
       "      <td>Cluster 0</td>\n",
       "    </tr>\n",
       "    <tr>\n",
       "      <th>4</th>\n",
       "      <td>87</td>\n",
       "      <td>17760</td>\n",
       "      <td>0.348778</td>\n",
       "      <td>16869.507130</td>\n",
       "      <td>Cluster 1</td>\n",
       "    </tr>\n",
       "    <tr>\n",
       "      <th>...</th>\n",
       "      <td>...</td>\n",
       "      <td>...</td>\n",
       "      <td>...</td>\n",
       "      <td>...</td>\n",
       "      <td>...</td>\n",
       "    </tr>\n",
       "    <tr>\n",
       "      <th>500</th>\n",
       "      <td>28</td>\n",
       "      <td>101206</td>\n",
       "      <td>0.387441</td>\n",
       "      <td>14936.775389</td>\n",
       "      <td>Cluster 3</td>\n",
       "    </tr>\n",
       "    <tr>\n",
       "      <th>501</th>\n",
       "      <td>93</td>\n",
       "      <td>19934</td>\n",
       "      <td>0.203140</td>\n",
       "      <td>17969.693769</td>\n",
       "      <td>Cluster 1</td>\n",
       "    </tr>\n",
       "    <tr>\n",
       "      <th>502</th>\n",
       "      <td>90</td>\n",
       "      <td>35297</td>\n",
       "      <td>0.355149</td>\n",
       "      <td>16091.401954</td>\n",
       "      <td>Cluster 1</td>\n",
       "    </tr>\n",
       "    <tr>\n",
       "      <th>503</th>\n",
       "      <td>91</td>\n",
       "      <td>20681</td>\n",
       "      <td>0.354679</td>\n",
       "      <td>18401.088445</td>\n",
       "      <td>Cluster 1</td>\n",
       "    </tr>\n",
       "    <tr>\n",
       "      <th>504</th>\n",
       "      <td>89</td>\n",
       "      <td>30267</td>\n",
       "      <td>0.289310</td>\n",
       "      <td>14386.351880</td>\n",
       "      <td>Cluster 1</td>\n",
       "    </tr>\n",
       "  </tbody>\n",
       "</table>\n",
       "<p>505 rows × 5 columns</p>\n",
       "</div>"
      ],
      "text/plain": [
       "     Age  Income  SpendingScore       Savings    Cluster\n",
       "0     58   77769       0.791329   6559.829923  Cluster 0\n",
       "1     59   81799       0.791082   5417.661426  Cluster 0\n",
       "2     62   74751       0.702657   9258.992965  Cluster 0\n",
       "3     59   74373       0.765680   7346.334504  Cluster 0\n",
       "4     87   17760       0.348778  16869.507130  Cluster 1\n",
       "..   ...     ...            ...           ...        ...\n",
       "500   28  101206       0.387441  14936.775389  Cluster 3\n",
       "501   93   19934       0.203140  17969.693769  Cluster 1\n",
       "502   90   35297       0.355149  16091.401954  Cluster 1\n",
       "503   91   20681       0.354679  18401.088445  Cluster 1\n",
       "504   89   30267       0.289310  14386.351880  Cluster 1\n",
       "\n",
       "[505 rows x 5 columns]"
      ]
     },
     "execution_count": 59,
     "metadata": {},
     "output_type": "execute_result"
    }
   ],
   "source": [
    "kmeans_df"
   ]
  },
  {
   "cell_type": "code",
   "execution_count": 60,
   "metadata": {},
   "outputs": [
    {
     "data": {
      "text/html": [
       "        <script type=\"text/javascript\">\n",
       "        window.PlotlyConfig = {MathJaxConfig: 'local'};\n",
       "        if (window.MathJax) {MathJax.Hub.Config({SVG: {font: \"STIX-Web\"}});}\n",
       "        if (typeof require !== 'undefined') {\n",
       "        require.undef(\"plotly\");\n",
       "        requirejs.config({\n",
       "            paths: {\n",
       "                'plotly': ['https://cdn.plot.ly/plotly-latest.min']\n",
       "            }\n",
       "        });\n",
       "        require(['plotly'], function(Plotly) {\n",
       "            window._Plotly = Plotly;\n",
       "        });\n",
       "        }\n",
       "        </script>\n",
       "        "
      ]
     },
     "metadata": {},
     "output_type": "display_data"
    },
    {
     "data": {
      "application/vnd.plotly.v1+json": {
       "config": {
        "plotlyServerURL": "https://plot.ly"
       },
       "data": [
        {
         "customdata": [
          [
           58
          ],
          [
           59
          ],
          [
           62
          ],
          [
           59
          ],
          [
           87
          ],
          [
           29
          ],
          [
           54
          ],
          [
           87
          ],
          [
           83
          ],
          [
           84
          ],
          [
           85
          ],
          [
           36
          ],
          [
           30
          ],
          [
           31
          ],
          [
           61
          ],
          [
           92
          ],
          [
           55
          ],
          [
           87
          ],
          [
           82
          ],
          [
           88
          ],
          [
           30
          ],
          [
           84
          ],
          [
           53
          ],
          [
           91
          ],
          [
           89
          ],
          [
           30
          ],
          [
           17
          ],
          [
           55
          ],
          [
           90
          ],
          [
           61
          ],
          [
           59
          ],
          [
           59
          ],
          [
           88
          ],
          [
           56
          ],
          [
           33
          ],
          [
           61
          ],
          [
           84
          ],
          [
           61
          ],
          [
           39
          ],
          [
           31
          ],
          [
           60
          ],
          [
           87
          ],
          [
           20
          ],
          [
           57
          ],
          [
           61
          ],
          [
           18
          ],
          [
           83
          ],
          [
           25
          ],
          [
           31
          ],
          [
           55
          ],
          [
           84
          ],
          [
           36
          ],
          [
           27
          ],
          [
           91
          ],
          [
           53
          ],
          [
           91
          ],
          [
           25
          ],
          [
           83
          ],
          [
           87
          ],
          [
           90
          ],
          [
           83
          ],
          [
           83
          ],
          [
           83
          ],
          [
           61
          ],
          [
           64
          ],
          [
           62
          ],
          [
           91
          ],
          [
           28
          ],
          [
           23
          ],
          [
           55
          ],
          [
           58
          ],
          [
           31
          ],
          [
           83
          ],
          [
           91
          ],
          [
           30
          ],
          [
           57
          ],
          [
           33
          ],
          [
           59
          ],
          [
           58
          ],
          [
           29
          ],
          [
           59
          ],
          [
           84
          ],
          [
           64
          ],
          [
           87
          ],
          [
           88
          ],
          [
           35
          ],
          [
           34
          ],
          [
           58
          ],
          [
           56
          ],
          [
           63
          ],
          [
           58
          ],
          [
           60
          ],
          [
           24
          ],
          [
           94
          ],
          [
           58
          ],
          [
           25
          ],
          [
           36
          ],
          [
           62
          ],
          [
           66
          ],
          [
           37
          ],
          [
           27
          ],
          [
           24
          ],
          [
           31
          ],
          [
           23
          ],
          [
           34
          ],
          [
           88
          ],
          [
           89
          ],
          [
           32
          ],
          [
           38
          ],
          [
           57
          ],
          [
           90
          ],
          [
           33
          ],
          [
           66
          ],
          [
           35
          ],
          [
           31
          ],
          [
           35
          ],
          [
           63
          ],
          [
           30
          ],
          [
           22
          ],
          [
           84
          ],
          [
           28
          ],
          [
           88
          ],
          [
           84
          ],
          [
           88
          ],
          [
           35
          ],
          [
           82
          ],
          [
           64
          ],
          [
           91
          ],
          [
           62
          ],
          [
           62
          ],
          [
           34
          ],
          [
           60
          ],
          [
           32
          ],
          [
           65
          ],
          [
           24
          ],
          [
           88
          ],
          [
           82
          ],
          [
           26
          ],
          [
           60
          ],
          [
           31
          ],
          [
           85
          ],
          [
           63
          ],
          [
           56
          ],
          [
           28
          ],
          [
           58
          ],
          [
           26
          ],
          [
           62
          ],
          [
           86
          ],
          [
           56
          ],
          [
           91
          ],
          [
           59
          ],
          [
           28
          ],
          [
           85
          ],
          [
           65
          ],
          [
           94
          ],
          [
           86
          ]
         ],
         "hoverlabel": {
          "namelength": 0
         },
         "hovertemplate": "Cluster=Cluster 0<br>PCA1=%{x}<br>PCA2=%{y}<br>Feature=%{customdata[0]}",
         "legendgroup": "Cluster=Cluster 0",
         "marker": {
          "color": "#636efa",
          "opacity": 0.5,
          "symbol": "circle"
         },
         "mode": "markers",
         "name": "Cluster=Cluster 0",
         "showlegend": true,
         "textposition": "top center",
         "type": "scatter",
         "x": [
          2555.784235160326,
          8122.0803804155485,
          871.05614486404,
          -7740.904879089726,
          -15159.901916245692,
          -9955.59900050198,
          5073.487356522346,
          -7927.279393999573,
          -10817.514881421745,
          -182.87509706289552,
          -12401.01261442264,
          384.4886537787823,
          -15876.01419493388,
          2392.9514000132285,
          -4856.160277619089,
          -9604.97610123141,
          -3578.6411667637317,
          3594.0424216908364,
          -5713.304475031726,
          2456.114942910892,
          -4025.534586861498,
          1223.3332842063594,
          -18377.080919160904,
          -1254.7961050822862,
          1380.9095854822574,
          -5506.50477527731,
          -284.9346161317567,
          -1867.5011952055129,
          -4335.121223668246,
          -8175.944783841661,
          -11570.013629472303,
          -12594.175242128542,
          -3881.279223544832,
          -9447.566957019664,
          -4595.72546746293,
          5567.478117111812,
          9121.208329826182,
          499.49661809613394,
          -4176.722631704313,
          -6529.597912750266,
          -7423.928769536239,
          -9153.992100917843,
          4864.683651413001,
          -7249.028129796937,
          7325.256189492702,
          1198.2155272857262,
          -6945.490220855905,
          -5628.983771409213,
          -6874.447300583788,
          3175.730100887685,
          -10072.875118803544,
          -5806.077052611824,
          11039.02694203172,
          -5414.849621380297,
          3385.8220491313214,
          -3902.6507601274116,
          277.3194547180352,
          -18832.323089995112,
          -7793.454352086536,
          -10419.650727093287,
          -3127.746475407196,
          -3147.9716901024062,
          3607.6218475354503,
          -805.5182840466958,
          -12402.614006035745,
          -811.2733012583001,
          -7981.746810683444,
          2868.6753358918104,
          7034.566991846886,
          -7827.504392605754,
          -7225.656651496562,
          -9823.29297141867,
          -3197.7706749317113,
          -4661.643199436446,
          -4588.845682887334,
          -1424.296852785252,
          -11770.096221904703,
          -7431.169946592954,
          -4794.73018597246,
          -5787.584457334296,
          -4114.665812502663,
          -4883.720561797817,
          -967.1345292294831,
          1855.047986918689,
          3333.0370081988945,
          -6270.130057704638,
          -6075.723945911879,
          3574.8676282851397,
          834.6063416853508,
          375.61202524741026,
          -3222.0284971176466,
          3735.2223001205443,
          -9600.009525716903,
          2663.8141427242613,
          -5898.744479681153,
          -6051.798027149645,
          5619.125538763628,
          -2220.635450610067,
          -10371.487057071727,
          -1864.5940590614487,
          -3536.624899618865,
          -9270.98324611398,
          -7793.211508914164,
          5122.282562298919,
          7017.407229806951,
          4968.764645874574,
          -6214.354917756383,
          1547.9124395594217,
          -1709.0067116984383,
          -5149.414552966318,
          -9176.939917160456,
          5679.93503225557,
          4615.604589783895,
          -1755.3663563989953,
          -6586.3750155963435,
          -2329.6167597527683,
          -1148.5927138363202,
          1535.3200349238566,
          -3652.051627219527,
          -2601.8696283459494,
          -13124.391604038423,
          1797.8692846207532,
          3442.067865401046,
          -847.3002227743451,
          1691.146999005504,
          -9514.742122293776,
          -2630.794135208179,
          -5495.930030665691,
          -1710.0091006297766,
          -860.4354477953796,
          -11393.264281389056,
          -5327.512619806892,
          -1006.7942808926981,
          4848.4427643879835,
          13091.374153516696,
          -2009.708614175172,
          -5414.451723823099,
          106.447307829994,
          -4972.922141129976,
          10499.407295945592,
          11129.424149229617,
          -4333.353171495323,
          -11385.807297750891,
          4241.775895153048,
          -3354.409395492051,
          -5228.7735481431,
          -10238.83792874304,
          -14757.62685450562,
          -6112.701966838941,
          -4197.995995572513,
          6644.597612798233,
          -611.8920766835433,
          -879.6961231840211,
          1270.5926186365066,
          -907.6690876091211,
          1381.2925438038924
         ],
         "xaxis": "x",
         "y": [
          5164.690387393585,
          4731.012058760919,
          5689.000453091913,
          5133.639471687391,
          5573.243592768733,
          4085.312250446124,
          5244.436809348921,
          5673.5277286108085,
          6677.48210159094,
          4411.3243537762855,
          6731.622371228147,
          6845.141814371283,
          7337.462584330772,
          5992.684094109712,
          6861.841710581511,
          5517.456998799797,
          4687.331305792247,
          5244.223767536207,
          6098.407171499213,
          5539.9782542761295,
          5644.552199614274,
          5666.367954752703,
          5086.374324713108,
          6380.915494292795,
          5567.112673818736,
          6298.430178867739,
          4064.0083360808126,
          2685.6626854367964,
          2658.297518890413,
          5599.274828311298,
          6393.584927460241,
          5058.59350766587,
          3532.750801645638,
          6026.370137728775,
          4575.315245883317,
          6399.67945792858,
          4076.188863858499,
          4450.572465085803,
          5121.948177991022,
          5174.060016070755,
          5595.425208078433,
          6237.455006749801,
          4834.953991865888,
          5030.101509904848,
          5245.750156657966,
          6031.597780098123,
          5240.283697626608,
          3413.4609900340347,
          3266.470183264381,
          4727.07981305535,
          7033.832306225479,
          5686.132349951811,
          4384.687289531572,
          4509.3789480477335,
          4513.159427781259,
          5499.339332721771,
          5152.0777221213175,
          6823.2533280405705,
          5788.853893383753,
          5982.858221439138,
          5318.2819936222295,
          5506.996622913865,
          4852.444518767339,
          4348.095679784139,
          4277.420432790433,
          4771.515153180695,
          3467.5659749114207,
          5223.64233039036,
          3374.287134293427,
          5701.697575023517,
          4564.617621855319,
          6862.247572080616,
          5127.949261280459,
          4875.412034392045,
          4468.268102563845,
          7267.328542397009,
          5001.420783196854,
          6342.03690187803,
          5174.470545977297,
          5711.628393266971,
          3078.896438494592,
          4688.37074694926,
          4638.724240674154,
          5468.743274286699,
          4012.215493342316,
          5401.821696967172,
          3500.5964543132554,
          6638.189488143048,
          5141.101367432594,
          5049.606296947779,
          4129.181189416358,
          4370.46782882272,
          4923.281603355225,
          3399.1203547303244,
          5205.840154213883,
          6221.683453940024,
          4314.803908984971,
          4177.140129281851,
          6211.274488459206,
          5267.352553209781,
          5070.413098436326,
          5996.549152653398,
          6334.243251982052,
          3424.0736039052886,
          5588.800602998207,
          3943.117073633914,
          8154.200533863814,
          3973.9069974865147,
          3684.6952959403593,
          5556.666139133824,
          7146.662858252784,
          4711.285967238693,
          5713.442041909507,
          4273.205301847637,
          4795.659622307599,
          6502.207882775597,
          6154.518606181518,
          6617.143404468859,
          4298.147934215801,
          5720.063910631851,
          5122.298575466139,
          3616.906622264863,
          3293.9257098257863,
          5435.293808150469,
          4305.605513370141,
          5484.0622101307545,
          5512.809888472103,
          5033.927181148626,
          5692.091704359404,
          1366.217506191389,
          4760.726683836125,
          5507.674538617937,
          6827.7367522808745,
          6716.389270082331,
          3878.0740056043533,
          4571.311601888517,
          6401.496850378559,
          5019.545071865862,
          5053.97439448231,
          4092.586810582496,
          2451.395645635492,
          6791.121727987135,
          5239.834486252134,
          4854.37361153801,
          4039.0497082186093,
          4906.821369117013,
          7423.3153685464395,
          5008.01210377861,
          7150.265686204216,
          4646.423038232099,
          6074.108821940043,
          2642.85646287331,
          4574.029852480236,
          4918.86109971474,
          4662.5718013621645,
          5207.221097509014
         ],
         "yaxis": "y"
        },
        {
         "customdata": [
          [
           30
          ],
          [
           62
          ],
          [
           85
          ],
          [
           59
          ],
          [
           30
          ],
          [
           83
          ],
          [
           66
          ],
          [
           31
          ],
          [
           88
          ],
          [
           28
          ],
          [
           85
          ],
          [
           64
          ],
          [
           33
          ],
          [
           62
          ],
          [
           89
          ],
          [
           61
          ],
          [
           29
          ],
          [
           56
          ],
          [
           92
          ],
          [
           62
          ],
          [
           60
          ],
          [
           85
          ],
          [
           88
          ],
          [
           94
          ],
          [
           62
          ],
          [
           64
          ],
          [
           29
          ],
          [
           27
          ],
          [
           31
          ],
          [
           87
          ],
          [
           32
          ],
          [
           63
          ],
          [
           58
          ],
          [
           62
          ],
          [
           32
          ],
          [
           93
          ],
          [
           59
          ],
          [
           61
          ],
          [
           53
          ],
          [
           82
          ],
          [
           28
          ],
          [
           32
          ],
          [
           89
          ],
          [
           84
          ],
          [
           87
          ],
          [
           29
          ],
          [
           58
          ],
          [
           29
          ],
          [
           55
          ],
          [
           25
          ],
          [
           60
          ],
          [
           88
          ],
          [
           24
          ],
          [
           56
          ],
          [
           95
          ],
          [
           89
          ],
          [
           86
          ],
          [
           85
          ],
          [
           60
          ],
          [
           87
          ],
          [
           29
          ],
          [
           23
          ],
          [
           31
          ],
          [
           89
          ],
          [
           58
          ],
          [
           56
          ],
          [
           37
          ],
          [
           89
          ],
          [
           29
          ],
          [
           23
          ],
          [
           34
          ],
          [
           64
          ],
          [
           63
          ],
          [
           85
          ],
          [
           62
          ],
          [
           59
          ],
          [
           92
          ],
          [
           67
          ],
          [
           58
          ],
          [
           58
          ],
          [
           38
          ],
          [
           57
          ],
          [
           31
          ],
          [
           36
          ],
          [
           25
          ],
          [
           66
          ],
          [
           64
          ],
          [
           59
          ],
          [
           90
          ],
          [
           68
          ],
          [
           35
          ],
          [
           84
          ],
          [
           24
          ],
          [
           29
          ],
          [
           28
          ],
          [
           81
          ],
          [
           57
          ],
          [
           37
          ],
          [
           91
          ],
          [
           82
          ],
          [
           36
          ],
          [
           31
          ],
          [
           61
          ],
          [
           64
          ],
          [
           83
          ],
          [
           63
          ],
          [
           55
          ],
          [
           86
          ],
          [
           57
          ],
          [
           94
          ],
          [
           37
          ],
          [
           26
          ],
          [
           57
          ],
          [
           37
          ],
          [
           88
          ],
          [
           61
          ],
          [
           91
          ],
          [
           84
          ],
          [
           43
          ],
          [
           59
          ],
          [
           90
          ],
          [
           88
          ],
          [
           59
          ],
          [
           59
          ],
          [
           88
          ],
          [
           37
          ],
          [
           33
          ],
          [
           90
          ],
          [
           31
          ],
          [
           90
          ],
          [
           91
          ],
          [
           29
          ],
          [
           83
          ],
          [
           84
          ],
          [
           87
          ],
          [
           22
          ],
          [
           58
          ],
          [
           31
          ],
          [
           33
          ],
          [
           56
          ],
          [
           30
          ],
          [
           85
          ],
          [
           87
          ],
          [
           34
          ],
          [
           61
          ],
          [
           30
          ],
          [
           88
          ]
         ],
         "hoverlabel": {
          "namelength": 0
         },
         "hovertemplate": "Cluster=Cluster 1<br>PCA1=%{x}<br>PCA2=%{y}<br>Feature=%{customdata[0]}",
         "legendgroup": "Cluster=Cluster 1",
         "marker": {
          "color": "#EF553B",
          "opacity": 0.5,
          "symbol": "circle"
         },
         "mode": "markers",
         "name": "Cluster=Cluster 1",
         "showlegend": true,
         "textposition": "top center",
         "type": "scatter",
         "x": [
          -50504.82314273774,
          -45504.92821664389,
          -48762.364668271235,
          -58127.50387027005,
          -42253.87287795825,
          -57750.757746123934,
          -48448.18982139343,
          -42485.1989305084,
          -53329.088908637954,
          -52508.30353343577,
          -39916.59061152692,
          -45053.5011513402,
          -42172.09142372817,
          -56820.08755360429,
          -52745.27199507387,
          -42546.309287033866,
          -43811.4726203939,
          -40724.15688509666,
          -37730.7693406082,
          -28723.991919566015,
          -48867.33422412476,
          -45508.35388587769,
          -43012.76978349143,
          -47072.83270827884,
          -46206.760709172915,
          -44821.27195537097,
          -51304.42079121023,
          -56178.673270051804,
          -63634.7220027396,
          -56854.244914684125,
          -49206.07297923625,
          -57516.27318363647,
          -53514.36608306828,
          -39063.28667619092,
          -50029.04867348445,
          -63656.34758998018,
          -52350.136881607716,
          -53484.99044797623,
          -49274.442396159335,
          -48459.57885316469,
          -54413.15855352479,
          -47000.17170879294,
          -57495.82751822284,
          -40276.44813108957,
          -49083.989044483504,
          -53905.33080870671,
          -51858.95285225977,
          -48031.60033869839,
          -53120.54070874584,
          -48086.47161506785,
          -41229.08532646794,
          -33223.78792758693,
          -46621.6751899209,
          -57945.29400939381,
          -44316.39097613654,
          -52219.788910263276,
          -45243.33599570984,
          -52877.38164603339,
          -47591.22511122002,
          -56895.33602609468,
          -48338.70466261935,
          -39255.473865513486,
          -39730.75492373198,
          -45889.16124528399,
          -44891.72694017818,
          -55837.89621255911,
          -40392.52353813578,
          -51590.97205811305,
          -44207.36919669007,
          -42152.50281937877,
          -51240.79467490212,
          -45148.06214608795,
          -46108.56441807314,
          -55003.11473536298,
          -53103.847912897334,
          -48496.84792497308,
          -48329.37521986346,
          -50055.7875642936,
          -50446.687258505626,
          -36822.88272990109,
          -46897.287204841865,
          -37510.58801132119,
          -39708.646989663495,
          -47211.30921897944,
          -42194.79873495243,
          -41047.37636685033,
          -57888.9869379862,
          -45592.662714596496,
          -38257.012522678706,
          -47490.0533736371,
          -43219.57063079799,
          -51335.69636219808,
          -59885.18345080091,
          -52957.61629178101,
          -60035.35573518636,
          -53680.72058527792,
          -48890.16204283168,
          -51459.513505463474,
          -45316.581406095596,
          -58771.330100436215,
          -47366.64939309715,
          -49427.52413702616,
          -47271.41327624216,
          -46522.919419751204,
          -47129.84416342064,
          -47975.62989430372,
          -42382.69883203623,
          -42594.24300193299,
          -45489.12002421865,
          -42432.645099662295,
          -47339.9473341083,
          -57176.86780610608,
          -55300.438356116516,
          -46888.4058987738,
          -43231.47790879881,
          -41090.43271162369,
          -56491.726161601466,
          -55368.98427568015,
          -48469.75822555581,
          -49952.56386424759,
          -51191.183110267986,
          -47927.75615335329,
          -28705.212826769817,
          -49610.67501015973,
          -48754.553222931485,
          -42334.04767150636,
          -49618.564251583935,
          -39882.02333138305,
          -38870.67264138036,
          -51006.62596717183,
          -42805.1746936623,
          -47148.04950665263,
          -46752.17189114911,
          -49855.3602390612,
          -44945.69901444304,
          -41272.895339861825,
          -58306.89374121136,
          -55116.836018168426,
          -40907.25147798811,
          -46294.69652581512,
          -54957.490989172366,
          -49640.51633393594,
          -41183.65207165714,
          -44680.89350931926,
          -41654.28537091675,
          -33685.82303783502,
          -48254.00622992492
         ],
         "xaxis": "x",
         "y": [
          -2541.1040744024226,
          -1656.4250558163046,
          -1902.303752571812,
          -3329.4241557503906,
          -2813.408865756105,
          -1546.7860227984638,
          -424.49445160247024,
          -1573.1293339464696,
          -3704.115203066885,
          -2003.3795586148938,
          -5860.406970913435,
          -3267.853088065969,
          -3482.950924420316,
          -2626.4947601230424,
          -3270.250012030128,
          -2323.9550250667417,
          -3844.050642994285,
          -3403.354998094882,
          -3447.522865699355,
          -1283.2493416842215,
          -3330.095089314265,
          -1716.0957515179957,
          -2388.397515567188,
          -3652.143022077505,
          -3972.4372911141986,
          -809.2478504066129,
          -1341.6421504993368,
          -1450.7318688866617,
          -958.5365645110752,
          -1039.8869670204488,
          646.5438723752056,
          -2662.2379174130574,
          -3511.6505427575603,
          -2178.951260878269,
          -2907.7981801354936,
          -672.1303645870972,
          -1271.8366968001812,
          -2964.8711615389448,
          -1819.1411133435672,
          -623.0248233972345,
          -1055.9968931753672,
          -3258.5927312494323,
          -874.593832039621,
          -3159.4030652887427,
          -2706.954245859544,
          776.7213551828833,
          -1998.314514884127,
          -2520.879670925899,
          -2373.9068521136173,
          -3267.6645334787468,
          -559.8887343311554,
          -4327.59980040403,
          -1061.392829700628,
          -1690.2235244245398,
          -1681.107809398617,
          -361.82287722905824,
          -2386.744670387971,
          -1034.0462861180688,
          -2876.016821854165,
          -219.83567344031934,
          -296.94791022013624,
          -2456.062469507207,
          -3215.311753103623,
          -3656.860040523123,
          -1059.509970558917,
          -2913.1513261933924,
          -1918.070653976538,
          -1709.6809922654027,
          -1788.5950192551397,
          -3595.426499455156,
          -337.5831102994573,
          -918.4435413744562,
          -4704.900718140082,
          -1806.371634963476,
          -1838.6646455566606,
          -1255.0231217175199,
          -2106.956548531857,
          -458.7329379734673,
          -1789.8310613735055,
          -3004.135925035735,
          -1500.5997535503466,
          -2385.930673599973,
          -2812.6408322745283,
          -497.02873214681415,
          -2831.24497264978,
          163.00860194240659,
          -2297.410428456015,
          -1858.7415428672753,
          -3209.705699855124,
          -1025.6556377131585,
          -982.6374045457425,
          -2253.324954790313,
          968.1821841701784,
          -512.1681616652348,
          -2067.785202202856,
          -1523.1531827794763,
          -3117.043572435125,
          -1443.631221061167,
          72.34189620852644,
          -1946.425634881533,
          -2226.5238835946857,
          -3282.496783689519,
          -1422.2632521531461,
          -2395.1506203279114,
          -2166.9455265130255,
          -2697.4806496368737,
          -1026.2178281219428,
          -4573.135949676132,
          -857.2365574199118,
          -2804.3175987818186,
          -2756.210456765216,
          -500.38222602903375,
          -2379.445392952536,
          -1747.2845158743762,
          -2464.3665067293477,
          -2507.468037848859,
          -1529.949520138383,
          -990.6075970316522,
          -975.0110199269362,
          -1016.3628176053354,
          -2999.0481368530077,
          1139.0677249894115,
          -2125.516573296834,
          -2494.34601585477,
          -3476.7575329414094,
          -946.4427010468282,
          -1200.4987085747007,
          -3145.838811669634,
          -4966.6329836316345,
          1229.6342021038015,
          -2383.9235864924367,
          -948.1700320034138,
          -4260.667936777427,
          -2551.6409458673015,
          -2663.4363034143594,
          -2039.051945091478,
          -1498.3070625904015,
          -3386.631387427837,
          -2247.72309806976,
          -3445.140762666878,
          -1273.0340909671545,
          -2403.452656500528,
          -2299.177576458252,
          -3320.238109106743,
          -1284.276335232602,
          -2359.9810608524385,
          -3586.3929123393636
         ],
         "yaxis": "y"
        },
        {
         "customdata": [
          [
           56
          ],
          [
           30
          ],
          [
           25
          ],
          [
           61
          ],
          [
           88
          ],
          [
           37
          ],
          [
           35
          ],
          [
           85
          ],
          [
           85
          ],
          [
           88
          ],
          [
           59
          ],
          [
           90
          ],
          [
           33
          ],
          [
           62
          ],
          [
           59
          ],
          [
           91
          ],
          [
           33
          ],
          [
           87
          ],
          [
           26
          ],
          [
           88
          ],
          [
           24
          ],
          [
           91
          ],
          [
           86
          ],
          [
           36
          ],
          [
           87
          ],
          [
           33
          ],
          [
           59
          ],
          [
           29
          ],
          [
           59
          ],
          [
           57
          ],
          [
           40
          ],
          [
           42
          ],
          [
           89
          ],
          [
           93
          ],
          [
           17
          ],
          [
           24
          ],
          [
           34
          ],
          [
           90
          ],
          [
           20
          ],
          [
           92
          ],
          [
           84
          ],
          [
           59
          ],
          [
           61
          ],
          [
           67
          ],
          [
           82
          ],
          [
           94
          ],
          [
           28
          ],
          [
           36
          ],
          [
           91
          ],
          [
           34
          ],
          [
           77
          ],
          [
           63
          ],
          [
           35
          ],
          [
           21
          ],
          [
           86
          ],
          [
           56
          ],
          [
           83
          ],
          [
           28
          ],
          [
           59
          ],
          [
           83
          ],
          [
           83
          ],
          [
           58
          ],
          [
           91
          ],
          [
           29
          ],
          [
           61
          ],
          [
           84
          ],
          [
           34
          ],
          [
           33
          ],
          [
           55
          ],
          [
           88
          ],
          [
           91
          ],
          [
           91
          ]
         ],
         "hoverlabel": {
          "namelength": 0
         },
         "hovertemplate": "Cluster=Cluster 2<br>PCA1=%{x}<br>PCA2=%{y}<br>Feature=%{customdata[0]}",
         "legendgroup": "Cluster=Cluster 2",
         "marker": {
          "color": "#00cc96",
          "opacity": 0.5,
          "symbol": "circle"
         },
         "mode": "markers",
         "name": "Cluster=Cluster 2",
         "showlegend": true,
         "textposition": "top center",
         "type": "scatter",
         "x": [
          48602.57111184025,
          44074.74432267952,
          48697.32854441,
          53899.234059979615,
          52844.21454083221,
          43084.43130106845,
          50874.59373315194,
          54542.56026091133,
          52465.033586659956,
          47549.76254622712,
          47415.389162405365,
          52086.38065892726,
          50397.08389773139,
          47964.552261387,
          47182.06858155589,
          47518.88131856796,
          55783.42885801495,
          44952.90203538901,
          41859.15436997566,
          61617.256021857254,
          54230.311420476646,
          45049.71303774851,
          46993.641087908465,
          49923.23240258635,
          47836.44839182688,
          61085.161815426945,
          48577.245944563765,
          45280.29645748766,
          52679.13742245069,
          45728.40114434414,
          48281.96476402194,
          55795.99791496399,
          41933.87634909214,
          59798.17482849977,
          59239.85352839819,
          43861.74709102557,
          59803.04557919306,
          50433.85138453342,
          46271.74999066815,
          56449.67813828145,
          52263.494108744504,
          43600.21618030979,
          53976.790002631344,
          58984.550274967296,
          47842.88367906655,
          41580.271744638274,
          48410.009290472386,
          45920.303846007664,
          57857.28905692234,
          55809.60825993983,
          51395.22435599955,
          48029.23598296095,
          42045.795702571464,
          56651.455483747515,
          53422.55248570127,
          59196.59308633915,
          66750.62108457659,
          53924.5970395588,
          42157.80542870105,
          45302.57090416747,
          55168.45154506193,
          47210.611284129656,
          63317.06653244297,
          43629.01273923761,
          48551.89779119267,
          51532.47005840455,
          41328.252663310006,
          42414.139844093996,
          62912.45709780573,
          54778.91990969149,
          55587.35173073362,
          46000.8024846996
         ],
         "xaxis": "x",
         "y": [
          6249.537360930086,
          -6307.669140625984,
          5282.49780975431,
          3176.7468854090916,
          -5677.6674755519225,
          -4660.855622444517,
          -5178.052813440085,
          4193.882999372308,
          3371.5330650130977,
          3437.8964823947795,
          4709.388807631829,
          3388.4270346813746,
          2890.5509685647035,
          -4397.186114919688,
          -4557.716601791887,
          4941.999362973271,
          4732.087714707707,
          -4985.514801220408,
          -4543.326267067207,
          6726.313750520615,
          3238.4287703236855,
          4590.872583456108,
          -4647.129088588661,
          6048.724079227709,
          6059.983323374552,
          4243.721728508766,
          -6305.307759672742,
          4437.356566167741,
          -4749.057025715376,
          3658.306501252222,
          8499.966944599812,
          4252.897540706996,
          4717.997205237611,
          4315.751792559067,
          4745.144589124807,
          -6877.035883382079,
          8450.307562492615,
          -6854.206134077967,
          4207.414796612184,
          5101.398697367523,
          5916.358054129832,
          -5657.478831520012,
          5488.389984582109,
          3350.711617933646,
          4758.188729714916,
          -5615.56077240865,
          -5693.66544115746,
          -4953.92112942337,
          5717.501137167643,
          3879.1497332626577,
          5657.241494980819,
          5422.323757682563,
          -3106.1034758683663,
          4271.292185091136,
          3894.2354791277503,
          3903.974926815369,
          2693.008186621749,
          5765.842845736468,
          -5954.4546018511555,
          3778.1814213096077,
          4016.981622201615,
          6674.234677495919,
          4946.177510120509,
          -6254.840941209135,
          4668.214697412175,
          6006.7338336625335,
          -4823.645899335602,
          -5432.281819509655,
          5261.35521326639,
          4629.791365281098,
          3427.1351952588107,
          3884.452851319084
         ],
         "yaxis": "y"
        },
        {
         "customdata": [
          [
           84
          ],
          [
           87
          ],
          [
           39
          ],
          [
           38
          ],
          [
           89
          ],
          [
           59
          ],
          [
           35
          ],
          [
           59
          ],
          [
           87
          ],
          [
           94
          ],
          [
           86
          ],
          [
           60
          ],
          [
           79
          ],
          [
           86
          ],
          [
           60
          ],
          [
           85
          ],
          [
           92
          ],
          [
           37
          ],
          [
           89
          ],
          [
           67
          ],
          [
           31
          ],
          [
           20
          ],
          [
           37
          ],
          [
           57
          ],
          [
           87
          ],
          [
           33
          ],
          [
           56
          ],
          [
           67
          ],
          [
           58
          ],
          [
           89
          ],
          [
           34
          ],
          [
           25
          ],
          [
           44
          ],
          [
           68
          ],
          [
           31
          ],
          [
           58
          ],
          [
           55
          ],
          [
           21
          ],
          [
           36
          ],
          [
           88
          ],
          [
           26
          ],
          [
           29
          ],
          [
           38
          ],
          [
           79
          ],
          [
           51
          ],
          [
           82
          ],
          [
           39
          ],
          [
           87
          ],
          [
           36
          ],
          [
           57
          ],
          [
           61
          ],
          [
           86
          ],
          [
           86
          ],
          [
           35
          ],
          [
           89
          ],
          [
           30
          ],
          [
           60
          ],
          [
           64
          ],
          [
           37
          ],
          [
           65
          ],
          [
           90
          ],
          [
           59
          ],
          [
           29
          ],
          [
           58
          ],
          [
           88
          ],
          [
           63
          ],
          [
           92
          ],
          [
           17
          ],
          [
           34
          ],
          [
           22
          ],
          [
           24
          ],
          [
           36
          ],
          [
           34
          ],
          [
           87
          ],
          [
           85
          ],
          [
           61
          ],
          [
           27
          ],
          [
           59
          ],
          [
           31
          ],
          [
           31
          ],
          [
           93
          ],
          [
           17
          ],
          [
           35
          ],
          [
           28
          ],
          [
           94
          ],
          [
           28
          ],
          [
           33
          ],
          [
           56
          ],
          [
           28
          ],
          [
           86
          ],
          [
           92
          ],
          [
           18
          ],
          [
           61
          ],
          [
           32
          ],
          [
           63
          ],
          [
           58
          ],
          [
           31
          ],
          [
           62
          ],
          [
           60
          ],
          [
           62
          ],
          [
           90
          ],
          [
           33
          ],
          [
           33
          ],
          [
           65
          ],
          [
           59
          ],
          [
           65
          ],
          [
           86
          ],
          [
           32
          ],
          [
           84
          ],
          [
           84
          ],
          [
           90
          ],
          [
           91
          ],
          [
           26
          ],
          [
           92
          ],
          [
           97
          ],
          [
           84
          ],
          [
           58
          ],
          [
           61
          ],
          [
           92
          ],
          [
           87
          ],
          [
           66
          ],
          [
           22
          ],
          [
           91
          ],
          [
           30
          ],
          [
           25
          ],
          [
           28
          ],
          [
           93
          ],
          [
           90
          ],
          [
           91
          ],
          [
           89
          ]
         ],
         "hoverlabel": {
          "namelength": 0
         },
         "hovertemplate": "Cluster=Cluster 3<br>PCA1=%{x}<br>PCA2=%{y}<br>Feature=%{customdata[0]}",
         "legendgroup": "Cluster=Cluster 3",
         "marker": {
          "color": "#ab63fa",
          "opacity": 0.5,
          "symbol": "circle"
         },
         "mode": "markers",
         "name": "Cluster=Cluster 3",
         "showlegend": true,
         "textposition": "top center",
         "type": "scatter",
         "x": [
          22236.169474372284,
          20486.14069594545,
          32322.90855312249,
          32345.708428700604,
          32691.869561685748,
          19017.169464917504,
          39941.23737509616,
          26507.042872359914,
          22224.55614343529,
          34060.87750047386,
          25474.402763797287,
          32307.936729140954,
          34360.481807350596,
          40849.48059769065,
          24827.978780545975,
          31016.95277066788,
          24819.36094949776,
          30614.165778553568,
          25376.693266073165,
          34753.14848573082,
          31202.412682476086,
          28639.385002450505,
          31361.085267799153,
          33345.1562712312,
          23196.213306438232,
          31330.34398452479,
          23022.21826312665,
          39399.40138181151,
          25363.91922672042,
          35579.205815806374,
          32572.75027236621,
          26343.678673902476,
          36260.39985707389,
          30268.705481263296,
          23896.368807904088,
          31502.360342968233,
          23967.00608797563,
          24294.808478346335,
          26578.153196266194,
          28681.54988758576,
          40419.57669510418,
          31045.22025567879,
          31317.298064553714,
          32289.540207166665,
          35711.07999432946,
          28960.63496494678,
          31911.00123936634,
          31960.75451420728,
          26298.148410246726,
          22350.769816321575,
          21900.78530003276,
          41298.63129283508,
          26003.522431925623,
          38847.16976776086,
          26983.046364278198,
          19295.267686809566,
          25732.344972190567,
          26228.3762864362,
          24613.75198032612,
          21973.30795044383,
          34815.254920538064,
          32210.979768642424,
          38869.649452671714,
          22393.41773018013,
          32797.643669354955,
          27758.387575808218,
          30584.12461511325,
          24491.38889864474,
          37228.73474520071,
          30806.7763419528,
          32912.89206331586,
          30949.636901997954,
          25938.05049675626,
          20592.34661300777,
          39135.37622313008,
          40673.859644327466,
          18943.372817813037,
          25765.790042328365,
          22105.03459107826,
          30046.48908092607,
          30148.682673916093,
          15764.491431415818,
          31614.4425654191,
          22258.6086685699,
          32416.939873895557,
          35187.91053468466,
          32149.921292682884,
          23032.68012465128,
          38543.62512292876,
          15177.319714667698,
          25328.069962281683,
          26312.37296892753,
          32853.062283695275,
          26071.981181359253,
          29240.50974864811,
          35023.2162708003,
          36008.72535912233,
          16918.676201100123,
          23858.598240023428,
          23748.67781545405,
          34830.8660373536,
          27456.91326667312,
          38938.11813871438,
          29210.5569464397,
          33203.84256888805,
          36813.767134203976,
          30155.334159636986,
          37939.71700891236,
          23470.847033328027,
          19785.994393274672,
          14006.00096536539,
          30950.101839682397,
          39513.27355543248,
          23392.942046850596,
          27412.69140542124,
          33379.42058468912,
          29861.546669621468,
          37194.90227907422,
          31253.468530449438,
          30836.978307627447,
          24706.128352845164,
          28912.89513619995,
          35036.71585548722,
          28627.259856400302,
          34834.90179466003,
          35572.71538685358,
          32561.02536006332,
          26023.56635140616,
          35758.27543553671,
          33217.92661094812
         ],
         "xaxis": "x",
         "y": [
          -4400.042331000774,
          -4804.203700356802,
          -3681.2903856818043,
          -2201.7204362153557,
          -6066.457122934579,
          -4587.056600403997,
          -5237.495032301012,
          -5484.674656121099,
          -5737.014216399174,
          -5075.678351149009,
          -4541.161711915868,
          -3401.08152176878,
          -5038.816440742181,
          -5591.430862352511,
          -5088.608312301611,
          -4865.004407317281,
          -6443.116567478206,
          -4762.43491261934,
          -3922.3292073945427,
          -4008.589012753903,
          -4006.8807824041255,
          -3130.950539346103,
          -4837.589604607756,
          -6080.299826048205,
          -5613.714946473872,
          -5635.163544619189,
          -4439.122859420634,
          -5202.090344164472,
          -6518.877743618627,
          -6195.256515402738,
          -6711.00581477203,
          -3863.0068749343077,
          -3890.344796261258,
          -4917.675594824388,
          -4653.572550884042,
          -5081.205331963826,
          -5918.696393593379,
          -3156.1748677381515,
          -4542.181472406771,
          -4194.112454577071,
          -6642.233640263953,
          -4354.880673536978,
          -6141.763263553499,
          -3634.3413606407416,
          -4543.481105344737,
          -5439.902381792013,
          -2672.9112969661533,
          -7950.137679904547,
          -5023.038755192275,
          -5405.192380070514,
          -5234.914435436249,
          -6422.065006311356,
          -3786.1336424715323,
          -8209.639308093885,
          -2897.41811077812,
          -3266.6501002799137,
          -4846.28000974612,
          -4266.484164687803,
          -3288.4642893518358,
          -5227.9723061599525,
          -5108.281670571715,
          -5806.362366658902,
          -4117.836047019014,
          -5150.746928288215,
          -5654.546848389324,
          -3524.601882041495,
          -5198.651743783725,
          -3378.54409054787,
          -4575.537648425256,
          -5560.204679600005,
          -4588.664684244315,
          -4397.197322284794,
          -4054.2528418970887,
          -4611.587648361575,
          -4339.707016425758,
          -5771.827716588533,
          -6099.926511675165,
          -4647.515091833701,
          -4346.1877415506115,
          -2733.109485171265,
          -3727.641222685247,
          -2149.1522120766217,
          -3948.413153701509,
          -5195.925409188557,
          -3316.8737845198516,
          -4164.858385743975,
          -5508.945169399096,
          -5461.179044520958,
          -7198.063753004448,
          4253.670268811263,
          -4507.818852759074,
          -4286.405360287335,
          -5910.595724540106,
          -4687.764619495451,
          -5240.709879901145,
          -4416.577273256121,
          -6111.705171395263,
          -2877.1946078768774,
          -4857.997302514555,
          -4085.3878885407794,
          -5377.229021116219,
          -4868.312164441832,
          -4443.169815276392,
          -6286.356908964109,
          -6552.893169384947,
          -4615.462129870632,
          -6491.845916302069,
          -4683.440281859755,
          -4720.248925408391,
          -4699.391527469765,
          -1775.6050399833507,
          -6274.399407676462,
          -4805.682520520948,
          -5117.926369906295,
          -5970.659605817783,
          -4139.053044046941,
          -4210.491742797327,
          -4030.4860762357525,
          -4792.820172444667,
          -4248.410998779933,
          -6304.286871577948,
          -5224.554435670846,
          -6415.699536226251,
          -3324.8164217780172,
          -5079.540930731756,
          -4807.665202226779,
          -5658.529147335401,
          -7172.334785619939,
          -4122.472097486015,
          -4387.404636496329
         ],
         "yaxis": "y"
        }
       ],
       "layout": {
        "height": 600,
        "legend": {
         "tracegroupgap": 0
        },
        "margin": {
         "t": 60
        },
        "plot_bgcolor": "rgb(240,240,240)",
        "template": {
         "data": {
          "bar": [
           {
            "error_x": {
             "color": "#2a3f5f"
            },
            "error_y": {
             "color": "#2a3f5f"
            },
            "marker": {
             "line": {
              "color": "#E5ECF6",
              "width": 0.5
             }
            },
            "type": "bar"
           }
          ],
          "barpolar": [
           {
            "marker": {
             "line": {
              "color": "#E5ECF6",
              "width": 0.5
             }
            },
            "type": "barpolar"
           }
          ],
          "carpet": [
           {
            "aaxis": {
             "endlinecolor": "#2a3f5f",
             "gridcolor": "white",
             "linecolor": "white",
             "minorgridcolor": "white",
             "startlinecolor": "#2a3f5f"
            },
            "baxis": {
             "endlinecolor": "#2a3f5f",
             "gridcolor": "white",
             "linecolor": "white",
             "minorgridcolor": "white",
             "startlinecolor": "#2a3f5f"
            },
            "type": "carpet"
           }
          ],
          "choropleth": [
           {
            "colorbar": {
             "outlinewidth": 0,
             "ticks": ""
            },
            "type": "choropleth"
           }
          ],
          "contour": [
           {
            "colorbar": {
             "outlinewidth": 0,
             "ticks": ""
            },
            "colorscale": [
             [
              0,
              "#0d0887"
             ],
             [
              0.1111111111111111,
              "#46039f"
             ],
             [
              0.2222222222222222,
              "#7201a8"
             ],
             [
              0.3333333333333333,
              "#9c179e"
             ],
             [
              0.4444444444444444,
              "#bd3786"
             ],
             [
              0.5555555555555556,
              "#d8576b"
             ],
             [
              0.6666666666666666,
              "#ed7953"
             ],
             [
              0.7777777777777778,
              "#fb9f3a"
             ],
             [
              0.8888888888888888,
              "#fdca26"
             ],
             [
              1,
              "#f0f921"
             ]
            ],
            "type": "contour"
           }
          ],
          "contourcarpet": [
           {
            "colorbar": {
             "outlinewidth": 0,
             "ticks": ""
            },
            "type": "contourcarpet"
           }
          ],
          "heatmap": [
           {
            "colorbar": {
             "outlinewidth": 0,
             "ticks": ""
            },
            "colorscale": [
             [
              0,
              "#0d0887"
             ],
             [
              0.1111111111111111,
              "#46039f"
             ],
             [
              0.2222222222222222,
              "#7201a8"
             ],
             [
              0.3333333333333333,
              "#9c179e"
             ],
             [
              0.4444444444444444,
              "#bd3786"
             ],
             [
              0.5555555555555556,
              "#d8576b"
             ],
             [
              0.6666666666666666,
              "#ed7953"
             ],
             [
              0.7777777777777778,
              "#fb9f3a"
             ],
             [
              0.8888888888888888,
              "#fdca26"
             ],
             [
              1,
              "#f0f921"
             ]
            ],
            "type": "heatmap"
           }
          ],
          "heatmapgl": [
           {
            "colorbar": {
             "outlinewidth": 0,
             "ticks": ""
            },
            "colorscale": [
             [
              0,
              "#0d0887"
             ],
             [
              0.1111111111111111,
              "#46039f"
             ],
             [
              0.2222222222222222,
              "#7201a8"
             ],
             [
              0.3333333333333333,
              "#9c179e"
             ],
             [
              0.4444444444444444,
              "#bd3786"
             ],
             [
              0.5555555555555556,
              "#d8576b"
             ],
             [
              0.6666666666666666,
              "#ed7953"
             ],
             [
              0.7777777777777778,
              "#fb9f3a"
             ],
             [
              0.8888888888888888,
              "#fdca26"
             ],
             [
              1,
              "#f0f921"
             ]
            ],
            "type": "heatmapgl"
           }
          ],
          "histogram": [
           {
            "marker": {
             "colorbar": {
              "outlinewidth": 0,
              "ticks": ""
             }
            },
            "type": "histogram"
           }
          ],
          "histogram2d": [
           {
            "colorbar": {
             "outlinewidth": 0,
             "ticks": ""
            },
            "colorscale": [
             [
              0,
              "#0d0887"
             ],
             [
              0.1111111111111111,
              "#46039f"
             ],
             [
              0.2222222222222222,
              "#7201a8"
             ],
             [
              0.3333333333333333,
              "#9c179e"
             ],
             [
              0.4444444444444444,
              "#bd3786"
             ],
             [
              0.5555555555555556,
              "#d8576b"
             ],
             [
              0.6666666666666666,
              "#ed7953"
             ],
             [
              0.7777777777777778,
              "#fb9f3a"
             ],
             [
              0.8888888888888888,
              "#fdca26"
             ],
             [
              1,
              "#f0f921"
             ]
            ],
            "type": "histogram2d"
           }
          ],
          "histogram2dcontour": [
           {
            "colorbar": {
             "outlinewidth": 0,
             "ticks": ""
            },
            "colorscale": [
             [
              0,
              "#0d0887"
             ],
             [
              0.1111111111111111,
              "#46039f"
             ],
             [
              0.2222222222222222,
              "#7201a8"
             ],
             [
              0.3333333333333333,
              "#9c179e"
             ],
             [
              0.4444444444444444,
              "#bd3786"
             ],
             [
              0.5555555555555556,
              "#d8576b"
             ],
             [
              0.6666666666666666,
              "#ed7953"
             ],
             [
              0.7777777777777778,
              "#fb9f3a"
             ],
             [
              0.8888888888888888,
              "#fdca26"
             ],
             [
              1,
              "#f0f921"
             ]
            ],
            "type": "histogram2dcontour"
           }
          ],
          "mesh3d": [
           {
            "colorbar": {
             "outlinewidth": 0,
             "ticks": ""
            },
            "type": "mesh3d"
           }
          ],
          "parcoords": [
           {
            "line": {
             "colorbar": {
              "outlinewidth": 0,
              "ticks": ""
             }
            },
            "type": "parcoords"
           }
          ],
          "pie": [
           {
            "automargin": true,
            "type": "pie"
           }
          ],
          "scatter": [
           {
            "marker": {
             "colorbar": {
              "outlinewidth": 0,
              "ticks": ""
             }
            },
            "type": "scatter"
           }
          ],
          "scatter3d": [
           {
            "line": {
             "colorbar": {
              "outlinewidth": 0,
              "ticks": ""
             }
            },
            "marker": {
             "colorbar": {
              "outlinewidth": 0,
              "ticks": ""
             }
            },
            "type": "scatter3d"
           }
          ],
          "scattercarpet": [
           {
            "marker": {
             "colorbar": {
              "outlinewidth": 0,
              "ticks": ""
             }
            },
            "type": "scattercarpet"
           }
          ],
          "scattergeo": [
           {
            "marker": {
             "colorbar": {
              "outlinewidth": 0,
              "ticks": ""
             }
            },
            "type": "scattergeo"
           }
          ],
          "scattergl": [
           {
            "marker": {
             "colorbar": {
              "outlinewidth": 0,
              "ticks": ""
             }
            },
            "type": "scattergl"
           }
          ],
          "scattermapbox": [
           {
            "marker": {
             "colorbar": {
              "outlinewidth": 0,
              "ticks": ""
             }
            },
            "type": "scattermapbox"
           }
          ],
          "scatterpolar": [
           {
            "marker": {
             "colorbar": {
              "outlinewidth": 0,
              "ticks": ""
             }
            },
            "type": "scatterpolar"
           }
          ],
          "scatterpolargl": [
           {
            "marker": {
             "colorbar": {
              "outlinewidth": 0,
              "ticks": ""
             }
            },
            "type": "scatterpolargl"
           }
          ],
          "scatterternary": [
           {
            "marker": {
             "colorbar": {
              "outlinewidth": 0,
              "ticks": ""
             }
            },
            "type": "scatterternary"
           }
          ],
          "surface": [
           {
            "colorbar": {
             "outlinewidth": 0,
             "ticks": ""
            },
            "colorscale": [
             [
              0,
              "#0d0887"
             ],
             [
              0.1111111111111111,
              "#46039f"
             ],
             [
              0.2222222222222222,
              "#7201a8"
             ],
             [
              0.3333333333333333,
              "#9c179e"
             ],
             [
              0.4444444444444444,
              "#bd3786"
             ],
             [
              0.5555555555555556,
              "#d8576b"
             ],
             [
              0.6666666666666666,
              "#ed7953"
             ],
             [
              0.7777777777777778,
              "#fb9f3a"
             ],
             [
              0.8888888888888888,
              "#fdca26"
             ],
             [
              1,
              "#f0f921"
             ]
            ],
            "type": "surface"
           }
          ],
          "table": [
           {
            "cells": {
             "fill": {
              "color": "#EBF0F8"
             },
             "line": {
              "color": "white"
             }
            },
            "header": {
             "fill": {
              "color": "#C8D4E3"
             },
             "line": {
              "color": "white"
             }
            },
            "type": "table"
           }
          ]
         },
         "layout": {
          "annotationdefaults": {
           "arrowcolor": "#2a3f5f",
           "arrowhead": 0,
           "arrowwidth": 1
          },
          "coloraxis": {
           "colorbar": {
            "outlinewidth": 0,
            "ticks": ""
           }
          },
          "colorscale": {
           "diverging": [
            [
             0,
             "#8e0152"
            ],
            [
             0.1,
             "#c51b7d"
            ],
            [
             0.2,
             "#de77ae"
            ],
            [
             0.3,
             "#f1b6da"
            ],
            [
             0.4,
             "#fde0ef"
            ],
            [
             0.5,
             "#f7f7f7"
            ],
            [
             0.6,
             "#e6f5d0"
            ],
            [
             0.7,
             "#b8e186"
            ],
            [
             0.8,
             "#7fbc41"
            ],
            [
             0.9,
             "#4d9221"
            ],
            [
             1,
             "#276419"
            ]
           ],
           "sequential": [
            [
             0,
             "#0d0887"
            ],
            [
             0.1111111111111111,
             "#46039f"
            ],
            [
             0.2222222222222222,
             "#7201a8"
            ],
            [
             0.3333333333333333,
             "#9c179e"
            ],
            [
             0.4444444444444444,
             "#bd3786"
            ],
            [
             0.5555555555555556,
             "#d8576b"
            ],
            [
             0.6666666666666666,
             "#ed7953"
            ],
            [
             0.7777777777777778,
             "#fb9f3a"
            ],
            [
             0.8888888888888888,
             "#fdca26"
            ],
            [
             1,
             "#f0f921"
            ]
           ],
           "sequentialminus": [
            [
             0,
             "#0d0887"
            ],
            [
             0.1111111111111111,
             "#46039f"
            ],
            [
             0.2222222222222222,
             "#7201a8"
            ],
            [
             0.3333333333333333,
             "#9c179e"
            ],
            [
             0.4444444444444444,
             "#bd3786"
            ],
            [
             0.5555555555555556,
             "#d8576b"
            ],
            [
             0.6666666666666666,
             "#ed7953"
            ],
            [
             0.7777777777777778,
             "#fb9f3a"
            ],
            [
             0.8888888888888888,
             "#fdca26"
            ],
            [
             1,
             "#f0f921"
            ]
           ]
          },
          "colorway": [
           "#636efa",
           "#EF553B",
           "#00cc96",
           "#ab63fa",
           "#FFA15A",
           "#19d3f3",
           "#FF6692",
           "#B6E880",
           "#FF97FF",
           "#FECB52"
          ],
          "font": {
           "color": "#2a3f5f"
          },
          "geo": {
           "bgcolor": "white",
           "lakecolor": "white",
           "landcolor": "#E5ECF6",
           "showlakes": true,
           "showland": true,
           "subunitcolor": "white"
          },
          "hoverlabel": {
           "align": "left"
          },
          "hovermode": "closest",
          "mapbox": {
           "style": "light"
          },
          "paper_bgcolor": "white",
          "plot_bgcolor": "#E5ECF6",
          "polar": {
           "angularaxis": {
            "gridcolor": "white",
            "linecolor": "white",
            "ticks": ""
           },
           "bgcolor": "#E5ECF6",
           "radialaxis": {
            "gridcolor": "white",
            "linecolor": "white",
            "ticks": ""
           }
          },
          "scene": {
           "xaxis": {
            "backgroundcolor": "#E5ECF6",
            "gridcolor": "white",
            "gridwidth": 2,
            "linecolor": "white",
            "showbackground": true,
            "ticks": "",
            "zerolinecolor": "white"
           },
           "yaxis": {
            "backgroundcolor": "#E5ECF6",
            "gridcolor": "white",
            "gridwidth": 2,
            "linecolor": "white",
            "showbackground": true,
            "ticks": "",
            "zerolinecolor": "white"
           },
           "zaxis": {
            "backgroundcolor": "#E5ECF6",
            "gridcolor": "white",
            "gridwidth": 2,
            "linecolor": "white",
            "showbackground": true,
            "ticks": "",
            "zerolinecolor": "white"
           }
          },
          "shapedefaults": {
           "line": {
            "color": "#2a3f5f"
           }
          },
          "ternary": {
           "aaxis": {
            "gridcolor": "white",
            "linecolor": "white",
            "ticks": ""
           },
           "baxis": {
            "gridcolor": "white",
            "linecolor": "white",
            "ticks": ""
           },
           "bgcolor": "#E5ECF6",
           "caxis": {
            "gridcolor": "white",
            "linecolor": "white",
            "ticks": ""
           }
          },
          "title": {
           "x": 0.05
          },
          "xaxis": {
           "automargin": true,
           "gridcolor": "white",
           "linecolor": "white",
           "ticks": "",
           "title": {
            "standoff": 15
           },
           "zerolinecolor": "white",
           "zerolinewidth": 2
          },
          "yaxis": {
           "automargin": true,
           "gridcolor": "white",
           "linecolor": "white",
           "ticks": "",
           "title": {
            "standoff": 15
           },
           "zerolinecolor": "white",
           "zerolinewidth": 2
          }
         }
        },
        "title": {
         "text": "2D Cluster PCA Plot"
        },
        "xaxis": {
         "anchor": "y",
         "domain": [
          0,
          1
         ],
         "title": {
          "text": "PCA1"
         }
        },
        "yaxis": {
         "anchor": "x",
         "domain": [
          0,
          1
         ],
         "title": {
          "text": "PCA2"
         }
        }
       }
      },
      "text/html": [
       "<div>\n",
       "        \n",
       "        \n",
       "            <div id=\"f5b140bb-1b8b-459a-87d1-013fff4908ee\" class=\"plotly-graph-div\" style=\"height:600px; width:100%;\"></div>\n",
       "            <script type=\"text/javascript\">\n",
       "                require([\"plotly\"], function(Plotly) {\n",
       "                    window.PLOTLYENV=window.PLOTLYENV || {};\n",
       "                    \n",
       "                if (document.getElementById(\"f5b140bb-1b8b-459a-87d1-013fff4908ee\")) {\n",
       "                    Plotly.newPlot(\n",
       "                        'f5b140bb-1b8b-459a-87d1-013fff4908ee',\n",
       "                        [{\"customdata\": [[58], [59], [62], [59], [87], [29], [54], [87], [83], [84], [85], [36], [30], [31], [61], [92], [55], [87], [82], [88], [30], [84], [53], [91], [89], [30], [17], [55], [90], [61], [59], [59], [88], [56], [33], [61], [84], [61], [39], [31], [60], [87], [20], [57], [61], [18], [83], [25], [31], [55], [84], [36], [27], [91], [53], [91], [25], [83], [87], [90], [83], [83], [83], [61], [64], [62], [91], [28], [23], [55], [58], [31], [83], [91], [30], [57], [33], [59], [58], [29], [59], [84], [64], [87], [88], [35], [34], [58], [56], [63], [58], [60], [24], [94], [58], [25], [36], [62], [66], [37], [27], [24], [31], [23], [34], [88], [89], [32], [38], [57], [90], [33], [66], [35], [31], [35], [63], [30], [22], [84], [28], [88], [84], [88], [35], [82], [64], [91], [62], [62], [34], [60], [32], [65], [24], [88], [82], [26], [60], [31], [85], [63], [56], [28], [58], [26], [62], [86], [56], [91], [59], [28], [85], [65], [94], [86]], \"hoverlabel\": {\"namelength\": 0}, \"hovertemplate\": \"Cluster=Cluster 0<br>PCA1=%{x}<br>PCA2=%{y}<br>Feature=%{customdata[0]}\", \"legendgroup\": \"Cluster=Cluster 0\", \"marker\": {\"color\": \"#636efa\", \"opacity\": 0.5, \"symbol\": \"circle\"}, \"mode\": \"markers\", \"name\": \"Cluster=Cluster 0\", \"showlegend\": true, \"textposition\": \"top center\", \"type\": \"scatter\", \"x\": [2555.784235160326, 8122.0803804155485, 871.05614486404, -7740.904879089726, -15159.901916245692, -9955.59900050198, 5073.487356522346, -7927.279393999573, -10817.514881421745, -182.87509706289552, -12401.01261442264, 384.4886537787823, -15876.01419493388, 2392.9514000132285, -4856.160277619089, -9604.97610123141, -3578.6411667637317, 3594.0424216908364, -5713.304475031726, 2456.114942910892, -4025.534586861498, 1223.3332842063594, -18377.080919160904, -1254.7961050822862, 1380.9095854822574, -5506.50477527731, -284.9346161317567, -1867.5011952055129, -4335.121223668246, -8175.944783841661, -11570.013629472303, -12594.175242128542, -3881.279223544832, -9447.566957019664, -4595.72546746293, 5567.478117111812, 9121.208329826182, 499.49661809613394, -4176.722631704313, -6529.597912750266, -7423.928769536239, -9153.992100917843, 4864.683651413001, -7249.028129796937, 7325.256189492702, 1198.2155272857262, -6945.490220855905, -5628.983771409213, -6874.447300583788, 3175.730100887685, -10072.875118803544, -5806.077052611824, 11039.02694203172, -5414.849621380297, 3385.8220491313214, -3902.6507601274116, 277.3194547180352, -18832.323089995112, -7793.454352086536, -10419.650727093287, -3127.746475407196, -3147.9716901024062, 3607.6218475354503, -805.5182840466958, -12402.614006035745, -811.2733012583001, -7981.746810683444, 2868.6753358918104, 7034.566991846886, -7827.504392605754, -7225.656651496562, -9823.29297141867, -3197.7706749317113, -4661.643199436446, -4588.845682887334, -1424.296852785252, -11770.096221904703, -7431.169946592954, -4794.73018597246, -5787.584457334296, -4114.665812502663, -4883.720561797817, -967.1345292294831, 1855.047986918689, 3333.0370081988945, -6270.130057704638, -6075.723945911879, 3574.8676282851397, 834.6063416853508, 375.61202524741026, -3222.0284971176466, 3735.2223001205443, -9600.009525716903, 2663.8141427242613, -5898.744479681153, -6051.798027149645, 5619.125538763628, -2220.635450610067, -10371.487057071727, -1864.5940590614487, -3536.624899618865, -9270.98324611398, -7793.211508914164, 5122.282562298919, 7017.407229806951, 4968.764645874574, -6214.354917756383, 1547.9124395594217, -1709.0067116984383, -5149.414552966318, -9176.939917160456, 5679.93503225557, 4615.604589783895, -1755.3663563989953, -6586.3750155963435, -2329.6167597527683, -1148.5927138363202, 1535.3200349238566, -3652.051627219527, -2601.8696283459494, -13124.391604038423, 1797.8692846207532, 3442.067865401046, -847.3002227743451, 1691.146999005504, -9514.742122293776, -2630.794135208179, -5495.930030665691, -1710.0091006297766, -860.4354477953796, -11393.264281389056, -5327.512619806892, -1006.7942808926981, 4848.4427643879835, 13091.374153516696, -2009.708614175172, -5414.451723823099, 106.447307829994, -4972.922141129976, 10499.407295945592, 11129.424149229617, -4333.353171495323, -11385.807297750891, 4241.775895153048, -3354.409395492051, -5228.7735481431, -10238.83792874304, -14757.62685450562, -6112.701966838941, -4197.995995572513, 6644.597612798233, -611.8920766835433, -879.6961231840211, 1270.5926186365066, -907.6690876091211, 1381.2925438038924], \"xaxis\": \"x\", \"y\": [5164.690387393585, 4731.012058760919, 5689.000453091913, 5133.639471687391, 5573.243592768733, 4085.312250446124, 5244.436809348921, 5673.5277286108085, 6677.48210159094, 4411.3243537762855, 6731.622371228147, 6845.141814371283, 7337.462584330772, 5992.684094109712, 6861.841710581511, 5517.456998799797, 4687.331305792247, 5244.223767536207, 6098.407171499213, 5539.9782542761295, 5644.552199614274, 5666.367954752703, 5086.374324713108, 6380.915494292795, 5567.112673818736, 6298.430178867739, 4064.0083360808126, 2685.6626854367964, 2658.297518890413, 5599.274828311298, 6393.584927460241, 5058.59350766587, 3532.750801645638, 6026.370137728775, 4575.315245883317, 6399.67945792858, 4076.188863858499, 4450.572465085803, 5121.948177991022, 5174.060016070755, 5595.425208078433, 6237.455006749801, 4834.953991865888, 5030.101509904848, 5245.750156657966, 6031.597780098123, 5240.283697626608, 3413.4609900340347, 3266.470183264381, 4727.07981305535, 7033.832306225479, 5686.132349951811, 4384.687289531572, 4509.3789480477335, 4513.159427781259, 5499.339332721771, 5152.0777221213175, 6823.2533280405705, 5788.853893383753, 5982.858221439138, 5318.2819936222295, 5506.996622913865, 4852.444518767339, 4348.095679784139, 4277.420432790433, 4771.515153180695, 3467.5659749114207, 5223.64233039036, 3374.287134293427, 5701.697575023517, 4564.617621855319, 6862.247572080616, 5127.949261280459, 4875.412034392045, 4468.268102563845, 7267.328542397009, 5001.420783196854, 6342.03690187803, 5174.470545977297, 5711.628393266971, 3078.896438494592, 4688.37074694926, 4638.724240674154, 5468.743274286699, 4012.215493342316, 5401.821696967172, 3500.5964543132554, 6638.189488143048, 5141.101367432594, 5049.606296947779, 4129.181189416358, 4370.46782882272, 4923.281603355225, 3399.1203547303244, 5205.840154213883, 6221.683453940024, 4314.803908984971, 4177.140129281851, 6211.274488459206, 5267.352553209781, 5070.413098436326, 5996.549152653398, 6334.243251982052, 3424.0736039052886, 5588.800602998207, 3943.117073633914, 8154.200533863814, 3973.9069974865147, 3684.6952959403593, 5556.666139133824, 7146.662858252784, 4711.285967238693, 5713.442041909507, 4273.205301847637, 4795.659622307599, 6502.207882775597, 6154.518606181518, 6617.143404468859, 4298.147934215801, 5720.063910631851, 5122.298575466139, 3616.906622264863, 3293.9257098257863, 5435.293808150469, 4305.605513370141, 5484.0622101307545, 5512.809888472103, 5033.927181148626, 5692.091704359404, 1366.217506191389, 4760.726683836125, 5507.674538617937, 6827.7367522808745, 6716.389270082331, 3878.0740056043533, 4571.311601888517, 6401.496850378559, 5019.545071865862, 5053.97439448231, 4092.586810582496, 2451.395645635492, 6791.121727987135, 5239.834486252134, 4854.37361153801, 4039.0497082186093, 4906.821369117013, 7423.3153685464395, 5008.01210377861, 7150.265686204216, 4646.423038232099, 6074.108821940043, 2642.85646287331, 4574.029852480236, 4918.86109971474, 4662.5718013621645, 5207.221097509014], \"yaxis\": \"y\"}, {\"customdata\": [[30], [62], [85], [59], [30], [83], [66], [31], [88], [28], [85], [64], [33], [62], [89], [61], [29], [56], [92], [62], [60], [85], [88], [94], [62], [64], [29], [27], [31], [87], [32], [63], [58], [62], [32], [93], [59], [61], [53], [82], [28], [32], [89], [84], [87], [29], [58], [29], [55], [25], [60], [88], [24], [56], [95], [89], [86], [85], [60], [87], [29], [23], [31], [89], [58], [56], [37], [89], [29], [23], [34], [64], [63], [85], [62], [59], [92], [67], [58], [58], [38], [57], [31], [36], [25], [66], [64], [59], [90], [68], [35], [84], [24], [29], [28], [81], [57], [37], [91], [82], [36], [31], [61], [64], [83], [63], [55], [86], [57], [94], [37], [26], [57], [37], [88], [61], [91], [84], [43], [59], [90], [88], [59], [59], [88], [37], [33], [90], [31], [90], [91], [29], [83], [84], [87], [22], [58], [31], [33], [56], [30], [85], [87], [34], [61], [30], [88]], \"hoverlabel\": {\"namelength\": 0}, \"hovertemplate\": \"Cluster=Cluster 1<br>PCA1=%{x}<br>PCA2=%{y}<br>Feature=%{customdata[0]}\", \"legendgroup\": \"Cluster=Cluster 1\", \"marker\": {\"color\": \"#EF553B\", \"opacity\": 0.5, \"symbol\": \"circle\"}, \"mode\": \"markers\", \"name\": \"Cluster=Cluster 1\", \"showlegend\": true, \"textposition\": \"top center\", \"type\": \"scatter\", \"x\": [-50504.82314273774, -45504.92821664389, -48762.364668271235, -58127.50387027005, -42253.87287795825, -57750.757746123934, -48448.18982139343, -42485.1989305084, -53329.088908637954, -52508.30353343577, -39916.59061152692, -45053.5011513402, -42172.09142372817, -56820.08755360429, -52745.27199507387, -42546.309287033866, -43811.4726203939, -40724.15688509666, -37730.7693406082, -28723.991919566015, -48867.33422412476, -45508.35388587769, -43012.76978349143, -47072.83270827884, -46206.760709172915, -44821.27195537097, -51304.42079121023, -56178.673270051804, -63634.7220027396, -56854.244914684125, -49206.07297923625, -57516.27318363647, -53514.36608306828, -39063.28667619092, -50029.04867348445, -63656.34758998018, -52350.136881607716, -53484.99044797623, -49274.442396159335, -48459.57885316469, -54413.15855352479, -47000.17170879294, -57495.82751822284, -40276.44813108957, -49083.989044483504, -53905.33080870671, -51858.95285225977, -48031.60033869839, -53120.54070874584, -48086.47161506785, -41229.08532646794, -33223.78792758693, -46621.6751899209, -57945.29400939381, -44316.39097613654, -52219.788910263276, -45243.33599570984, -52877.38164603339, -47591.22511122002, -56895.33602609468, -48338.70466261935, -39255.473865513486, -39730.75492373198, -45889.16124528399, -44891.72694017818, -55837.89621255911, -40392.52353813578, -51590.97205811305, -44207.36919669007, -42152.50281937877, -51240.79467490212, -45148.06214608795, -46108.56441807314, -55003.11473536298, -53103.847912897334, -48496.84792497308, -48329.37521986346, -50055.7875642936, -50446.687258505626, -36822.88272990109, -46897.287204841865, -37510.58801132119, -39708.646989663495, -47211.30921897944, -42194.79873495243, -41047.37636685033, -57888.9869379862, -45592.662714596496, -38257.012522678706, -47490.0533736371, -43219.57063079799, -51335.69636219808, -59885.18345080091, -52957.61629178101, -60035.35573518636, -53680.72058527792, -48890.16204283168, -51459.513505463474, -45316.581406095596, -58771.330100436215, -47366.64939309715, -49427.52413702616, -47271.41327624216, -46522.919419751204, -47129.84416342064, -47975.62989430372, -42382.69883203623, -42594.24300193299, -45489.12002421865, -42432.645099662295, -47339.9473341083, -57176.86780610608, -55300.438356116516, -46888.4058987738, -43231.47790879881, -41090.43271162369, -56491.726161601466, -55368.98427568015, -48469.75822555581, -49952.56386424759, -51191.183110267986, -47927.75615335329, -28705.212826769817, -49610.67501015973, -48754.553222931485, -42334.04767150636, -49618.564251583935, -39882.02333138305, -38870.67264138036, -51006.62596717183, -42805.1746936623, -47148.04950665263, -46752.17189114911, -49855.3602390612, -44945.69901444304, -41272.895339861825, -58306.89374121136, -55116.836018168426, -40907.25147798811, -46294.69652581512, -54957.490989172366, -49640.51633393594, -41183.65207165714, -44680.89350931926, -41654.28537091675, -33685.82303783502, -48254.00622992492], \"xaxis\": \"x\", \"y\": [-2541.1040744024226, -1656.4250558163046, -1902.303752571812, -3329.4241557503906, -2813.408865756105, -1546.7860227984638, -424.49445160247024, -1573.1293339464696, -3704.115203066885, -2003.3795586148938, -5860.406970913435, -3267.853088065969, -3482.950924420316, -2626.4947601230424, -3270.250012030128, -2323.9550250667417, -3844.050642994285, -3403.354998094882, -3447.522865699355, -1283.2493416842215, -3330.095089314265, -1716.0957515179957, -2388.397515567188, -3652.143022077505, -3972.4372911141986, -809.2478504066129, -1341.6421504993368, -1450.7318688866617, -958.5365645110752, -1039.8869670204488, 646.5438723752056, -2662.2379174130574, -3511.6505427575603, -2178.951260878269, -2907.7981801354936, -672.1303645870972, -1271.8366968001812, -2964.8711615389448, -1819.1411133435672, -623.0248233972345, -1055.9968931753672, -3258.5927312494323, -874.593832039621, -3159.4030652887427, -2706.954245859544, 776.7213551828833, -1998.314514884127, -2520.879670925899, -2373.9068521136173, -3267.6645334787468, -559.8887343311554, -4327.59980040403, -1061.392829700628, -1690.2235244245398, -1681.107809398617, -361.82287722905824, -2386.744670387971, -1034.0462861180688, -2876.016821854165, -219.83567344031934, -296.94791022013624, -2456.062469507207, -3215.311753103623, -3656.860040523123, -1059.509970558917, -2913.1513261933924, -1918.070653976538, -1709.6809922654027, -1788.5950192551397, -3595.426499455156, -337.5831102994573, -918.4435413744562, -4704.900718140082, -1806.371634963476, -1838.6646455566606, -1255.0231217175199, -2106.956548531857, -458.7329379734673, -1789.8310613735055, -3004.135925035735, -1500.5997535503466, -2385.930673599973, -2812.6408322745283, -497.02873214681415, -2831.24497264978, 163.00860194240659, -2297.410428456015, -1858.7415428672753, -3209.705699855124, -1025.6556377131585, -982.6374045457425, -2253.324954790313, 968.1821841701784, -512.1681616652348, -2067.785202202856, -1523.1531827794763, -3117.043572435125, -1443.631221061167, 72.34189620852644, -1946.425634881533, -2226.5238835946857, -3282.496783689519, -1422.2632521531461, -2395.1506203279114, -2166.9455265130255, -2697.4806496368737, -1026.2178281219428, -4573.135949676132, -857.2365574199118, -2804.3175987818186, -2756.210456765216, -500.38222602903375, -2379.445392952536, -1747.2845158743762, -2464.3665067293477, -2507.468037848859, -1529.949520138383, -990.6075970316522, -975.0110199269362, -1016.3628176053354, -2999.0481368530077, 1139.0677249894115, -2125.516573296834, -2494.34601585477, -3476.7575329414094, -946.4427010468282, -1200.4987085747007, -3145.838811669634, -4966.6329836316345, 1229.6342021038015, -2383.9235864924367, -948.1700320034138, -4260.667936777427, -2551.6409458673015, -2663.4363034143594, -2039.051945091478, -1498.3070625904015, -3386.631387427837, -2247.72309806976, -3445.140762666878, -1273.0340909671545, -2403.452656500528, -2299.177576458252, -3320.238109106743, -1284.276335232602, -2359.9810608524385, -3586.3929123393636], \"yaxis\": \"y\"}, {\"customdata\": [[56], [30], [25], [61], [88], [37], [35], [85], [85], [88], [59], [90], [33], [62], [59], [91], [33], [87], [26], [88], [24], [91], [86], [36], [87], [33], [59], [29], [59], [57], [40], [42], [89], [93], [17], [24], [34], [90], [20], [92], [84], [59], [61], [67], [82], [94], [28], [36], [91], [34], [77], [63], [35], [21], [86], [56], [83], [28], [59], [83], [83], [58], [91], [29], [61], [84], [34], [33], [55], [88], [91], [91]], \"hoverlabel\": {\"namelength\": 0}, \"hovertemplate\": \"Cluster=Cluster 2<br>PCA1=%{x}<br>PCA2=%{y}<br>Feature=%{customdata[0]}\", \"legendgroup\": \"Cluster=Cluster 2\", \"marker\": {\"color\": \"#00cc96\", \"opacity\": 0.5, \"symbol\": \"circle\"}, \"mode\": \"markers\", \"name\": \"Cluster=Cluster 2\", \"showlegend\": true, \"textposition\": \"top center\", \"type\": \"scatter\", \"x\": [48602.57111184025, 44074.74432267952, 48697.32854441, 53899.234059979615, 52844.21454083221, 43084.43130106845, 50874.59373315194, 54542.56026091133, 52465.033586659956, 47549.76254622712, 47415.389162405365, 52086.38065892726, 50397.08389773139, 47964.552261387, 47182.06858155589, 47518.88131856796, 55783.42885801495, 44952.90203538901, 41859.15436997566, 61617.256021857254, 54230.311420476646, 45049.71303774851, 46993.641087908465, 49923.23240258635, 47836.44839182688, 61085.161815426945, 48577.245944563765, 45280.29645748766, 52679.13742245069, 45728.40114434414, 48281.96476402194, 55795.99791496399, 41933.87634909214, 59798.17482849977, 59239.85352839819, 43861.74709102557, 59803.04557919306, 50433.85138453342, 46271.74999066815, 56449.67813828145, 52263.494108744504, 43600.21618030979, 53976.790002631344, 58984.550274967296, 47842.88367906655, 41580.271744638274, 48410.009290472386, 45920.303846007664, 57857.28905692234, 55809.60825993983, 51395.22435599955, 48029.23598296095, 42045.795702571464, 56651.455483747515, 53422.55248570127, 59196.59308633915, 66750.62108457659, 53924.5970395588, 42157.80542870105, 45302.57090416747, 55168.45154506193, 47210.611284129656, 63317.06653244297, 43629.01273923761, 48551.89779119267, 51532.47005840455, 41328.252663310006, 42414.139844093996, 62912.45709780573, 54778.91990969149, 55587.35173073362, 46000.8024846996], \"xaxis\": \"x\", \"y\": [6249.537360930086, -6307.669140625984, 5282.49780975431, 3176.7468854090916, -5677.6674755519225, -4660.855622444517, -5178.052813440085, 4193.882999372308, 3371.5330650130977, 3437.8964823947795, 4709.388807631829, 3388.4270346813746, 2890.5509685647035, -4397.186114919688, -4557.716601791887, 4941.999362973271, 4732.087714707707, -4985.514801220408, -4543.326267067207, 6726.313750520615, 3238.4287703236855, 4590.872583456108, -4647.129088588661, 6048.724079227709, 6059.983323374552, 4243.721728508766, -6305.307759672742, 4437.356566167741, -4749.057025715376, 3658.306501252222, 8499.966944599812, 4252.897540706996, 4717.997205237611, 4315.751792559067, 4745.144589124807, -6877.035883382079, 8450.307562492615, -6854.206134077967, 4207.414796612184, 5101.398697367523, 5916.358054129832, -5657.478831520012, 5488.389984582109, 3350.711617933646, 4758.188729714916, -5615.56077240865, -5693.66544115746, -4953.92112942337, 5717.501137167643, 3879.1497332626577, 5657.241494980819, 5422.323757682563, -3106.1034758683663, 4271.292185091136, 3894.2354791277503, 3903.974926815369, 2693.008186621749, 5765.842845736468, -5954.4546018511555, 3778.1814213096077, 4016.981622201615, 6674.234677495919, 4946.177510120509, -6254.840941209135, 4668.214697412175, 6006.7338336625335, -4823.645899335602, -5432.281819509655, 5261.35521326639, 4629.791365281098, 3427.1351952588107, 3884.452851319084], \"yaxis\": \"y\"}, {\"customdata\": [[84], [87], [39], [38], [89], [59], [35], [59], [87], [94], [86], [60], [79], [86], [60], [85], [92], [37], [89], [67], [31], [20], [37], [57], [87], [33], [56], [67], [58], [89], [34], [25], [44], [68], [31], [58], [55], [21], [36], [88], [26], [29], [38], [79], [51], [82], [39], [87], [36], [57], [61], [86], [86], [35], [89], [30], [60], [64], [37], [65], [90], [59], [29], [58], [88], [63], [92], [17], [34], [22], [24], [36], [34], [87], [85], [61], [27], [59], [31], [31], [93], [17], [35], [28], [94], [28], [33], [56], [28], [86], [92], [18], [61], [32], [63], [58], [31], [62], [60], [62], [90], [33], [33], [65], [59], [65], [86], [32], [84], [84], [90], [91], [26], [92], [97], [84], [58], [61], [92], [87], [66], [22], [91], [30], [25], [28], [93], [90], [91], [89]], \"hoverlabel\": {\"namelength\": 0}, \"hovertemplate\": \"Cluster=Cluster 3<br>PCA1=%{x}<br>PCA2=%{y}<br>Feature=%{customdata[0]}\", \"legendgroup\": \"Cluster=Cluster 3\", \"marker\": {\"color\": \"#ab63fa\", \"opacity\": 0.5, \"symbol\": \"circle\"}, \"mode\": \"markers\", \"name\": \"Cluster=Cluster 3\", \"showlegend\": true, \"textposition\": \"top center\", \"type\": \"scatter\", \"x\": [22236.169474372284, 20486.14069594545, 32322.90855312249, 32345.708428700604, 32691.869561685748, 19017.169464917504, 39941.23737509616, 26507.042872359914, 22224.55614343529, 34060.87750047386, 25474.402763797287, 32307.936729140954, 34360.481807350596, 40849.48059769065, 24827.978780545975, 31016.95277066788, 24819.36094949776, 30614.165778553568, 25376.693266073165, 34753.14848573082, 31202.412682476086, 28639.385002450505, 31361.085267799153, 33345.1562712312, 23196.213306438232, 31330.34398452479, 23022.21826312665, 39399.40138181151, 25363.91922672042, 35579.205815806374, 32572.75027236621, 26343.678673902476, 36260.39985707389, 30268.705481263296, 23896.368807904088, 31502.360342968233, 23967.00608797563, 24294.808478346335, 26578.153196266194, 28681.54988758576, 40419.57669510418, 31045.22025567879, 31317.298064553714, 32289.540207166665, 35711.07999432946, 28960.63496494678, 31911.00123936634, 31960.75451420728, 26298.148410246726, 22350.769816321575, 21900.78530003276, 41298.63129283508, 26003.522431925623, 38847.16976776086, 26983.046364278198, 19295.267686809566, 25732.344972190567, 26228.3762864362, 24613.75198032612, 21973.30795044383, 34815.254920538064, 32210.979768642424, 38869.649452671714, 22393.41773018013, 32797.643669354955, 27758.387575808218, 30584.12461511325, 24491.38889864474, 37228.73474520071, 30806.7763419528, 32912.89206331586, 30949.636901997954, 25938.05049675626, 20592.34661300777, 39135.37622313008, 40673.859644327466, 18943.372817813037, 25765.790042328365, 22105.03459107826, 30046.48908092607, 30148.682673916093, 15764.491431415818, 31614.4425654191, 22258.6086685699, 32416.939873895557, 35187.91053468466, 32149.921292682884, 23032.68012465128, 38543.62512292876, 15177.319714667698, 25328.069962281683, 26312.37296892753, 32853.062283695275, 26071.981181359253, 29240.50974864811, 35023.2162708003, 36008.72535912233, 16918.676201100123, 23858.598240023428, 23748.67781545405, 34830.8660373536, 27456.91326667312, 38938.11813871438, 29210.5569464397, 33203.84256888805, 36813.767134203976, 30155.334159636986, 37939.71700891236, 23470.847033328027, 19785.994393274672, 14006.00096536539, 30950.101839682397, 39513.27355543248, 23392.942046850596, 27412.69140542124, 33379.42058468912, 29861.546669621468, 37194.90227907422, 31253.468530449438, 30836.978307627447, 24706.128352845164, 28912.89513619995, 35036.71585548722, 28627.259856400302, 34834.90179466003, 35572.71538685358, 32561.02536006332, 26023.56635140616, 35758.27543553671, 33217.92661094812], \"xaxis\": \"x\", \"y\": [-4400.042331000774, -4804.203700356802, -3681.2903856818043, -2201.7204362153557, -6066.457122934579, -4587.056600403997, -5237.495032301012, -5484.674656121099, -5737.014216399174, -5075.678351149009, -4541.161711915868, -3401.08152176878, -5038.816440742181, -5591.430862352511, -5088.608312301611, -4865.004407317281, -6443.116567478206, -4762.43491261934, -3922.3292073945427, -4008.589012753903, -4006.8807824041255, -3130.950539346103, -4837.589604607756, -6080.299826048205, -5613.714946473872, -5635.163544619189, -4439.122859420634, -5202.090344164472, -6518.877743618627, -6195.256515402738, -6711.00581477203, -3863.0068749343077, -3890.344796261258, -4917.675594824388, -4653.572550884042, -5081.205331963826, -5918.696393593379, -3156.1748677381515, -4542.181472406771, -4194.112454577071, -6642.233640263953, -4354.880673536978, -6141.763263553499, -3634.3413606407416, -4543.481105344737, -5439.902381792013, -2672.9112969661533, -7950.137679904547, -5023.038755192275, -5405.192380070514, -5234.914435436249, -6422.065006311356, -3786.1336424715323, -8209.639308093885, -2897.41811077812, -3266.6501002799137, -4846.28000974612, -4266.484164687803, -3288.4642893518358, -5227.9723061599525, -5108.281670571715, -5806.362366658902, -4117.836047019014, -5150.746928288215, -5654.546848389324, -3524.601882041495, -5198.651743783725, -3378.54409054787, -4575.537648425256, -5560.204679600005, -4588.664684244315, -4397.197322284794, -4054.2528418970887, -4611.587648361575, -4339.707016425758, -5771.827716588533, -6099.926511675165, -4647.515091833701, -4346.1877415506115, -2733.109485171265, -3727.641222685247, -2149.1522120766217, -3948.413153701509, -5195.925409188557, -3316.8737845198516, -4164.858385743975, -5508.945169399096, -5461.179044520958, -7198.063753004448, 4253.670268811263, -4507.818852759074, -4286.405360287335, -5910.595724540106, -4687.764619495451, -5240.709879901145, -4416.577273256121, -6111.705171395263, -2877.1946078768774, -4857.997302514555, -4085.3878885407794, -5377.229021116219, -4868.312164441832, -4443.169815276392, -6286.356908964109, -6552.893169384947, -4615.462129870632, -6491.845916302069, -4683.440281859755, -4720.248925408391, -4699.391527469765, -1775.6050399833507, -6274.399407676462, -4805.682520520948, -5117.926369906295, -5970.659605817783, -4139.053044046941, -4210.491742797327, -4030.4860762357525, -4792.820172444667, -4248.410998779933, -6304.286871577948, -5224.554435670846, -6415.699536226251, -3324.8164217780172, -5079.540930731756, -4807.665202226779, -5658.529147335401, -7172.334785619939, -4122.472097486015, -4387.404636496329], \"yaxis\": \"y\"}],\n",
       "                        {\"height\": 600, \"legend\": {\"tracegroupgap\": 0}, \"margin\": {\"t\": 60}, \"plot_bgcolor\": \"rgb(240,240,240)\", \"template\": {\"data\": {\"bar\": [{\"error_x\": {\"color\": \"#2a3f5f\"}, \"error_y\": {\"color\": \"#2a3f5f\"}, \"marker\": {\"line\": {\"color\": \"#E5ECF6\", \"width\": 0.5}}, \"type\": \"bar\"}], \"barpolar\": [{\"marker\": {\"line\": {\"color\": \"#E5ECF6\", \"width\": 0.5}}, \"type\": \"barpolar\"}], \"carpet\": [{\"aaxis\": {\"endlinecolor\": \"#2a3f5f\", \"gridcolor\": \"white\", \"linecolor\": \"white\", \"minorgridcolor\": \"white\", \"startlinecolor\": \"#2a3f5f\"}, \"baxis\": {\"endlinecolor\": \"#2a3f5f\", \"gridcolor\": \"white\", \"linecolor\": \"white\", \"minorgridcolor\": \"white\", \"startlinecolor\": \"#2a3f5f\"}, \"type\": \"carpet\"}], \"choropleth\": [{\"colorbar\": {\"outlinewidth\": 0, \"ticks\": \"\"}, \"type\": \"choropleth\"}], \"contour\": [{\"colorbar\": {\"outlinewidth\": 0, \"ticks\": \"\"}, \"colorscale\": [[0.0, \"#0d0887\"], [0.1111111111111111, \"#46039f\"], [0.2222222222222222, \"#7201a8\"], [0.3333333333333333, \"#9c179e\"], [0.4444444444444444, \"#bd3786\"], [0.5555555555555556, \"#d8576b\"], [0.6666666666666666, \"#ed7953\"], [0.7777777777777778, \"#fb9f3a\"], [0.8888888888888888, \"#fdca26\"], [1.0, \"#f0f921\"]], \"type\": \"contour\"}], \"contourcarpet\": [{\"colorbar\": {\"outlinewidth\": 0, \"ticks\": \"\"}, \"type\": \"contourcarpet\"}], \"heatmap\": [{\"colorbar\": {\"outlinewidth\": 0, \"ticks\": \"\"}, \"colorscale\": [[0.0, \"#0d0887\"], [0.1111111111111111, \"#46039f\"], [0.2222222222222222, \"#7201a8\"], [0.3333333333333333, \"#9c179e\"], [0.4444444444444444, \"#bd3786\"], [0.5555555555555556, \"#d8576b\"], [0.6666666666666666, \"#ed7953\"], [0.7777777777777778, \"#fb9f3a\"], [0.8888888888888888, \"#fdca26\"], [1.0, \"#f0f921\"]], \"type\": \"heatmap\"}], \"heatmapgl\": [{\"colorbar\": {\"outlinewidth\": 0, \"ticks\": \"\"}, \"colorscale\": [[0.0, \"#0d0887\"], [0.1111111111111111, \"#46039f\"], [0.2222222222222222, \"#7201a8\"], [0.3333333333333333, \"#9c179e\"], [0.4444444444444444, \"#bd3786\"], [0.5555555555555556, \"#d8576b\"], [0.6666666666666666, \"#ed7953\"], [0.7777777777777778, \"#fb9f3a\"], [0.8888888888888888, \"#fdca26\"], [1.0, \"#f0f921\"]], \"type\": \"heatmapgl\"}], \"histogram\": [{\"marker\": {\"colorbar\": {\"outlinewidth\": 0, \"ticks\": \"\"}}, \"type\": \"histogram\"}], \"histogram2d\": [{\"colorbar\": {\"outlinewidth\": 0, \"ticks\": \"\"}, \"colorscale\": [[0.0, \"#0d0887\"], [0.1111111111111111, \"#46039f\"], [0.2222222222222222, \"#7201a8\"], [0.3333333333333333, \"#9c179e\"], [0.4444444444444444, \"#bd3786\"], [0.5555555555555556, \"#d8576b\"], [0.6666666666666666, \"#ed7953\"], [0.7777777777777778, \"#fb9f3a\"], [0.8888888888888888, \"#fdca26\"], [1.0, \"#f0f921\"]], \"type\": \"histogram2d\"}], \"histogram2dcontour\": [{\"colorbar\": {\"outlinewidth\": 0, \"ticks\": \"\"}, \"colorscale\": [[0.0, \"#0d0887\"], [0.1111111111111111, \"#46039f\"], [0.2222222222222222, \"#7201a8\"], [0.3333333333333333, \"#9c179e\"], [0.4444444444444444, \"#bd3786\"], [0.5555555555555556, \"#d8576b\"], [0.6666666666666666, \"#ed7953\"], [0.7777777777777778, \"#fb9f3a\"], [0.8888888888888888, \"#fdca26\"], [1.0, \"#f0f921\"]], \"type\": \"histogram2dcontour\"}], \"mesh3d\": [{\"colorbar\": {\"outlinewidth\": 0, \"ticks\": \"\"}, \"type\": \"mesh3d\"}], \"parcoords\": [{\"line\": {\"colorbar\": {\"outlinewidth\": 0, \"ticks\": \"\"}}, \"type\": \"parcoords\"}], \"pie\": [{\"automargin\": true, \"type\": \"pie\"}], \"scatter\": [{\"marker\": {\"colorbar\": {\"outlinewidth\": 0, \"ticks\": \"\"}}, \"type\": \"scatter\"}], \"scatter3d\": [{\"line\": {\"colorbar\": {\"outlinewidth\": 0, \"ticks\": \"\"}}, \"marker\": {\"colorbar\": {\"outlinewidth\": 0, \"ticks\": \"\"}}, \"type\": \"scatter3d\"}], \"scattercarpet\": [{\"marker\": {\"colorbar\": {\"outlinewidth\": 0, \"ticks\": \"\"}}, \"type\": \"scattercarpet\"}], \"scattergeo\": [{\"marker\": {\"colorbar\": {\"outlinewidth\": 0, \"ticks\": \"\"}}, \"type\": \"scattergeo\"}], \"scattergl\": [{\"marker\": {\"colorbar\": {\"outlinewidth\": 0, \"ticks\": \"\"}}, \"type\": \"scattergl\"}], \"scattermapbox\": [{\"marker\": {\"colorbar\": {\"outlinewidth\": 0, \"ticks\": \"\"}}, \"type\": \"scattermapbox\"}], \"scatterpolar\": [{\"marker\": {\"colorbar\": {\"outlinewidth\": 0, \"ticks\": \"\"}}, \"type\": \"scatterpolar\"}], \"scatterpolargl\": [{\"marker\": {\"colorbar\": {\"outlinewidth\": 0, \"ticks\": \"\"}}, \"type\": \"scatterpolargl\"}], \"scatterternary\": [{\"marker\": {\"colorbar\": {\"outlinewidth\": 0, \"ticks\": \"\"}}, \"type\": \"scatterternary\"}], \"surface\": [{\"colorbar\": {\"outlinewidth\": 0, \"ticks\": \"\"}, \"colorscale\": [[0.0, \"#0d0887\"], [0.1111111111111111, \"#46039f\"], [0.2222222222222222, \"#7201a8\"], [0.3333333333333333, \"#9c179e\"], [0.4444444444444444, \"#bd3786\"], [0.5555555555555556, \"#d8576b\"], [0.6666666666666666, \"#ed7953\"], [0.7777777777777778, \"#fb9f3a\"], [0.8888888888888888, \"#fdca26\"], [1.0, \"#f0f921\"]], \"type\": \"surface\"}], \"table\": [{\"cells\": {\"fill\": {\"color\": \"#EBF0F8\"}, \"line\": {\"color\": \"white\"}}, \"header\": {\"fill\": {\"color\": \"#C8D4E3\"}, \"line\": {\"color\": \"white\"}}, \"type\": \"table\"}]}, \"layout\": {\"annotationdefaults\": {\"arrowcolor\": \"#2a3f5f\", \"arrowhead\": 0, \"arrowwidth\": 1}, \"coloraxis\": {\"colorbar\": {\"outlinewidth\": 0, \"ticks\": \"\"}}, \"colorscale\": {\"diverging\": [[0, \"#8e0152\"], [0.1, \"#c51b7d\"], [0.2, \"#de77ae\"], [0.3, \"#f1b6da\"], [0.4, \"#fde0ef\"], [0.5, \"#f7f7f7\"], [0.6, \"#e6f5d0\"], [0.7, \"#b8e186\"], [0.8, \"#7fbc41\"], [0.9, \"#4d9221\"], [1, \"#276419\"]], \"sequential\": [[0.0, \"#0d0887\"], [0.1111111111111111, \"#46039f\"], [0.2222222222222222, \"#7201a8\"], [0.3333333333333333, \"#9c179e\"], [0.4444444444444444, \"#bd3786\"], [0.5555555555555556, \"#d8576b\"], [0.6666666666666666, \"#ed7953\"], [0.7777777777777778, \"#fb9f3a\"], [0.8888888888888888, \"#fdca26\"], [1.0, \"#f0f921\"]], \"sequentialminus\": [[0.0, \"#0d0887\"], [0.1111111111111111, \"#46039f\"], [0.2222222222222222, \"#7201a8\"], [0.3333333333333333, \"#9c179e\"], [0.4444444444444444, \"#bd3786\"], [0.5555555555555556, \"#d8576b\"], [0.6666666666666666, \"#ed7953\"], [0.7777777777777778, \"#fb9f3a\"], [0.8888888888888888, \"#fdca26\"], [1.0, \"#f0f921\"]]}, \"colorway\": [\"#636efa\", \"#EF553B\", \"#00cc96\", \"#ab63fa\", \"#FFA15A\", \"#19d3f3\", \"#FF6692\", \"#B6E880\", \"#FF97FF\", \"#FECB52\"], \"font\": {\"color\": \"#2a3f5f\"}, \"geo\": {\"bgcolor\": \"white\", \"lakecolor\": \"white\", \"landcolor\": \"#E5ECF6\", \"showlakes\": true, \"showland\": true, \"subunitcolor\": \"white\"}, \"hoverlabel\": {\"align\": \"left\"}, \"hovermode\": \"closest\", \"mapbox\": {\"style\": \"light\"}, \"paper_bgcolor\": \"white\", \"plot_bgcolor\": \"#E5ECF6\", \"polar\": {\"angularaxis\": {\"gridcolor\": \"white\", \"linecolor\": \"white\", \"ticks\": \"\"}, \"bgcolor\": \"#E5ECF6\", \"radialaxis\": {\"gridcolor\": \"white\", \"linecolor\": \"white\", \"ticks\": \"\"}}, \"scene\": {\"xaxis\": {\"backgroundcolor\": \"#E5ECF6\", \"gridcolor\": \"white\", \"gridwidth\": 2, \"linecolor\": \"white\", \"showbackground\": true, \"ticks\": \"\", \"zerolinecolor\": \"white\"}, \"yaxis\": {\"backgroundcolor\": \"#E5ECF6\", \"gridcolor\": \"white\", \"gridwidth\": 2, \"linecolor\": \"white\", \"showbackground\": true, \"ticks\": \"\", \"zerolinecolor\": \"white\"}, \"zaxis\": {\"backgroundcolor\": \"#E5ECF6\", \"gridcolor\": \"white\", \"gridwidth\": 2, \"linecolor\": \"white\", \"showbackground\": true, \"ticks\": \"\", \"zerolinecolor\": \"white\"}}, \"shapedefaults\": {\"line\": {\"color\": \"#2a3f5f\"}}, \"ternary\": {\"aaxis\": {\"gridcolor\": \"white\", \"linecolor\": \"white\", \"ticks\": \"\"}, \"baxis\": {\"gridcolor\": \"white\", \"linecolor\": \"white\", \"ticks\": \"\"}, \"bgcolor\": \"#E5ECF6\", \"caxis\": {\"gridcolor\": \"white\", \"linecolor\": \"white\", \"ticks\": \"\"}}, \"title\": {\"x\": 0.05}, \"xaxis\": {\"automargin\": true, \"gridcolor\": \"white\", \"linecolor\": \"white\", \"ticks\": \"\", \"title\": {\"standoff\": 15}, \"zerolinecolor\": \"white\", \"zerolinewidth\": 2}, \"yaxis\": {\"automargin\": true, \"gridcolor\": \"white\", \"linecolor\": \"white\", \"ticks\": \"\", \"title\": {\"standoff\": 15}, \"zerolinecolor\": \"white\", \"zerolinewidth\": 2}}}, \"title\": {\"text\": \"2D Cluster PCA Plot\"}, \"xaxis\": {\"anchor\": \"y\", \"domain\": [0.0, 1.0], \"title\": {\"text\": \"PCA1\"}}, \"yaxis\": {\"anchor\": \"x\", \"domain\": [0.0, 1.0], \"title\": {\"text\": \"PCA2\"}}},\n",
       "                        {\"responsive\": true}\n",
       "                    ).then(function(){\n",
       "                            \n",
       "var gd = document.getElementById('f5b140bb-1b8b-459a-87d1-013fff4908ee');\n",
       "var x = new MutationObserver(function (mutations, observer) {{\n",
       "        var display = window.getComputedStyle(gd).display;\n",
       "        if (!display || display === 'none') {{\n",
       "            console.log([gd, 'removed!']);\n",
       "            Plotly.purge(gd);\n",
       "            observer.disconnect();\n",
       "        }}\n",
       "}});\n",
       "\n",
       "// Listen for the removal of the full notebook cells\n",
       "var notebookContainer = gd.closest('#notebook-container');\n",
       "if (notebookContainer) {{\n",
       "    x.observe(notebookContainer, {childList: true});\n",
       "}}\n",
       "\n",
       "// Listen for the clearing of the current output cell\n",
       "var outputEl = gd.closest('.output');\n",
       "if (outputEl) {{\n",
       "    x.observe(outputEl, {childList: true});\n",
       "}}\n",
       "\n",
       "                        })\n",
       "                };\n",
       "                });\n",
       "            </script>\n",
       "        </div>"
      ]
     },
     "metadata": {},
     "output_type": "display_data"
    }
   ],
   "source": [
    "plot_model(kmeans)"
   ]
  },
  {
   "cell_type": "code",
   "execution_count": 61,
   "metadata": {},
   "outputs": [
    {
     "data": {
      "text/html": [
       "<div>\n",
       "<style scoped>\n",
       "    .dataframe tbody tr th:only-of-type {\n",
       "        vertical-align: middle;\n",
       "    }\n",
       "\n",
       "    .dataframe tbody tr th {\n",
       "        vertical-align: top;\n",
       "    }\n",
       "\n",
       "    .dataframe thead th {\n",
       "        text-align: right;\n",
       "    }\n",
       "</style>\n",
       "<table border=\"1\" class=\"dataframe\">\n",
       "  <thead>\n",
       "    <tr style=\"text-align: right;\">\n",
       "      <th></th>\n",
       "      <th>age</th>\n",
       "      <th>sex</th>\n",
       "      <th>bmi</th>\n",
       "      <th>children</th>\n",
       "      <th>smoker</th>\n",
       "      <th>region</th>\n",
       "      <th>charges</th>\n",
       "    </tr>\n",
       "  </thead>\n",
       "  <tbody>\n",
       "    <tr>\n",
       "      <th>0</th>\n",
       "      <td>19</td>\n",
       "      <td>female</td>\n",
       "      <td>27.900</td>\n",
       "      <td>0</td>\n",
       "      <td>yes</td>\n",
       "      <td>southwest</td>\n",
       "      <td>16884.92400</td>\n",
       "    </tr>\n",
       "    <tr>\n",
       "      <th>1</th>\n",
       "      <td>18</td>\n",
       "      <td>male</td>\n",
       "      <td>33.770</td>\n",
       "      <td>1</td>\n",
       "      <td>no</td>\n",
       "      <td>southeast</td>\n",
       "      <td>1725.55230</td>\n",
       "    </tr>\n",
       "    <tr>\n",
       "      <th>2</th>\n",
       "      <td>28</td>\n",
       "      <td>male</td>\n",
       "      <td>33.000</td>\n",
       "      <td>3</td>\n",
       "      <td>no</td>\n",
       "      <td>southeast</td>\n",
       "      <td>4449.46200</td>\n",
       "    </tr>\n",
       "    <tr>\n",
       "      <th>3</th>\n",
       "      <td>33</td>\n",
       "      <td>male</td>\n",
       "      <td>22.705</td>\n",
       "      <td>0</td>\n",
       "      <td>no</td>\n",
       "      <td>northwest</td>\n",
       "      <td>21984.47061</td>\n",
       "    </tr>\n",
       "    <tr>\n",
       "      <th>4</th>\n",
       "      <td>32</td>\n",
       "      <td>male</td>\n",
       "      <td>28.880</td>\n",
       "      <td>0</td>\n",
       "      <td>no</td>\n",
       "      <td>northwest</td>\n",
       "      <td>3866.85520</td>\n",
       "    </tr>\n",
       "  </tbody>\n",
       "</table>\n",
       "</div>"
      ],
      "text/plain": [
       "   age     sex     bmi  children smoker     region      charges\n",
       "0   19  female  27.900         0    yes  southwest  16884.92400\n",
       "1   18    male  33.770         1     no  southeast   1725.55230\n",
       "2   28    male  33.000         3     no  southeast   4449.46200\n",
       "3   33    male  22.705         0     no  northwest  21984.47061\n",
       "4   32    male  28.880         0     no  northwest   3866.85520"
      ]
     },
     "metadata": {},
     "output_type": "display_data"
    }
   ],
   "source": [
    "#####Data preprocessing\n",
    "##### train test split\n",
    "insurance=get_data('insurance')"
   ]
  },
  {
   "cell_type": "code",
   "execution_count": 62,
   "metadata": {
    "scrolled": false
   },
   "outputs": [
    {
     "name": "stdout",
     "output_type": "stream",
     "text": [
      " \n",
      "Setup Succesfully Completed!\n"
     ]
    },
    {
     "data": {
      "text/html": [
       "<style  type=\"text/css\" >\n",
       "</style><table id=\"T_03ba95c2_cf69_11ea_aa58_e4029bda51a0\" ><thead>    <tr>        <th class=\"blank level0\" ></th>        <th class=\"col_heading level0 col0\" >Description</th>        <th class=\"col_heading level0 col1\" >Value</th>    </tr></thead><tbody>\n",
       "                <tr>\n",
       "                        <th id=\"T_03ba95c2_cf69_11ea_aa58_e4029bda51a0level0_row0\" class=\"row_heading level0 row0\" >0</th>\n",
       "                        <td id=\"T_03ba95c2_cf69_11ea_aa58_e4029bda51a0row0_col0\" class=\"data row0 col0\" >session_id</td>\n",
       "                        <td id=\"T_03ba95c2_cf69_11ea_aa58_e4029bda51a0row0_col1\" class=\"data row0 col1\" >1964</td>\n",
       "            </tr>\n",
       "            <tr>\n",
       "                        <th id=\"T_03ba95c2_cf69_11ea_aa58_e4029bda51a0level0_row1\" class=\"row_heading level0 row1\" >1</th>\n",
       "                        <td id=\"T_03ba95c2_cf69_11ea_aa58_e4029bda51a0row1_col0\" class=\"data row1 col0\" >Transform Target </td>\n",
       "                        <td id=\"T_03ba95c2_cf69_11ea_aa58_e4029bda51a0row1_col1\" class=\"data row1 col1\" >False</td>\n",
       "            </tr>\n",
       "            <tr>\n",
       "                        <th id=\"T_03ba95c2_cf69_11ea_aa58_e4029bda51a0level0_row2\" class=\"row_heading level0 row2\" >2</th>\n",
       "                        <td id=\"T_03ba95c2_cf69_11ea_aa58_e4029bda51a0row2_col0\" class=\"data row2 col0\" >Transform Target Method</td>\n",
       "                        <td id=\"T_03ba95c2_cf69_11ea_aa58_e4029bda51a0row2_col1\" class=\"data row2 col1\" >None</td>\n",
       "            </tr>\n",
       "            <tr>\n",
       "                        <th id=\"T_03ba95c2_cf69_11ea_aa58_e4029bda51a0level0_row3\" class=\"row_heading level0 row3\" >3</th>\n",
       "                        <td id=\"T_03ba95c2_cf69_11ea_aa58_e4029bda51a0row3_col0\" class=\"data row3 col0\" >Original Data</td>\n",
       "                        <td id=\"T_03ba95c2_cf69_11ea_aa58_e4029bda51a0row3_col1\" class=\"data row3 col1\" >(1338, 7)</td>\n",
       "            </tr>\n",
       "            <tr>\n",
       "                        <th id=\"T_03ba95c2_cf69_11ea_aa58_e4029bda51a0level0_row4\" class=\"row_heading level0 row4\" >4</th>\n",
       "                        <td id=\"T_03ba95c2_cf69_11ea_aa58_e4029bda51a0row4_col0\" class=\"data row4 col0\" >Missing Values </td>\n",
       "                        <td id=\"T_03ba95c2_cf69_11ea_aa58_e4029bda51a0row4_col1\" class=\"data row4 col1\" >False</td>\n",
       "            </tr>\n",
       "            <tr>\n",
       "                        <th id=\"T_03ba95c2_cf69_11ea_aa58_e4029bda51a0level0_row5\" class=\"row_heading level0 row5\" >5</th>\n",
       "                        <td id=\"T_03ba95c2_cf69_11ea_aa58_e4029bda51a0row5_col0\" class=\"data row5 col0\" >Numeric Features </td>\n",
       "                        <td id=\"T_03ba95c2_cf69_11ea_aa58_e4029bda51a0row5_col1\" class=\"data row5 col1\" >2</td>\n",
       "            </tr>\n",
       "            <tr>\n",
       "                        <th id=\"T_03ba95c2_cf69_11ea_aa58_e4029bda51a0level0_row6\" class=\"row_heading level0 row6\" >6</th>\n",
       "                        <td id=\"T_03ba95c2_cf69_11ea_aa58_e4029bda51a0row6_col0\" class=\"data row6 col0\" >Categorical Features </td>\n",
       "                        <td id=\"T_03ba95c2_cf69_11ea_aa58_e4029bda51a0row6_col1\" class=\"data row6 col1\" >4</td>\n",
       "            </tr>\n",
       "            <tr>\n",
       "                        <th id=\"T_03ba95c2_cf69_11ea_aa58_e4029bda51a0level0_row7\" class=\"row_heading level0 row7\" >7</th>\n",
       "                        <td id=\"T_03ba95c2_cf69_11ea_aa58_e4029bda51a0row7_col0\" class=\"data row7 col0\" >Ordinal Features </td>\n",
       "                        <td id=\"T_03ba95c2_cf69_11ea_aa58_e4029bda51a0row7_col1\" class=\"data row7 col1\" >False</td>\n",
       "            </tr>\n",
       "            <tr>\n",
       "                        <th id=\"T_03ba95c2_cf69_11ea_aa58_e4029bda51a0level0_row8\" class=\"row_heading level0 row8\" >8</th>\n",
       "                        <td id=\"T_03ba95c2_cf69_11ea_aa58_e4029bda51a0row8_col0\" class=\"data row8 col0\" >High Cardinality Features </td>\n",
       "                        <td id=\"T_03ba95c2_cf69_11ea_aa58_e4029bda51a0row8_col1\" class=\"data row8 col1\" >False</td>\n",
       "            </tr>\n",
       "            <tr>\n",
       "                        <th id=\"T_03ba95c2_cf69_11ea_aa58_e4029bda51a0level0_row9\" class=\"row_heading level0 row9\" >9</th>\n",
       "                        <td id=\"T_03ba95c2_cf69_11ea_aa58_e4029bda51a0row9_col0\" class=\"data row9 col0\" >High Cardinality Method </td>\n",
       "                        <td id=\"T_03ba95c2_cf69_11ea_aa58_e4029bda51a0row9_col1\" class=\"data row9 col1\" >None</td>\n",
       "            </tr>\n",
       "            <tr>\n",
       "                        <th id=\"T_03ba95c2_cf69_11ea_aa58_e4029bda51a0level0_row10\" class=\"row_heading level0 row10\" >10</th>\n",
       "                        <td id=\"T_03ba95c2_cf69_11ea_aa58_e4029bda51a0row10_col0\" class=\"data row10 col0\" >Sampled Data</td>\n",
       "                        <td id=\"T_03ba95c2_cf69_11ea_aa58_e4029bda51a0row10_col1\" class=\"data row10 col1\" >(1338, 7)</td>\n",
       "            </tr>\n",
       "            <tr>\n",
       "                        <th id=\"T_03ba95c2_cf69_11ea_aa58_e4029bda51a0level0_row11\" class=\"row_heading level0 row11\" >11</th>\n",
       "                        <td id=\"T_03ba95c2_cf69_11ea_aa58_e4029bda51a0row11_col0\" class=\"data row11 col0\" >Transformed Train Set</td>\n",
       "                        <td id=\"T_03ba95c2_cf69_11ea_aa58_e4029bda51a0row11_col1\" class=\"data row11 col1\" >(669, 14)</td>\n",
       "            </tr>\n",
       "            <tr>\n",
       "                        <th id=\"T_03ba95c2_cf69_11ea_aa58_e4029bda51a0level0_row12\" class=\"row_heading level0 row12\" >12</th>\n",
       "                        <td id=\"T_03ba95c2_cf69_11ea_aa58_e4029bda51a0row12_col0\" class=\"data row12 col0\" >Transformed Test Set</td>\n",
       "                        <td id=\"T_03ba95c2_cf69_11ea_aa58_e4029bda51a0row12_col1\" class=\"data row12 col1\" >(669, 14)</td>\n",
       "            </tr>\n",
       "            <tr>\n",
       "                        <th id=\"T_03ba95c2_cf69_11ea_aa58_e4029bda51a0level0_row13\" class=\"row_heading level0 row13\" >13</th>\n",
       "                        <td id=\"T_03ba95c2_cf69_11ea_aa58_e4029bda51a0row13_col0\" class=\"data row13 col0\" >Numeric Imputer </td>\n",
       "                        <td id=\"T_03ba95c2_cf69_11ea_aa58_e4029bda51a0row13_col1\" class=\"data row13 col1\" >mean</td>\n",
       "            </tr>\n",
       "            <tr>\n",
       "                        <th id=\"T_03ba95c2_cf69_11ea_aa58_e4029bda51a0level0_row14\" class=\"row_heading level0 row14\" >14</th>\n",
       "                        <td id=\"T_03ba95c2_cf69_11ea_aa58_e4029bda51a0row14_col0\" class=\"data row14 col0\" >Categorical Imputer </td>\n",
       "                        <td id=\"T_03ba95c2_cf69_11ea_aa58_e4029bda51a0row14_col1\" class=\"data row14 col1\" >constant</td>\n",
       "            </tr>\n",
       "            <tr>\n",
       "                        <th id=\"T_03ba95c2_cf69_11ea_aa58_e4029bda51a0level0_row15\" class=\"row_heading level0 row15\" >15</th>\n",
       "                        <td id=\"T_03ba95c2_cf69_11ea_aa58_e4029bda51a0row15_col0\" class=\"data row15 col0\" >Normalize </td>\n",
       "                        <td id=\"T_03ba95c2_cf69_11ea_aa58_e4029bda51a0row15_col1\" class=\"data row15 col1\" >False</td>\n",
       "            </tr>\n",
       "            <tr>\n",
       "                        <th id=\"T_03ba95c2_cf69_11ea_aa58_e4029bda51a0level0_row16\" class=\"row_heading level0 row16\" >16</th>\n",
       "                        <td id=\"T_03ba95c2_cf69_11ea_aa58_e4029bda51a0row16_col0\" class=\"data row16 col0\" >Normalize Method </td>\n",
       "                        <td id=\"T_03ba95c2_cf69_11ea_aa58_e4029bda51a0row16_col1\" class=\"data row16 col1\" >None</td>\n",
       "            </tr>\n",
       "            <tr>\n",
       "                        <th id=\"T_03ba95c2_cf69_11ea_aa58_e4029bda51a0level0_row17\" class=\"row_heading level0 row17\" >17</th>\n",
       "                        <td id=\"T_03ba95c2_cf69_11ea_aa58_e4029bda51a0row17_col0\" class=\"data row17 col0\" >Transformation </td>\n",
       "                        <td id=\"T_03ba95c2_cf69_11ea_aa58_e4029bda51a0row17_col1\" class=\"data row17 col1\" >False</td>\n",
       "            </tr>\n",
       "            <tr>\n",
       "                        <th id=\"T_03ba95c2_cf69_11ea_aa58_e4029bda51a0level0_row18\" class=\"row_heading level0 row18\" >18</th>\n",
       "                        <td id=\"T_03ba95c2_cf69_11ea_aa58_e4029bda51a0row18_col0\" class=\"data row18 col0\" >Transformation Method </td>\n",
       "                        <td id=\"T_03ba95c2_cf69_11ea_aa58_e4029bda51a0row18_col1\" class=\"data row18 col1\" >None</td>\n",
       "            </tr>\n",
       "            <tr>\n",
       "                        <th id=\"T_03ba95c2_cf69_11ea_aa58_e4029bda51a0level0_row19\" class=\"row_heading level0 row19\" >19</th>\n",
       "                        <td id=\"T_03ba95c2_cf69_11ea_aa58_e4029bda51a0row19_col0\" class=\"data row19 col0\" >PCA </td>\n",
       "                        <td id=\"T_03ba95c2_cf69_11ea_aa58_e4029bda51a0row19_col1\" class=\"data row19 col1\" >False</td>\n",
       "            </tr>\n",
       "            <tr>\n",
       "                        <th id=\"T_03ba95c2_cf69_11ea_aa58_e4029bda51a0level0_row20\" class=\"row_heading level0 row20\" >20</th>\n",
       "                        <td id=\"T_03ba95c2_cf69_11ea_aa58_e4029bda51a0row20_col0\" class=\"data row20 col0\" >PCA Method </td>\n",
       "                        <td id=\"T_03ba95c2_cf69_11ea_aa58_e4029bda51a0row20_col1\" class=\"data row20 col1\" >None</td>\n",
       "            </tr>\n",
       "            <tr>\n",
       "                        <th id=\"T_03ba95c2_cf69_11ea_aa58_e4029bda51a0level0_row21\" class=\"row_heading level0 row21\" >21</th>\n",
       "                        <td id=\"T_03ba95c2_cf69_11ea_aa58_e4029bda51a0row21_col0\" class=\"data row21 col0\" >PCA Components </td>\n",
       "                        <td id=\"T_03ba95c2_cf69_11ea_aa58_e4029bda51a0row21_col1\" class=\"data row21 col1\" >None</td>\n",
       "            </tr>\n",
       "            <tr>\n",
       "                        <th id=\"T_03ba95c2_cf69_11ea_aa58_e4029bda51a0level0_row22\" class=\"row_heading level0 row22\" >22</th>\n",
       "                        <td id=\"T_03ba95c2_cf69_11ea_aa58_e4029bda51a0row22_col0\" class=\"data row22 col0\" >Ignore Low Variance </td>\n",
       "                        <td id=\"T_03ba95c2_cf69_11ea_aa58_e4029bda51a0row22_col1\" class=\"data row22 col1\" >False</td>\n",
       "            </tr>\n",
       "            <tr>\n",
       "                        <th id=\"T_03ba95c2_cf69_11ea_aa58_e4029bda51a0level0_row23\" class=\"row_heading level0 row23\" >23</th>\n",
       "                        <td id=\"T_03ba95c2_cf69_11ea_aa58_e4029bda51a0row23_col0\" class=\"data row23 col0\" >Combine Rare Levels </td>\n",
       "                        <td id=\"T_03ba95c2_cf69_11ea_aa58_e4029bda51a0row23_col1\" class=\"data row23 col1\" >False</td>\n",
       "            </tr>\n",
       "            <tr>\n",
       "                        <th id=\"T_03ba95c2_cf69_11ea_aa58_e4029bda51a0level0_row24\" class=\"row_heading level0 row24\" >24</th>\n",
       "                        <td id=\"T_03ba95c2_cf69_11ea_aa58_e4029bda51a0row24_col0\" class=\"data row24 col0\" >Rare Level Threshold </td>\n",
       "                        <td id=\"T_03ba95c2_cf69_11ea_aa58_e4029bda51a0row24_col1\" class=\"data row24 col1\" >None</td>\n",
       "            </tr>\n",
       "            <tr>\n",
       "                        <th id=\"T_03ba95c2_cf69_11ea_aa58_e4029bda51a0level0_row25\" class=\"row_heading level0 row25\" >25</th>\n",
       "                        <td id=\"T_03ba95c2_cf69_11ea_aa58_e4029bda51a0row25_col0\" class=\"data row25 col0\" >Numeric Binning </td>\n",
       "                        <td id=\"T_03ba95c2_cf69_11ea_aa58_e4029bda51a0row25_col1\" class=\"data row25 col1\" >False</td>\n",
       "            </tr>\n",
       "            <tr>\n",
       "                        <th id=\"T_03ba95c2_cf69_11ea_aa58_e4029bda51a0level0_row26\" class=\"row_heading level0 row26\" >26</th>\n",
       "                        <td id=\"T_03ba95c2_cf69_11ea_aa58_e4029bda51a0row26_col0\" class=\"data row26 col0\" >Remove Outliers </td>\n",
       "                        <td id=\"T_03ba95c2_cf69_11ea_aa58_e4029bda51a0row26_col1\" class=\"data row26 col1\" >False</td>\n",
       "            </tr>\n",
       "            <tr>\n",
       "                        <th id=\"T_03ba95c2_cf69_11ea_aa58_e4029bda51a0level0_row27\" class=\"row_heading level0 row27\" >27</th>\n",
       "                        <td id=\"T_03ba95c2_cf69_11ea_aa58_e4029bda51a0row27_col0\" class=\"data row27 col0\" >Outliers Threshold </td>\n",
       "                        <td id=\"T_03ba95c2_cf69_11ea_aa58_e4029bda51a0row27_col1\" class=\"data row27 col1\" >None</td>\n",
       "            </tr>\n",
       "            <tr>\n",
       "                        <th id=\"T_03ba95c2_cf69_11ea_aa58_e4029bda51a0level0_row28\" class=\"row_heading level0 row28\" >28</th>\n",
       "                        <td id=\"T_03ba95c2_cf69_11ea_aa58_e4029bda51a0row28_col0\" class=\"data row28 col0\" >Remove Multicollinearity </td>\n",
       "                        <td id=\"T_03ba95c2_cf69_11ea_aa58_e4029bda51a0row28_col1\" class=\"data row28 col1\" >False</td>\n",
       "            </tr>\n",
       "            <tr>\n",
       "                        <th id=\"T_03ba95c2_cf69_11ea_aa58_e4029bda51a0level0_row29\" class=\"row_heading level0 row29\" >29</th>\n",
       "                        <td id=\"T_03ba95c2_cf69_11ea_aa58_e4029bda51a0row29_col0\" class=\"data row29 col0\" >Multicollinearity Threshold </td>\n",
       "                        <td id=\"T_03ba95c2_cf69_11ea_aa58_e4029bda51a0row29_col1\" class=\"data row29 col1\" >None</td>\n",
       "            </tr>\n",
       "            <tr>\n",
       "                        <th id=\"T_03ba95c2_cf69_11ea_aa58_e4029bda51a0level0_row30\" class=\"row_heading level0 row30\" >30</th>\n",
       "                        <td id=\"T_03ba95c2_cf69_11ea_aa58_e4029bda51a0row30_col0\" class=\"data row30 col0\" >Clustering </td>\n",
       "                        <td id=\"T_03ba95c2_cf69_11ea_aa58_e4029bda51a0row30_col1\" class=\"data row30 col1\" >False</td>\n",
       "            </tr>\n",
       "            <tr>\n",
       "                        <th id=\"T_03ba95c2_cf69_11ea_aa58_e4029bda51a0level0_row31\" class=\"row_heading level0 row31\" >31</th>\n",
       "                        <td id=\"T_03ba95c2_cf69_11ea_aa58_e4029bda51a0row31_col0\" class=\"data row31 col0\" >Clustering Iteration </td>\n",
       "                        <td id=\"T_03ba95c2_cf69_11ea_aa58_e4029bda51a0row31_col1\" class=\"data row31 col1\" >None</td>\n",
       "            </tr>\n",
       "            <tr>\n",
       "                        <th id=\"T_03ba95c2_cf69_11ea_aa58_e4029bda51a0level0_row32\" class=\"row_heading level0 row32\" >32</th>\n",
       "                        <td id=\"T_03ba95c2_cf69_11ea_aa58_e4029bda51a0row32_col0\" class=\"data row32 col0\" >Polynomial Features </td>\n",
       "                        <td id=\"T_03ba95c2_cf69_11ea_aa58_e4029bda51a0row32_col1\" class=\"data row32 col1\" >False</td>\n",
       "            </tr>\n",
       "            <tr>\n",
       "                        <th id=\"T_03ba95c2_cf69_11ea_aa58_e4029bda51a0level0_row33\" class=\"row_heading level0 row33\" >33</th>\n",
       "                        <td id=\"T_03ba95c2_cf69_11ea_aa58_e4029bda51a0row33_col0\" class=\"data row33 col0\" >Polynomial Degree </td>\n",
       "                        <td id=\"T_03ba95c2_cf69_11ea_aa58_e4029bda51a0row33_col1\" class=\"data row33 col1\" >None</td>\n",
       "            </tr>\n",
       "            <tr>\n",
       "                        <th id=\"T_03ba95c2_cf69_11ea_aa58_e4029bda51a0level0_row34\" class=\"row_heading level0 row34\" >34</th>\n",
       "                        <td id=\"T_03ba95c2_cf69_11ea_aa58_e4029bda51a0row34_col0\" class=\"data row34 col0\" >Trignometry Features </td>\n",
       "                        <td id=\"T_03ba95c2_cf69_11ea_aa58_e4029bda51a0row34_col1\" class=\"data row34 col1\" >False</td>\n",
       "            </tr>\n",
       "            <tr>\n",
       "                        <th id=\"T_03ba95c2_cf69_11ea_aa58_e4029bda51a0level0_row35\" class=\"row_heading level0 row35\" >35</th>\n",
       "                        <td id=\"T_03ba95c2_cf69_11ea_aa58_e4029bda51a0row35_col0\" class=\"data row35 col0\" >Polynomial Threshold </td>\n",
       "                        <td id=\"T_03ba95c2_cf69_11ea_aa58_e4029bda51a0row35_col1\" class=\"data row35 col1\" >None</td>\n",
       "            </tr>\n",
       "            <tr>\n",
       "                        <th id=\"T_03ba95c2_cf69_11ea_aa58_e4029bda51a0level0_row36\" class=\"row_heading level0 row36\" >36</th>\n",
       "                        <td id=\"T_03ba95c2_cf69_11ea_aa58_e4029bda51a0row36_col0\" class=\"data row36 col0\" >Group Features </td>\n",
       "                        <td id=\"T_03ba95c2_cf69_11ea_aa58_e4029bda51a0row36_col1\" class=\"data row36 col1\" >False</td>\n",
       "            </tr>\n",
       "            <tr>\n",
       "                        <th id=\"T_03ba95c2_cf69_11ea_aa58_e4029bda51a0level0_row37\" class=\"row_heading level0 row37\" >37</th>\n",
       "                        <td id=\"T_03ba95c2_cf69_11ea_aa58_e4029bda51a0row37_col0\" class=\"data row37 col0\" >Feature Selection </td>\n",
       "                        <td id=\"T_03ba95c2_cf69_11ea_aa58_e4029bda51a0row37_col1\" class=\"data row37 col1\" >False</td>\n",
       "            </tr>\n",
       "            <tr>\n",
       "                        <th id=\"T_03ba95c2_cf69_11ea_aa58_e4029bda51a0level0_row38\" class=\"row_heading level0 row38\" >38</th>\n",
       "                        <td id=\"T_03ba95c2_cf69_11ea_aa58_e4029bda51a0row38_col0\" class=\"data row38 col0\" >Features Selection Threshold </td>\n",
       "                        <td id=\"T_03ba95c2_cf69_11ea_aa58_e4029bda51a0row38_col1\" class=\"data row38 col1\" >None</td>\n",
       "            </tr>\n",
       "            <tr>\n",
       "                        <th id=\"T_03ba95c2_cf69_11ea_aa58_e4029bda51a0level0_row39\" class=\"row_heading level0 row39\" >39</th>\n",
       "                        <td id=\"T_03ba95c2_cf69_11ea_aa58_e4029bda51a0row39_col0\" class=\"data row39 col0\" >Feature Interaction </td>\n",
       "                        <td id=\"T_03ba95c2_cf69_11ea_aa58_e4029bda51a0row39_col1\" class=\"data row39 col1\" >False</td>\n",
       "            </tr>\n",
       "            <tr>\n",
       "                        <th id=\"T_03ba95c2_cf69_11ea_aa58_e4029bda51a0level0_row40\" class=\"row_heading level0 row40\" >40</th>\n",
       "                        <td id=\"T_03ba95c2_cf69_11ea_aa58_e4029bda51a0row40_col0\" class=\"data row40 col0\" >Feature Ratio </td>\n",
       "                        <td id=\"T_03ba95c2_cf69_11ea_aa58_e4029bda51a0row40_col1\" class=\"data row40 col1\" >False</td>\n",
       "            </tr>\n",
       "            <tr>\n",
       "                        <th id=\"T_03ba95c2_cf69_11ea_aa58_e4029bda51a0level0_row41\" class=\"row_heading level0 row41\" >41</th>\n",
       "                        <td id=\"T_03ba95c2_cf69_11ea_aa58_e4029bda51a0row41_col0\" class=\"data row41 col0\" >Interaction Threshold </td>\n",
       "                        <td id=\"T_03ba95c2_cf69_11ea_aa58_e4029bda51a0row41_col1\" class=\"data row41 col1\" >None</td>\n",
       "            </tr>\n",
       "    </tbody></table>"
      ],
      "text/plain": [
       "<pandas.io.formats.style.Styler at 0x174d6f90548>"
      ]
     },
     "metadata": {},
     "output_type": "display_data"
    },
    {
     "data": {
      "text/plain": [
       "(       age     bmi  sex_male  children_0  children_1  children_2  children_3  \\\n",
       " 0     19.0  27.900       0.0         1.0         0.0         0.0         0.0   \n",
       " 1     18.0  33.770       1.0         0.0         1.0         0.0         0.0   \n",
       " 2     28.0  33.000       1.0         0.0         0.0         0.0         1.0   \n",
       " 3     33.0  22.705       1.0         1.0         0.0         0.0         0.0   \n",
       " 4     32.0  28.880       1.0         1.0         0.0         0.0         0.0   \n",
       " ...    ...     ...       ...         ...         ...         ...         ...   \n",
       " 1333  50.0  30.970       1.0         0.0         0.0         0.0         1.0   \n",
       " 1334  18.0  31.920       0.0         1.0         0.0         0.0         0.0   \n",
       " 1335  18.0  36.850       0.0         1.0         0.0         0.0         0.0   \n",
       " 1336  21.0  25.800       0.0         1.0         0.0         0.0         0.0   \n",
       " 1337  61.0  29.070       0.0         1.0         0.0         0.0         0.0   \n",
       " \n",
       "       children_4  children_5  smoker_yes  region_northeast  region_northwest  \\\n",
       " 0            0.0         0.0         1.0               0.0               0.0   \n",
       " 1            0.0         0.0         0.0               0.0               0.0   \n",
       " 2            0.0         0.0         0.0               0.0               0.0   \n",
       " 3            0.0         0.0         0.0               0.0               1.0   \n",
       " 4            0.0         0.0         0.0               0.0               1.0   \n",
       " ...          ...         ...         ...               ...               ...   \n",
       " 1333         0.0         0.0         0.0               0.0               1.0   \n",
       " 1334         0.0         0.0         0.0               1.0               0.0   \n",
       " 1335         0.0         0.0         0.0               0.0               0.0   \n",
       " 1336         0.0         0.0         0.0               0.0               0.0   \n",
       " 1337         0.0         0.0         1.0               0.0               1.0   \n",
       " \n",
       "       region_southeast  region_southwest  \n",
       " 0                  0.0               1.0  \n",
       " 1                  1.0               0.0  \n",
       " 2                  1.0               0.0  \n",
       " 3                  0.0               0.0  \n",
       " 4                  0.0               0.0  \n",
       " ...                ...               ...  \n",
       " 1333               0.0               0.0  \n",
       " 1334               0.0               0.0  \n",
       " 1335               1.0               0.0  \n",
       " 1336               0.0               1.0  \n",
       " 1337               0.0               0.0  \n",
       " \n",
       " [1338 rows x 14 columns],\n",
       " 0       16884.92400\n",
       " 1        1725.55230\n",
       " 2        4449.46200\n",
       " 3       21984.47061\n",
       " 4        3866.85520\n",
       "            ...     \n",
       " 1333    10600.54830\n",
       " 1334     2205.98080\n",
       " 1335     1629.83350\n",
       " 1336     2007.94500\n",
       " 1337    29141.36030\n",
       " Name: charges, Length: 1338, dtype: float64,\n",
       "        age     bmi  sex_male  children_0  children_1  children_2  children_3  \\\n",
       " 1057  45.0  31.790       0.0         1.0         0.0         0.0         0.0   \n",
       " 229   47.0  25.460       1.0         0.0         0.0         1.0         0.0   \n",
       " 846   51.0  34.200       0.0         0.0         1.0         0.0         0.0   \n",
       " 122   20.0  28.975       0.0         1.0         0.0         0.0         0.0   \n",
       " 1185  45.0  23.560       1.0         0.0         0.0         1.0         0.0   \n",
       " ...    ...     ...       ...         ...         ...         ...         ...   \n",
       " 352   30.0  27.700       0.0         1.0         0.0         0.0         0.0   \n",
       " 484   48.0  34.300       1.0         0.0         0.0         0.0         1.0   \n",
       " 618   19.0  33.110       0.0         1.0         0.0         0.0         0.0   \n",
       " 349   19.0  27.835       1.0         1.0         0.0         0.0         0.0   \n",
       " 328   64.0  33.800       0.0         0.0         1.0         0.0         0.0   \n",
       " \n",
       "       children_4  children_5  smoker_yes  region_northeast  region_northwest  \\\n",
       " 1057         0.0         0.0         0.0               0.0               0.0   \n",
       " 229          0.0         0.0         0.0               1.0               0.0   \n",
       " 846          0.0         0.0         0.0               0.0               0.0   \n",
       " 122          0.0         0.0         0.0               0.0               1.0   \n",
       " 1185         0.0         0.0         0.0               1.0               0.0   \n",
       " ...          ...         ...         ...               ...               ...   \n",
       " 352          0.0         0.0         0.0               0.0               0.0   \n",
       " 484          0.0         0.0         0.0               0.0               0.0   \n",
       " 618          0.0         0.0         1.0               0.0               0.0   \n",
       " 349          0.0         0.0         0.0               0.0               1.0   \n",
       " 328          0.0         0.0         1.0               0.0               0.0   \n",
       " \n",
       "       region_southeast  region_southwest  \n",
       " 1057               1.0               0.0  \n",
       " 229                0.0               0.0  \n",
       " 846                0.0               1.0  \n",
       " 122                0.0               0.0  \n",
       " 1185               0.0               0.0  \n",
       " ...                ...               ...  \n",
       " 352                0.0               1.0  \n",
       " 484                0.0               1.0  \n",
       " 618                1.0               0.0  \n",
       " 349                0.0               0.0  \n",
       " 328                0.0               1.0  \n",
       " \n",
       " [669 rows x 14 columns],\n",
       "        age     bmi  sex_male  children_0  children_1  children_2  children_3  \\\n",
       " 399   18.0  38.170       0.0         1.0         0.0         0.0         0.0   \n",
       " 561   54.0  32.680       0.0         1.0         0.0         0.0         0.0   \n",
       " 956   54.0  30.800       1.0         0.0         1.0         0.0         0.0   \n",
       " 393   49.0  31.350       1.0         0.0         1.0         0.0         0.0   \n",
       " 137   22.0  25.175       1.0         1.0         0.0         0.0         0.0   \n",
       " ...    ...     ...       ...         ...         ...         ...         ...   \n",
       " 1061  57.0  27.940       1.0         0.0         1.0         0.0         0.0   \n",
       " 1114  23.0  24.510       1.0         1.0         0.0         0.0         0.0   \n",
       " 947   37.0  34.200       1.0         0.0         1.0         0.0         0.0   \n",
       " 986   43.0  30.115       1.0         0.0         0.0         0.0         1.0   \n",
       " 726   41.0  28.405       1.0         0.0         1.0         0.0         0.0   \n",
       " \n",
       "       children_4  children_5  smoker_yes  region_northeast  region_northwest  \\\n",
       " 399          0.0         0.0         0.0               0.0               0.0   \n",
       " 561          0.0         0.0         0.0               1.0               0.0   \n",
       " 956          0.0         0.0         1.0               0.0               0.0   \n",
       " 393          0.0         0.0         0.0               1.0               0.0   \n",
       " 137          0.0         0.0         0.0               0.0               1.0   \n",
       " ...          ...         ...         ...               ...               ...   \n",
       " 1061         0.0         0.0         0.0               0.0               0.0   \n",
       " 1114         0.0         0.0         0.0               1.0               0.0   \n",
       " 947          0.0         0.0         1.0               1.0               0.0   \n",
       " 986          0.0         0.0         0.0               0.0               1.0   \n",
       " 726          0.0         0.0         0.0               0.0               1.0   \n",
       " \n",
       "       region_southeast  region_southwest  \n",
       " 399                1.0               0.0  \n",
       " 561                0.0               0.0  \n",
       " 956                1.0               0.0  \n",
       " 393                0.0               0.0  \n",
       " 137                0.0               0.0  \n",
       " ...                ...               ...  \n",
       " 1061               1.0               0.0  \n",
       " 1114               0.0               0.0  \n",
       " 947                0.0               0.0  \n",
       " 986                0.0               0.0  \n",
       " 726                0.0               0.0  \n",
       " \n",
       " [669 rows x 14 columns],\n",
       " 1057    17929.30337\n",
       " 229      9225.25640\n",
       " 846      9872.70100\n",
       " 122      2257.47525\n",
       " 1185     8603.82340\n",
       "            ...     \n",
       " 352      3554.20300\n",
       " 484      9563.02900\n",
       " 618     34439.85590\n",
       " 349      1635.73365\n",
       " 328     47928.03000\n",
       " Name: charges, Length: 669, dtype: float64,\n",
       " 399      1631.66830\n",
       " 561     10923.93320\n",
       " 956     41999.52000\n",
       " 393      9290.13950\n",
       " 137      2045.68525\n",
       "            ...     \n",
       " 1061    11554.22360\n",
       " 1114     2396.09590\n",
       " 947     39047.28500\n",
       " 986      8410.04685\n",
       " 726      6664.68595\n",
       " Name: charges, Length: 669, dtype: float64,\n",
       " 1964,\n",
       " Pipeline(memory=None,\n",
       "          steps=[('dtypes',\n",
       "                  DataTypes_Auto_infer(categorical_features=[],\n",
       "                                       display_types=True, features_todrop=[],\n",
       "                                       ml_usecase='regression',\n",
       "                                       numerical_features=[], target='charges',\n",
       "                                       time_features=[])),\n",
       "                 ('imputer',\n",
       "                  Simple_Imputer(categorical_strategy='not_available',\n",
       "                                 numeric_strategy='mean',\n",
       "                                 target_variable=None)),\n",
       "                 ('new_levels1',\n",
       "                  New_Catagorical_Levels...\n",
       "                 ('group', Empty()), ('nonliner', Empty()), ('scaling', Empty()),\n",
       "                 ('P_transform', Empty()), ('pt_target', Empty()),\n",
       "                 ('binn', Empty()), ('rem_outliers', Empty()),\n",
       "                 ('cluster_all', Empty()), ('dummy', Dummify(target='charges')),\n",
       "                 ('fix_perfect', Remove_100(target='charges')),\n",
       "                 ('clean_names', Clean_Colum_Names()),\n",
       "                 ('feature_select', Empty()), ('fix_multi', Empty()),\n",
       "                 ('dfs', Empty()), ('pca', Empty())],\n",
       "          verbose=False),\n",
       " None,\n",
       " [('Regression Setup Config',\n",
       "                         Description      Value\n",
       "   0                      session_id       1964\n",
       "   1               Transform Target       False\n",
       "   2         Transform Target Method       None\n",
       "   3                   Original Data  (1338, 7)\n",
       "   4                 Missing Values       False\n",
       "   5               Numeric Features           2\n",
       "   6           Categorical Features           4\n",
       "   7               Ordinal Features       False\n",
       "   8      High Cardinality Features       False\n",
       "   9        High Cardinality Method        None\n",
       "   10                   Sampled Data  (1338, 7)\n",
       "   11          Transformed Train Set  (669, 14)\n",
       "   12           Transformed Test Set  (669, 14)\n",
       "   13               Numeric Imputer        mean\n",
       "   14           Categorical Imputer    constant\n",
       "   15                     Normalize       False\n",
       "   16              Normalize Method        None\n",
       "   17                Transformation       False\n",
       "   18         Transformation Method        None\n",
       "   19                           PCA       False\n",
       "   20                    PCA Method        None\n",
       "   21                PCA Components        None\n",
       "   22           Ignore Low Variance       False\n",
       "   23           Combine Rare Levels       False\n",
       "   24          Rare Level Threshold        None\n",
       "   25               Numeric Binning       False\n",
       "   26               Remove Outliers       False\n",
       "   27            Outliers Threshold        None\n",
       "   28      Remove Multicollinearity       False\n",
       "   29   Multicollinearity Threshold        None\n",
       "   30                    Clustering       False\n",
       "   31          Clustering Iteration        None\n",
       "   32           Polynomial Features       False\n",
       "   33             Polynomial Degree        None\n",
       "   34          Trignometry Features       False\n",
       "   35          Polynomial Threshold        None\n",
       "   36                Group Features       False\n",
       "   37             Feature Selection       False\n",
       "   38  Features Selection Threshold        None\n",
       "   39           Feature Interaction       False\n",
       "   40                 Feature Ratio       False\n",
       "   41         Interaction Threshold        None),\n",
       "  ('X_training Set',\n",
       "          age     bmi  sex_male  children_0  children_1  children_2  children_3  \\\n",
       "   1057  45.0  31.790       0.0         1.0         0.0         0.0         0.0   \n",
       "   229   47.0  25.460       1.0         0.0         0.0         1.0         0.0   \n",
       "   846   51.0  34.200       0.0         0.0         1.0         0.0         0.0   \n",
       "   122   20.0  28.975       0.0         1.0         0.0         0.0         0.0   \n",
       "   1185  45.0  23.560       1.0         0.0         0.0         1.0         0.0   \n",
       "   ...    ...     ...       ...         ...         ...         ...         ...   \n",
       "   352   30.0  27.700       0.0         1.0         0.0         0.0         0.0   \n",
       "   484   48.0  34.300       1.0         0.0         0.0         0.0         1.0   \n",
       "   618   19.0  33.110       0.0         1.0         0.0         0.0         0.0   \n",
       "   349   19.0  27.835       1.0         1.0         0.0         0.0         0.0   \n",
       "   328   64.0  33.800       0.0         0.0         1.0         0.0         0.0   \n",
       "   \n",
       "         children_4  children_5  smoker_yes  region_northeast  region_northwest  \\\n",
       "   1057         0.0         0.0         0.0               0.0               0.0   \n",
       "   229          0.0         0.0         0.0               1.0               0.0   \n",
       "   846          0.0         0.0         0.0               0.0               0.0   \n",
       "   122          0.0         0.0         0.0               0.0               1.0   \n",
       "   1185         0.0         0.0         0.0               1.0               0.0   \n",
       "   ...          ...         ...         ...               ...               ...   \n",
       "   352          0.0         0.0         0.0               0.0               0.0   \n",
       "   484          0.0         0.0         0.0               0.0               0.0   \n",
       "   618          0.0         0.0         1.0               0.0               0.0   \n",
       "   349          0.0         0.0         0.0               0.0               1.0   \n",
       "   328          0.0         0.0         1.0               0.0               0.0   \n",
       "   \n",
       "         region_southeast  region_southwest  \n",
       "   1057               1.0               0.0  \n",
       "   229                0.0               0.0  \n",
       "   846                0.0               1.0  \n",
       "   122                0.0               0.0  \n",
       "   1185               0.0               0.0  \n",
       "   ...                ...               ...  \n",
       "   352                0.0               1.0  \n",
       "   484                0.0               1.0  \n",
       "   618                1.0               0.0  \n",
       "   349                0.0               0.0  \n",
       "   328                0.0               1.0  \n",
       "   \n",
       "   [669 rows x 14 columns]),\n",
       "  ('y_training Set',\n",
       "   1057    17929.30337\n",
       "   229      9225.25640\n",
       "   846      9872.70100\n",
       "   122      2257.47525\n",
       "   1185     8603.82340\n",
       "              ...     \n",
       "   352      3554.20300\n",
       "   484      9563.02900\n",
       "   618     34439.85590\n",
       "   349      1635.73365\n",
       "   328     47928.03000\n",
       "   Name: charges, Length: 669, dtype: float64),\n",
       "  ('X_test Set',\n",
       "          age     bmi  sex_male  children_0  children_1  children_2  children_3  \\\n",
       "   399   18.0  38.170       0.0         1.0         0.0         0.0         0.0   \n",
       "   561   54.0  32.680       0.0         1.0         0.0         0.0         0.0   \n",
       "   956   54.0  30.800       1.0         0.0         1.0         0.0         0.0   \n",
       "   393   49.0  31.350       1.0         0.0         1.0         0.0         0.0   \n",
       "   137   22.0  25.175       1.0         1.0         0.0         0.0         0.0   \n",
       "   ...    ...     ...       ...         ...         ...         ...         ...   \n",
       "   1061  57.0  27.940       1.0         0.0         1.0         0.0         0.0   \n",
       "   1114  23.0  24.510       1.0         1.0         0.0         0.0         0.0   \n",
       "   947   37.0  34.200       1.0         0.0         1.0         0.0         0.0   \n",
       "   986   43.0  30.115       1.0         0.0         0.0         0.0         1.0   \n",
       "   726   41.0  28.405       1.0         0.0         1.0         0.0         0.0   \n",
       "   \n",
       "         children_4  children_5  smoker_yes  region_northeast  region_northwest  \\\n",
       "   399          0.0         0.0         0.0               0.0               0.0   \n",
       "   561          0.0         0.0         0.0               1.0               0.0   \n",
       "   956          0.0         0.0         1.0               0.0               0.0   \n",
       "   393          0.0         0.0         0.0               1.0               0.0   \n",
       "   137          0.0         0.0         0.0               0.0               1.0   \n",
       "   ...          ...         ...         ...               ...               ...   \n",
       "   1061         0.0         0.0         0.0               0.0               0.0   \n",
       "   1114         0.0         0.0         0.0               1.0               0.0   \n",
       "   947          0.0         0.0         1.0               1.0               0.0   \n",
       "   986          0.0         0.0         0.0               0.0               1.0   \n",
       "   726          0.0         0.0         0.0               0.0               1.0   \n",
       "   \n",
       "         region_southeast  region_southwest  \n",
       "   399                1.0               0.0  \n",
       "   561                0.0               0.0  \n",
       "   956                1.0               0.0  \n",
       "   393                0.0               0.0  \n",
       "   137                0.0               0.0  \n",
       "   ...                ...               ...  \n",
       "   1061               1.0               0.0  \n",
       "   1114               0.0               0.0  \n",
       "   947                0.0               0.0  \n",
       "   986                0.0               0.0  \n",
       "   726                0.0               0.0  \n",
       "   \n",
       "   [669 rows x 14 columns]),\n",
       "  ('y_test Set',\n",
       "   399      1631.66830\n",
       "   561     10923.93320\n",
       "   956     41999.52000\n",
       "   393      9290.13950\n",
       "   137      2045.68525\n",
       "              ...     \n",
       "   1061    11554.22360\n",
       "   1114     2396.09590\n",
       "   947     39047.28500\n",
       "   986      8410.04685\n",
       "   726      6664.68595\n",
       "   Name: charges, Length: 669, dtype: float64),\n",
       "  ('Transformation Pipeline',\n",
       "   Pipeline(memory=None,\n",
       "            steps=[('dtypes',\n",
       "                    DataTypes_Auto_infer(categorical_features=[],\n",
       "                                         display_types=True, features_todrop=[],\n",
       "                                         ml_usecase='regression',\n",
       "                                         numerical_features=[], target='charges',\n",
       "                                         time_features=[])),\n",
       "                   ('imputer',\n",
       "                    Simple_Imputer(categorical_strategy='not_available',\n",
       "                                   numeric_strategy='mean',\n",
       "                                   target_variable=None)),\n",
       "                   ('new_levels1',\n",
       "                    New_Catagorical_Levels...\n",
       "                   ('group', Empty()), ('nonliner', Empty()), ('scaling', Empty()),\n",
       "                   ('P_transform', Empty()), ('pt_target', Empty()),\n",
       "                   ('binn', Empty()), ('rem_outliers', Empty()),\n",
       "                   ('cluster_all', Empty()), ('dummy', Dummify(target='charges')),\n",
       "                   ('fix_perfect', Remove_100(target='charges')),\n",
       "                   ('clean_names', Clean_Colum_Names()),\n",
       "                   ('feature_select', Empty()), ('fix_multi', Empty()),\n",
       "                   ('dfs', Empty()), ('pca', Empty())],\n",
       "            verbose=False)),\n",
       "  ('Target Inverse Transformer', None)])"
      ]
     },
     "execution_count": 62,
     "metadata": {},
     "output_type": "execute_result"
    }
   ],
   "source": [
    "from pycaret.regression import*\n",
    "setup(data=insurance,target='charges',train_size=0.5)"
   ]
  },
  {
   "cell_type": "code",
   "execution_count": null,
   "metadata": {},
   "outputs": [],
   "source": []
  }
 ],
 "metadata": {
  "kernelspec": {
   "display_name": "Python 3",
   "language": "python",
   "name": "python3"
  },
  "language_info": {
   "codemirror_mode": {
    "name": "ipython",
    "version": 3
   },
   "file_extension": ".py",
   "mimetype": "text/x-python",
   "name": "python",
   "nbconvert_exporter": "python",
   "pygments_lexer": "ipython3",
   "version": "3.7.7"
  }
 },
 "nbformat": 4,
 "nbformat_minor": 4
}
